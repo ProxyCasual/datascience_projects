{
 "cells": [
  {
   "cell_type": "code",
   "execution_count": 1,
   "metadata": {
    "ExecuteTime": {
     "end_time": "2020-01-15T20:12:23.861083Z",
     "start_time": "2020-01-15T20:12:23.041527Z"
    }
   },
   "outputs": [],
   "source": [
    "import torch\n",
    "from torch import nn, optim\n",
    "import numpy as np\n",
    "import matplotlib.pyplot as plt"
   ]
  },
  {
   "cell_type": "code",
   "execution_count": 2,
   "metadata": {
    "ExecuteTime": {
     "end_time": "2020-01-15T20:12:24.085089Z",
     "start_time": "2020-01-15T20:12:23.863084Z"
    }
   },
   "outputs": [
    {
     "name": "stdout",
     "output_type": "stream",
     "text": [
      "using device: cuda\n"
     ]
    }
   ],
   "source": [
    "USE_GPU = True\n",
    "\n",
    "if USE_GPU and torch.cuda.is_available():\n",
    "    device = torch.device('cuda')\n",
    "else:\n",
    "    device = torch.device('cpu')\n",
    "\n",
    "print('using device:', device)"
   ]
  },
  {
   "cell_type": "code",
   "execution_count": 3,
   "metadata": {
    "ExecuteTime": {
     "end_time": "2020-01-15T20:12:24.112614Z",
     "start_time": "2020-01-15T20:12:24.087614Z"
    }
   },
   "outputs": [],
   "source": [
    "class SineTask():\n",
    "    def __init__(self):\n",
    "        self.a = np.random.uniform(0.1, 5.0)\n",
    "        self.b = np.random.uniform(0, 2*np.pi)\n",
    "        self.train_x = None\n",
    "    def y(self, x):\n",
    "        return self.a * np.sin(x + self.b)\n",
    "    def generate_data(self, K=10):\n",
    "        self.train_x = np.random.uniform(-5, 5, K)\n",
    "        return torch.FloatTensor(self.train_x).view(-1,1), torch.FloatTensor(self.y(self.train_x)).view(-1,1)\n",
    "    def generate_trick(self, K=10):\n",
    "        self.train_x = np.random.uniform(0, 5, K)\n",
    "        return torch.FloatTensor(self.train_x).view(-1,1), torch.FloatTensor(self.y(self.train_x)).view(-1,1)\n",
    "    def full_set(self):\n",
    "        points_x = np.arange(-5, 5, .2) #50 points\n",
    "        return torch.FloatTensor(points_x).view(-1,1), torch.FloatTensor(self.y(points_x)).view(-1,1)"
   ]
  },
  {
   "cell_type": "markdown",
   "metadata": {},
   "source": [
    "First fit a simple neural network to the points to form a sinusoid curve"
   ]
  },
  {
   "cell_type": "code",
   "execution_count": 4,
   "metadata": {
    "ExecuteTime": {
     "end_time": "2020-01-15T20:12:24.126613Z",
     "start_time": "2020-01-15T20:12:24.115613Z"
    }
   },
   "outputs": [],
   "source": [
    "class SineModel(nn.Module):\n",
    "    def __init__(self):\n",
    "        super().__init__()\n",
    "        self.layers = nn.Sequential(\n",
    "            nn.Linear(1, 40),\n",
    "            nn.ReLU(),\n",
    "            nn.Linear(40, 40),\n",
    "            nn.ReLU(),\n",
    "            nn.Linear(40, 1)\n",
    "        )\n",
    "    def forward(self, x):\n",
    "        return self.layers(x)"
   ]
  },
  {
   "cell_type": "code",
   "execution_count": 5,
   "metadata": {
    "ExecuteTime": {
     "end_time": "2020-01-15T20:12:36.999445Z",
     "start_time": "2020-01-15T20:12:24.129611Z"
    }
   },
   "outputs": [],
   "source": [
    "sample_task = SineTask()\n",
    "test_x, test_y = sample_task.full_set()\n",
    "model = SineModel()\n",
    "loss_fn = nn.MSELoss()\n",
    "\n",
    "def train(model):\n",
    "    optimizer = optim.Adam(model.parameters())\n",
    "    x, y = sample_task.generate_data(10000)\n",
    "    for i in range(x.shape[0]):\n",
    "        loss = loss_fn(model(x[i]), y[i])\n",
    "        optimizer.zero_grad()\n",
    "        loss.backward()\n",
    "        optimizer.step()\n",
    "        \n",
    "train(model)"
   ]
  },
  {
   "cell_type": "code",
   "execution_count": 6,
   "metadata": {
    "ExecuteTime": {
     "end_time": "2020-01-15T20:12:37.190448Z",
     "start_time": "2020-01-15T20:12:37.002445Z"
    }
   },
   "outputs": [
    {
     "data": {
      "image/png": "[encoded data removed]",
      "text/plain": [
       "<Figure size 432x288 with 1 Axes>"
      ]
     },
     "metadata": {
      "needs_background": "light"
     },
     "output_type": "display_data"
    }
   ],
   "source": [
    "plt.plot(test_x, test_y)\n",
    "with torch.no_grad():\n",
    "    plt.plot(test_x, model(test_x))"
   ]
  },
  {
   "cell_type": "markdown",
   "metadata": {},
   "source": [
    "We learned one sine function with one particular set of parameters using supervised learning as usual. What if we wanted to approximate the sine function the generated the data given a lot less points? This is where meta-learning comes in. Instead of having all these observations for one task, we leverage a lot less observations for each task over many tasks."
   ]
  },
  {
   "cell_type": "code",
   "execution_count": 7,
   "metadata": {
    "ExecuteTime": {
     "end_time": "2020-01-15T20:12:37.203449Z",
     "start_time": "2020-01-15T20:12:37.192448Z"
    }
   },
   "outputs": [],
   "source": [
    "class SineModel(nn.Module):\n",
    "    def __init__(self):\n",
    "        super().__init__()\n",
    "        self.layers = nn.Sequential(\n",
    "            nn.Linear(1, 40),\n",
    "            nn.ReLU(),\n",
    "            nn.Linear(40, 40),\n",
    "            nn.ReLU(),\n",
    "            nn.Linear(40, 1)\n",
    "        )\n",
    "    def forward(self, x, params=None):\n",
    "        if params == None:\n",
    "            return self.layers(x)\n",
    "        else:\n",
    "            x = nn.functional.linear(x, params[0], params[1])\n",
    "            x = nn.functional.relu(x)\n",
    "            x = nn.functional.linear(x, params[2], params[3])\n",
    "            x = nn.functional.relu(x)\n",
    "            x = nn.functional.linear(x, params[4], params[5])\n",
    "            return x"
   ]
  },
  {
   "cell_type": "code",
   "execution_count": 8,
   "metadata": {
    "ExecuteTime": {
     "end_time": "2020-01-15T20:12:37.220973Z",
     "start_time": "2020-01-15T20:12:37.205974Z"
    }
   },
   "outputs": [],
   "source": [
    "ALPHA = .01\n",
    "BETA = .001\n",
    "NUM_ITERS = 10000\n",
    "BATCH_SIZE = 10\n",
    "K = 5\n",
    "\n",
    "#train on BATCH_SIZE samples from tasks, where each sample contains one training example. Each example is a dataset of K points\n",
    "\n",
    "def train(model, optimizer, tasks):\n",
    "    #technically epoch isn't the right term here\n",
    "    epoch_loss = 0\n",
    "    for t in range(NUM_ITERS):\n",
    "        batch = np.random.choice(tasks, BATCH_SIZE)\n",
    "        outer_loss = 0\n",
    "    \n",
    "        #iterate over each task in the batch\n",
    "        for i in range(len(batch)):\n",
    "            train_x, train_y = batch[i].generate_data(K) #5\n",
    "            inner_loss = loss_fn(model(train_x), train_y)\n",
    "            \n",
    "            grad = torch.autograd.grad(inner_loss, model.parameters(), create_graph=True)\n",
    "            #computes updated parameters w/o changing theta\n",
    "            fast_weights = [w - ALPHA*g for (w,g) in zip(model.parameters(), grad)] #theta_prime\n",
    "             \n",
    "            test_x, test_y = batch[i].generate_data(K) #8\n",
    "            outer_loss += loss_fn(model(test_x, params=fast_weights), test_y)\n",
    "        \n",
    "        epoch_loss += outer_loss\n",
    "        if t % 500 == 0:\n",
    "            print(epoch_loss / 500)\n",
    "            epoch_loss = 0\n",
    "            \n",
    "        model.zero_grad()\n",
    "        outer_loss.backward()\n",
    "        optimizer.step()"
   ]
  },
  {
   "cell_type": "code",
   "execution_count": 9,
   "metadata": {
    "ExecuteTime": {
     "end_time": "2020-01-15T20:18:19.750935Z",
     "start_time": "2020-01-15T20:12:37.222974Z"
    }
   },
   "outputs": [
    {
     "name": "stdout",
     "output_type": "stream",
     "text": [
      "tensor(0.0378, grad_fn=<DivBackward0>)\n",
      "tensor(37.9865, grad_fn=<DivBackward0>)\n",
      "tensor(36.5418, grad_fn=<DivBackward0>)\n",
      "tensor(34.0351, grad_fn=<DivBackward0>)\n",
      "tensor(25.2738, grad_fn=<DivBackward0>)\n",
      "tensor(21.9293, grad_fn=<DivBackward0>)\n",
      "tensor(20.2094, grad_fn=<DivBackward0>)\n",
      "tensor(19.3733, grad_fn=<DivBackward0>)\n",
      "tensor(18.5141, grad_fn=<DivBackward0>)\n",
      "tensor(18.0156, grad_fn=<DivBackward0>)\n",
      "tensor(17.3588, grad_fn=<DivBackward0>)\n",
      "tensor(17.1427, grad_fn=<DivBackward0>)\n",
      "tensor(16.5995, grad_fn=<DivBackward0>)\n",
      "tensor(16.0931, grad_fn=<DivBackward0>)\n",
      "tensor(15.8829, grad_fn=<DivBackward0>)\n",
      "tensor(15.3204, grad_fn=<DivBackward0>)\n",
      "tensor(15.1199, grad_fn=<DivBackward0>)\n",
      "tensor(15.2264, grad_fn=<DivBackward0>)\n",
      "tensor(14.4434, grad_fn=<DivBackward0>)\n",
      "tensor(14.6178, grad_fn=<DivBackward0>)\n"
     ]
    }
   ],
   "source": [
    "tasks = [SineTask() for i in range(1000)]\n",
    "maml = SineModel()\n",
    "meta_optimizer = torch.optim.Adam(maml.parameters(), lr=BETA)\n",
    "train(maml, meta_optimizer, tasks)"
   ]
  },
  {
   "cell_type": "code",
   "execution_count": 14,
   "metadata": {
    "ExecuteTime": {
     "end_time": "2020-01-15T23:45:27.166726Z",
     "start_time": "2020-01-15T23:45:27.160732Z"
    }
   },
   "outputs": [],
   "source": [
    "sample_task = SineTask()\n",
    "test_x, test_y = sample_task.full_set()"
   ]
  },
  {
   "cell_type": "code",
   "execution_count": 15,
   "metadata": {
    "ExecuteTime": {
     "end_time": "2020-01-15T23:45:27.407807Z",
     "start_time": "2020-01-15T23:45:27.170269Z"
    }
   },
   "outputs": [
    {
     "data": {
      "image/png": "[encoded data removed]",
      "text/plain": [
       "<Figure size 432x288 with 1 Axes>"
      ]
     },
     "metadata": {
      "needs_background": "light"
     },
     "output_type": "display_data"
    }
   ],
   "source": [
    "#no fine-tuning\n",
    "plt.plot(test_x, test_y)\n",
    "with torch.no_grad():\n",
    "    plt.plot(test_x, maml(test_x))"
   ]
  },
  {
   "cell_type": "code",
   "execution_count": 16,
   "metadata": {
    "ExecuteTime": {
     "end_time": "2020-01-15T23:45:27.418792Z",
     "start_time": "2020-01-15T23:45:27.410795Z"
    }
   },
   "outputs": [],
   "source": [
    "#fine-tuning\n",
    "def test(model):\n",
    "    model_copy = SineModel()\n",
    "    model_copy.load_state_dict(model.state_dict())\n",
    "    #using Adam doesn't work well, also lr can't be too small\n",
    "    optimizer = torch.optim.SGD(model_copy.parameters(), .01)\n",
    "    \n",
    "    for t in range(1):\n",
    "        train_x, train_y = sample_task.generate_trick(K)\n",
    "        loss = loss_fn(model_copy(train_x), train_y)\n",
    "        optimizer.zero_grad()\n",
    "        loss.backward()\n",
    "        optimizer.step()\n",
    "\n",
    "    plt.scatter(train_x, train_y)\n",
    "    plt.plot(test_x, test_y)\n",
    "    with torch.no_grad():\n",
    "        plt.plot(test_x, model_copy(test_x))"
   ]
  },
  {
   "cell_type": "code",
   "execution_count": 17,
   "metadata": {
    "ExecuteTime": {
     "end_time": "2020-01-15T23:45:27.772785Z",
     "start_time": "2020-01-15T23:45:27.421793Z"
    }
   },
   "outputs": [
    {
     "data": {
      "image/png": "[encoded data removed]",
      "text/plain": [
       "<Figure size 432x288 with 1 Axes>"
      ]
     },
     "metadata": {
      "needs_background": "light"
     },
     "output_type": "display_data"
    }
   ],
   "source": [
    "test(maml)"
   ]
  }
 ],
 "metadata": {
  "kernelspec": {
   "display_name": "Python [conda env:dl]",
   "language": "python",
   "name": "conda-env-dl-py"
  },
  "language_info": {
   "codemirror_mode": {
    "name": "ipython",
    "version": 3
   },
   "file_extension": ".py",
   "mimetype": "text/x-python",
   "name": "python",
   "nbconvert_exporter": "python",
   "pygments_lexer": "ipython3",
   "version": "3.7.4"
  }
 },
 "nbformat": 4,
 "nbformat_minor": 2
}
