{
 "cells": [
  {
   "cell_type": "code",
   "execution_count": 11,
   "metadata": {
    "ExecuteTime": {
     "end_time": "2020-04-05T22:59:20.432944Z",
     "start_time": "2020-04-05T22:59:20.427945Z"
    }
   },
   "outputs": [],
   "source": [
    "import torch\n",
    "from torch import nn, optim\n",
    "from nltk import grammar\n",
    "from nltk import PCFG, CFG\n",
    "from nltk.parse import RecursiveDescentParser\n",
    "import random\n",
    "import numpy\n",
    "import matplotlib.pyplot as plt"
   ]
  },
  {
   "cell_type": "markdown",
   "metadata": {},
   "source": [
    "# Grammars"
   ]
  },
  {
   "cell_type": "code",
   "execution_count": 12,
   "metadata": {
    "ExecuteTime": {
     "end_time": "2020-04-05T22:59:20.443945Z",
     "start_time": "2020-04-05T22:59:20.434945Z"
    }
   },
   "outputs": [],
   "source": [
    "#following http://www.nltk.org/howto/generate.html\n",
    "\n",
    "#starts with x, has more ys than zs, ends with z\n",
    "xyyz_grammar = \"\"\"\n",
    "S -> 'x'A'y'A'y'A'z'\n",
    "A -> | A'y'A'z'A | A'z'A'y'A | 'x'A\n",
    "\"\"\"\n",
    "\n",
    "#a^n b^m B^m A^n, n,m > 0\n",
    "abBA_grammar = \"\"\"\n",
    "S -> 'a'X'A' [1.0]\n",
    "X -> 'a'X'A' [0.6] | 'b'Y'B' [0.4]\n",
    "Y -> [0.1] | 'b'Y'B' [0.9]\n",
    "\"\"\""
   ]
  },
  {
   "cell_type": "code",
   "execution_count": 13,
   "metadata": {
    "ExecuteTime": {
     "end_time": "2020-04-05T22:59:20.449944Z",
     "start_time": "2020-04-05T22:59:20.444947Z"
    }
   },
   "outputs": [
    {
     "name": "stdout",
     "output_type": "stream",
     "text": [
      "Grammar with 5 productions (start state = S)\n",
      "    S -> 'a' X 'A' [1.0]\n",
      "    X -> 'a' X 'A' [0.6]\n",
      "    X -> 'b' Y 'B' [0.4]\n",
      "    Y ->  [0.1]\n",
      "    Y -> 'b' Y 'B' [0.9]\n"
     ]
    }
   ],
   "source": [
    "#xyyz_cfg = CFG.fromstring(xyyz_grammar)\n",
    "#print(xyyz_cfg)\n",
    "abBA_cfg = PCFG.fromstring(abBA_grammar)\n",
    "print(abBA_cfg)"
   ]
  },
  {
   "cell_type": "markdown",
   "metadata": {},
   "source": [
    "# Language functions"
   ]
  },
  {
   "cell_type": "code",
   "execution_count": 14,
   "metadata": {
    "ExecuteTime": {
     "end_time": "2020-04-05T22:59:20.515407Z",
     "start_time": "2020-04-05T22:59:20.451945Z"
    }
   },
   "outputs": [],
   "source": [
    "def sample_grammar(g, var, maxlen=5):\n",
    "    cond_rules = g.productions(lhs=var)\n",
    "    probs = [r.prob() for r in cond_rules]\n",
    "    #sample from production rules\n",
    "    product = list(random.choices(cond_rules, weights=probs, k=1)[0].rhs())\n",
    "    substring = []\n",
    "    finishup = False\n",
    "    for c in product:\n",
    "        if len(substring) >= maxlen: #works as a base case\n",
    "            finishup = True\n",
    "        if grammar.is_nonterminal(c):\n",
    "            if not finishup:\n",
    "                substring.extend(sample_grammar(g, c, maxlen))\n",
    "        else:\n",
    "            substring.append(c)\n",
    "    return substring\n",
    "\n",
    "def dict_from_grammar(g):\n",
    "    terminals = set()\n",
    "    for prod in g.productions():\n",
    "        terminals = terminals.union(set([c for c in prod.rhs() if grammar.is_terminal(c)]))\n",
    "    terminals_to_idx = dict()\n",
    "    idx_to_terminals = dict()\n",
    "    for i,e in enumerate(terminals, 1):\n",
    "        terminals_to_idx[e] = i\n",
    "        idx_to_terminals[i] = e\n",
    "    terminals_to_idx['T'] = 0 #set end char\n",
    "    idx_to_terminals[0] = 'T'\n",
    "    return terminals_to_idx, idx_to_terminals\n",
    "\n",
    "def index_sequences(seqs, char_to_idx):\n",
    "    seqs_indexed = []\n",
    "    for i in range(len(seqs)):\n",
    "        seqs_indexed.append(torch.LongTensor([char_to_idx[c] for c in seqs[i]]))\n",
    "    return seqs_indexed\n",
    "\n",
    "def one_hot_pad(seqs, c):\n",
    "    \"\"\"\n",
    "    Args:\n",
    "        seqs: list of tensors of size (seq_len,)\n",
    "        c: num_classes\n",
    "    Output:\n",
    "        one_hots: tensor of size (batch_size, max(seq_lens), c)\n",
    "    \"\"\"\n",
    "    seqs = nn.utils.rnn.pad_sequence(seqs, batch_first=True) #(batch_size, max(seq_lens))\n",
    "    return nn.functional.one_hot(seqs, num_classes=c) \n",
    "\n",
    "def sequences_from_grammar(g, checker, maxlen=5, n=512, dn=512):\n",
    "    #n will often be smaller than desired n, dn\n",
    "    terminals_to_idx, idx_to_terminals = dict_from_grammar(g)\n",
    "    strings = []\n",
    "    lengths = []\n",
    "    for i in range(n):\n",
    "        string = ''.join(sample_grammar(g, g.start(), maxlen))\n",
    "        assert checker(string), print(string)\n",
    "        strings.append(string)\n",
    "        lengths.append(len(string))\n",
    "    strings = list(set(strings))\n",
    "    print(\"{} unique strings generated\".format((len(strings))))\n",
    "    strings = strings[:dn]\n",
    "    one_hots = one_hot_pad(index_sequences(strings, terminals_to_idx), len(terminals_to_idx)).float()\n",
    "    return strings, one_hots, (terminals_to_idx, idx_to_terminals)\n",
    "\n",
    "def check_parity(string, a, b):\n",
    "    a_count = 0\n",
    "    b_count = 0\n",
    "    for c in string:\n",
    "        if c == a:\n",
    "            a_count += 1\n",
    "        elif c == b:\n",
    "            b_count += 1\n",
    "    if a_count > b_count:\n",
    "        return 1\n",
    "    elif a_count < b_count:\n",
    "        return -1\n",
    "    else:\n",
    "        return 0\n",
    "\n",
    "def abBA_checker(string):\n",
    "    return check_parity(string, 'a', 'A') == 0 and check_parity(string, 'b', 'B') == 0\n",
    "    \n",
    "def xyyz_checker(string):\n",
    "    return check_parity(string, 'y', 'z') == 1"
   ]
  },
  {
   "cell_type": "markdown",
   "metadata": {},
   "source": [
    "# Generate data"
   ]
  },
  {
   "cell_type": "markdown",
   "metadata": {},
   "source": [
    "Randomly generated"
   ]
  },
  {
   "cell_type": "code",
   "execution_count": 15,
   "metadata": {
    "ExecuteTime": {
     "end_time": "2020-04-05T22:59:37.202067Z",
     "start_time": "2020-04-05T22:59:20.516406Z"
    },
    "scrolled": true
   },
   "outputs": [
    {
     "name": "stdout",
     "output_type": "stream",
     "text": [
      "926 unique strings generated\n",
      "['abbbbbbbbbbbbbbbbbbbbbbbbbbbbbbbbbbbbbbbbbbbbbbbbbbBBBBBBBBBBBBBBBBBBBBBBBBBBBBBBBBBBBBBBBBBBBBBBBBBBA', 'abbbbbbbbbbbbbbbbbbbbbbbbbbbbbbbbbbbbbbbbbbbbbbbbbbbbbbbbbbbbbbBBBBBBBBBBBBBBBBBBBBBBBBBBBBBBBBBBBBBBBBBBBBBBBBBBBBBBBBBBBBBBA', 'aaaaaaaabbbbbbbbbbbbbbbbbbbbbbbbbbbbbbbbbbbbbbbbbbbbbbbbbbbbbbbbbbbbbbBBBBBBBBBBBBBBBBBBBBBBBBBBBBBBBBBBBBBBBBBBBBBBBBBBBBBBBBBBBBBBAAAAAAAA', 'aaaaaaaaaaaaaabbbbbbbbbbbbbbbbbbbbbbbbbbbbbbbbbbBBBBBBBBBBBBBBBBBBBBBBBBBBBBBBBBBBAAAAAAAAAAAAAA', 'aaaaabbbbbbbbbbbbbbbbbbbbbbbbbbbbbbbbbbbbbbbbbbbbbbbbbbbbbbbbbbbbbbbbbBBBBBBBBBBBBBBBBBBBBBBBBBBBBBBBBBBBBBBBBBBBBBBBBBBBBBBBBBBBBBBBBBAAAAA', 'abbbbbbbbbbbbbbbbbbbBBBBBBBBBBBBBBBBBBBA', 'aaabbbbbbbbbbbbbbbbbbbbbbbbbbbbbbbbbbbbbbbbbbbBBBBBBBBBBBBBBBBBBBBBBBBBBBBBBBBBBBBBBBBBBBAAA', 'aaaaaaaaaaaaaaaabbbbbbbbbbbbbbbbbbbBBBBBBBBBBBBBBBBBBBAAAAAAAAAAAAAAAA', 'aaaaabbbbbbbbbbbbbbbbbbbbbbbbbbbbbbBBBBBBBBBBBBBBBBBBBBBBBBBBBBBBAAAAA', 'aaaaaaaaaaaaaaabbbbbbbbbbbbbbbbbbBBBBBBBBBBBBBBBBBBAAAAAAAAAAAAAAA']\n",
      "torch.Size([512, 248, 5])\n"
     ]
    }
   ],
   "source": [
    "abBA_random, abBA_one_hots, (abBA_t2i, abBA_i2t) = sequences_from_grammar(abBA_cfg, abBA_checker, maxlen=10, n=200000)\n",
    "print(abBA_random[:10])\n",
    "print(abBA_one_hots.shape)"
   ]
  },
  {
   "cell_type": "markdown",
   "metadata": {},
   "source": [
    "Following procedure described in Gers & Schmidhuber"
   ]
  },
  {
   "cell_type": "code",
   "execution_count": 16,
   "metadata": {
    "ExecuteTime": {
     "end_time": "2020-04-05T22:59:37.234066Z",
     "start_time": "2020-04-05T22:59:37.204066Z"
    }
   },
   "outputs": [
    {
     "name": "stdout",
     "output_type": "stream",
     "text": [
      "torch.Size([121, 44, 5]) torch.Size([441, 84, 5])\n"
     ]
    }
   ],
   "source": [
    "nplusm = 12\n",
    "abBA_train12 = []\n",
    "abBA_test12 = []\n",
    "\"\"\"\n",
    "abBA_sum12 = []\n",
    "for i in range(1, nplusm):\n",
    "    j = nplusm-i\n",
    "    abBA_sum12.append('a'*i + 'b'*j + 'B'*j + 'A'*i)\n",
    "\"\"\"\n",
    "for i in range(1, 12):\n",
    "    for j in range(1, 12):\n",
    "        abBA_train12.append('a'*i + 'b'*j + 'B'*j + 'A'*i)\n",
    "for i in range(1, 22):\n",
    "    for j in range(1, 22):\n",
    "        abBA_test12.append('a'*i + 'b'*j + 'B'*j + 'A'*i)\n",
    "abBA_train12 = one_hot_pad(index_sequences(abBA_train12, abBA_t2i), len(abBA_t2i)).float()\n",
    "abBA_test12 = one_hot_pad(index_sequences(abBA_test12, abBA_t2i), len(abBA_t2i)).float()\n",
    "print(abBA_train12.shape, abBA_test12.shape)"
   ]
  },
  {
   "cell_type": "markdown",
   "metadata": {},
   "source": [
    "# Model functions"
   ]
  },
  {
   "cell_type": "code",
   "execution_count": 17,
   "metadata": {
    "ExecuteTime": {
     "end_time": "2020-04-05T22:59:37.252064Z",
     "start_time": "2020-04-05T22:59:37.236065Z"
    }
   },
   "outputs": [],
   "source": [
    "def score(preds, lookup, checker, display=False):\n",
    "    \"\"\"\n",
    "    Not the loss function\n",
    "    \n",
    "    Like a binary classification problem: accept/reject,\n",
    "    accept iff the input is something in the target set.\n",
    "    Something is not in the target set iff at any time step output isn't.\n",
    "    \"\"\"\n",
    "    results = []\n",
    "    preds = preds.cpu()\n",
    "    for i in range(preds.shape[0]):\n",
    "        idxs = torch.argmax(preds, dim=2)[i].tolist()\n",
    "        string = ''.join([lookup[idx] for idx in idxs])\n",
    "        if display:\n",
    "            print(string)\n",
    "        results.append(checker(string))\n",
    "    return results\n",
    "    \n",
    "class SequenceModel(nn.Module):\n",
    "    def __init__(self, input_size, hidden_size, output_size, num_layers):\n",
    "        super().__init__()\n",
    "        self.lstm = nn.LSTM(input_size, hidden_size, num_layers, batch_first=True)\n",
    "        self.fc = nn.Linear(hidden_size, output_size)\n",
    "        self.logsoftmax = nn.LogSoftmax(dim=2)\n",
    "    \n",
    "    def forward(self, x, hc=None):\n",
    "        if hc == None:\n",
    "            out, hc = self.lstm(x)\n",
    "        else:\n",
    "            out, hc = self.lstm(x, hc)\n",
    "        return self.logsoftmax(self.fc(out)), hc\n",
    "    \n",
    "def train(data, model, optimizer, epochs=10, eval_every=5):\n",
    "    model = model.to(device)\n",
    "    loss_function = nn.NLLLoss()\n",
    "    data = data.to(device)\n",
    "    inputs = data[:,:-1]\n",
    "    targets = torch.argmax(data[:,1:], dim=2) #shift sequence forward by 1\n",
    "    \n",
    "    epochs_loss = 0\n",
    "    avg_loss = 1\n",
    "    e = 0\n",
    "    while avg_loss > .05 and e <= epochs:\n",
    "        for i in range(data.shape[0]):\n",
    "            #feed in 1 sequence at a time, update after every sequence\n",
    "            #swap axis 1 and 2 since loss function reads class as axis 1 where lstm output has seq_len as axis 1\n",
    "            loss = loss_function(model(inputs[i].unsqueeze(0))[0].permute(0,2,1), targets[i].unsqueeze(0))\n",
    "            epochs_loss += loss.item()\n",
    "            optimizer.zero_grad()\n",
    "            loss.backward()\n",
    "            optimizer.step()\n",
    "            \n",
    "        e += 1\n",
    "        if e % eval_every == 0:\n",
    "            avg_loss = epochs_loss / (data.shape[0] * eval_every)\n",
    "            preds = model(data_test.to(device))[0]\n",
    "            test_scores = score(preds, abBA_i2t, abBA_checker)\n",
    "            print(\"Epoch {} train loss: {}, test score: {:f}\".format(e, avg_loss, sum(test_scores)/len(test_scores)))\n",
    "            epochs_loss = 0"
   ]
  },
  {
   "cell_type": "markdown",
   "metadata": {},
   "source": [
    "# Train"
   ]
  },
  {
   "cell_type": "code",
   "execution_count": 18,
   "metadata": {
    "ExecuteTime": {
     "end_time": "2020-04-05T23:12:38.445165Z",
     "start_time": "2020-04-05T23:08:10.936934Z"
    }
   },
   "outputs": [
    {
     "name": "stdout",
     "output_type": "stream",
     "text": [
      "Using device: cuda\n",
      "Epoch 50 train loss: 1.212270731576218, test score: 0.000000\n",
      "Epoch 100 train loss: 0.7173976056708777, test score: 0.004535\n",
      "Epoch 150 train loss: 0.5558137488463694, test score: 0.015873\n",
      "Epoch 200 train loss: 0.4718520883292206, test score: 0.072562\n",
      "Epoch 250 train loss: 0.4262921187848099, test score: 1.000000\n",
      "Epoch 300 train loss: 0.39560908722483423, test score: 1.000000\n"
     ]
    }
   ],
   "source": [
    "HIDDEN_UNITS = 2\n",
    "\n",
    "device = torch.device('cuda') if torch.cuda.is_available() else torch.device('cpu')\n",
    "print(\"Using device: {}\".format(device))\n",
    "\n",
    "\"\"\"\n",
    "Network architecture:\n",
    "abBA: two blocks w/ one cell each\n",
    "\"\"\"\n",
    "\n",
    "data_train, data_test = (abBA_train12, abBA_test12) #abBA_one_hots[:256], abBA_one_hots[256:]\n",
    "model = SequenceModel(len(abBA_t2i), HIDDEN_UNITS, len(abBA_t2i), 1)\n",
    "optimizer = optim.Adam(model.parameters(), lr=.0001)\n",
    "train(data_train, model, optimizer, epochs=300, eval_every=50)"
   ]
  },
  {
   "cell_type": "markdown",
   "metadata": {
    "ExecuteTime": {
     "end_time": "2020-04-04T22:02:19.314844Z",
     "start_time": "2020-04-04T22:02:19.305846Z"
    }
   },
   "source": [
    "# Analysis"
   ]
  },
  {
   "cell_type": "markdown",
   "metadata": {},
   "source": [
    "Take a look at internal state representations"
   ]
  },
  {
   "cell_type": "code",
   "execution_count": 23,
   "metadata": {
    "ExecuteTime": {
     "end_time": "2020-04-05T23:32:56.851602Z",
     "start_time": "2020-04-05T23:32:56.836605Z"
    }
   },
   "outputs": [
    {
     "name": "stdout",
     "output_type": "stream",
     "text": [
      "aaaaabbbbBBBBAAAAA\n",
      "[True]\n"
     ]
    }
   ],
   "source": [
    "model = model.to('cpu')\n",
    "test_string = 'aaaaabbbbBBBBAAAAA'\n",
    "test_seq = one_hot_pad(index_sequences([test_string], abBA_t2i), len(abBA_t2i)).float()\n",
    "cstates = {i:[] for i in range(HIDDEN_UNITS)}\n",
    "hc_t = (torch.zeros(1, 1, HIDDEN_UNITS), torch.zeros(1, 1, HIDDEN_UNITS))\n",
    "with torch.no_grad():\n",
    "    for t in range(test_seq.shape[1]): #feed in one char at a time and get cell state at each time step\n",
    "        _, hc_t = model.lstm(test_seq[:,t,:].unsqueeze(0), hc_t)\n",
    "        hidden_t, cstate_t = hc_t\n",
    "        for i in range(cstate_t.shape[2]): #get state for each hidden unit\n",
    "            cstates[i].append(cstate_t[:,:,i].squeeze().item())\n",
    "    print(score(model(test_seq)[0], abBA_i2t, abBA_checker, True))\n",
    "#score(model(data_test.to(device)), idx_to_terminals, abBA_checker, True)"
   ]
  },
  {
   "cell_type": "code",
   "execution_count": 24,
   "metadata": {
    "ExecuteTime": {
     "end_time": "2020-04-05T23:33:03.660600Z",
     "start_time": "2020-04-05T23:33:03.523605Z"
    }
   },
   "outputs": [
    {
     "data": {
      "text/plain": [
       "[<matplotlib.lines.Line2D at 0x20a7445a700>]"
      ]
     },
     "execution_count": 24,
     "metadata": {},
     "output_type": "execute_result"
    },
    {
     "data": {
      "image/png": "[encoded data removed]",
      "text/plain": [
       "<Figure size 432x288 with 1 Axes>"
      ]
     },
     "metadata": {
      "needs_background": "light"
     },
     "output_type": "display_data"
    }
   ],
   "source": [
    "plt.plot(cstates[0])\n",
    "plt.plot(cstates[1])"
   ]
  },
  {
   "cell_type": "code",
   "execution_count": null,
   "metadata": {
    "ExecuteTime": {
     "end_time": "2020-04-05T22:52:12.952321Z",
     "start_time": "2020-04-05T22:51:54.397Z"
    }
   },
   "outputs": [],
   "source": [
    "sampled_string = 'a'\n",
    "char_t = sampled_string\n",
    "hc_t = (torch.zeros(1, 1, HIDDEN_UNITS), torch.zeros(1, 1, HIDDEN_UNITS))\n",
    "with torch.no_grad():\n",
    "    while char_t != 'T':\n",
    "        in_t = one_hot_pad(index_sequences([char_t], terminals_to_idx), len(terminals_to_idx)).float()\n",
    "        out_t, hc_t = model(in_t, hc_t)\n",
    "        probs = torch.exp(out_t).squeeze().tolist()\n",
    "        char_t = idx_to_terminals[random.choices(range(5), weights=probs)[0]]\n",
    "        sampled_string += char_t\n",
    "print(sampled_string, abBA_checker(sampled_string))"
   ]
  },
  {
   "cell_type": "markdown",
   "metadata": {},
   "source": [
    "# Notes"
   ]
  },
  {
   "cell_type": "markdown",
   "metadata": {},
   "source": [
    "To do:\n",
    "Generalize from shorter to longer sequences\n",
    "Use the output from time step t-1 as x_t\n",
    "\n",
    "Known to work:\n",
    "Input and output units same size as # cats, two hidden units with one fc layer. For training, update after every sequence, 40-50 epochs, lr=.001"
   ]
  },
  {
   "cell_type": "markdown",
   "metadata": {},
   "source": [
    "# Further work"
   ]
  },
  {
   "cell_type": "code",
   "execution_count": null,
   "metadata": {
    "ExecuteTime": {
     "end_time": "2020-04-05T22:52:12.953323Z",
     "start_time": "2020-04-05T22:51:54.399Z"
    }
   },
   "outputs": [],
   "source": [
    "\"\"\"\n",
    "#Parsing strings\n",
    "#can't even parse a simple string!\n",
    "rd = RecursiveDescentParser(xyz_cfg)\n",
    "for t in rd.parse(list('xyyz')):\n",
    "    print(t)\n",
    "    \n",
    "#Packing sequences\n",
    "nn.utils.rnn.pack_padded_sequence(seqs, lengths, True, False)\n",
    "\n",
    "#Weight sizes\n",
    "[w.nelement() for _, w  in model.state_dict().items()]\n",
    "\"\"\""
   ]
  }
 ],
 "metadata": {
  "kernelspec": {
   "display_name": "Python [conda env:dl]",
   "language": "python",
   "name": "conda-env-dl-py"
  },
  "language_info": {
   "codemirror_mode": {
    "name": "ipython",
    "version": 3
   },
   "file_extension": ".py",
   "mimetype": "text/x-python",
   "name": "python",
   "nbconvert_exporter": "python",
   "pygments_lexer": "ipython3",
   "version": "3.8.2"
  }
 },
 "nbformat": 4,
 "nbformat_minor": 4
}
