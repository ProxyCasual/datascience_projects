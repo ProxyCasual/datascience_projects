{
 "cells": [
  {
   "cell_type": "code",
   "execution_count": 21,
   "metadata": {
    "ExecuteTime": {
     "end_time": "2020-01-10T15:08:48.712294Z",
     "start_time": "2020-01-10T15:08:48.702295Z"
    }
   },
   "outputs": [],
   "source": [
    "import gym\n",
    "import torch\n",
    "from torch import nn, optim\n",
    "import numpy as np\n",
    "from IPython.display import clear_output\n",
    "import math\n",
    "import matplotlib.pyplot as plt\n",
    "%matplotlib inline"
   ]
  },
  {
   "cell_type": "code",
   "execution_count": 22,
   "metadata": {
    "ExecuteTime": {
     "end_time": "2020-01-10T15:08:48.726667Z",
     "start_time": "2020-01-10T15:08:48.715632Z"
    }
   },
   "outputs": [],
   "source": [
    "USE_GPU = True\n",
    "NUM_EPISODES = 30000\n",
    "BATCH_SIZE = 10\n",
    "GAMMA = 0.95\n",
    "LR = .001\n",
    "EPSILON_START = 1.0\n",
    "EPSILON_FINAL = 0.01\n",
    "EPSILON_DECAY = .995\n",
    "MEMORY_CAPACITY = 2000"
   ]
  },
  {
   "cell_type": "code",
   "execution_count": 23,
   "metadata": {
    "ExecuteTime": {
     "end_time": "2020-01-10T15:08:48.737666Z",
     "start_time": "2020-01-10T15:08:48.731667Z"
    }
   },
   "outputs": [],
   "source": [
    "env_mc = \"MountainCar-v0\"\n",
    "env_cp = \"CartPole-v1\"\n",
    "env = gym.make(env_cp)"
   ]
  },
  {
   "cell_type": "code",
   "execution_count": 24,
   "metadata": {
    "ExecuteTime": {
     "end_time": "2020-01-10T15:08:48.751668Z",
     "start_time": "2020-01-10T15:08:48.741653Z"
    }
   },
   "outputs": [
    {
     "name": "stdout",
     "output_type": "stream",
     "text": [
      "using device: cuda\n"
     ]
    }
   ],
   "source": [
    "if USE_GPU and torch.cuda.is_available():\n",
    "    device = torch.device('cuda')\n",
    "else:\n",
    "    device = torch.device('cpu')\n",
    "    \n",
    "print('using device:', device)"
   ]
  },
  {
   "cell_type": "code",
   "execution_count": 25,
   "metadata": {
    "ExecuteTime": {
     "end_time": "2020-01-10T15:08:48.766651Z",
     "start_time": "2020-01-10T15:08:48.755666Z"
    }
   },
   "outputs": [],
   "source": [
    "from collections import deque\n",
    "\n",
    "class ReplayBuffer(deque):\n",
    "    def __init__(self, capacity):\n",
    "        super().__init__()\n",
    "        self.buffer = deque(maxlen=capacity)\n",
    "    def push(self, item):\n",
    "        self.buffer.append(item)\n",
    "    def sample(self, size):\n",
    "        batch = np.random.randint(len(self.buffer), size=size)\n",
    "        return np.array(list(self.buffer))[batch]\n",
    "    def __len__(self):\n",
    "        return len(self.buffer)"
   ]
  },
  {
   "cell_type": "code",
   "execution_count": 26,
   "metadata": {
    "ExecuteTime": {
     "end_time": "2020-01-10T15:08:48.782651Z",
     "start_time": "2020-01-10T15:08:48.770648Z"
    }
   },
   "outputs": [],
   "source": [
    "class DQN(nn.Module):\n",
    "    def __init__(self, num_inputs, num_actions):\n",
    "        super().__init__()\n",
    "        self.num_inputs = num_inputs\n",
    "        self.num_actions = num_actions\n",
    "        self.layers = nn.Sequential(\n",
    "            nn.Linear(num_inputs, 24),\n",
    "            nn.ReLU(),\n",
    "            nn.Linear(24, 24),\n",
    "            nn.ReLU(),\n",
    "            nn.Linear(24, num_actions)\n",
    "        )\n",
    "    def forward(self, x):\n",
    "        #output is batch_size x num_actions\n",
    "        return self.layers(x)\n",
    "    def act(self, state, epsilon):\n",
    "        if np.random.rand() > epsilon:\n",
    "            state = torch.FloatTensor(state)\n",
    "            q_value = self.forward(state)\n",
    "            action = q_value.argmax().item()\n",
    "        else:\n",
    "            action = np.random.randint(self.num_actions)\n",
    "        return action"
   ]
  },
  {
   "cell_type": "code",
   "execution_count": 27,
   "metadata": {
    "ExecuteTime": {
     "end_time": "2020-01-10T15:08:48.794649Z",
     "start_time": "2020-01-10T15:08:48.785650Z"
    }
   },
   "outputs": [],
   "source": [
    "mean_rewards = []\n",
    "\n",
    "def plot(frame_idx, rewards, losses):\n",
    "    clear_output(True)\n",
    "    fig, (ax1,ax2) = plt.subplots(1,2, figsize=(20,5))\n",
    "    mean_reward_100 = np.mean(rewards[-100:])\n",
    "    mean_rewards.append(mean_reward_100)\n",
    "    ax1.set_title('frame %s. reward: %s' % (frame_idx, mean_reward_100))\n",
    "    ax1.plot(mean_rewards)\n",
    "    ax1.axhline(195, color='r', linestyle='--')\n",
    "    ax2.set_title('loss')\n",
    "    ax2.plot(losses)\n",
    "    plt.show()"
   ]
  },
  {
   "cell_type": "code",
   "execution_count": 28,
   "metadata": {
    "ExecuteTime": {
     "end_time": "2020-01-10T15:08:48.823670Z",
     "start_time": "2020-01-10T15:08:48.798669Z"
    }
   },
   "outputs": [],
   "source": [
    "epsilon_by_frame = lambda frame_idx: EPSILON_FINAL + (EPSILON_START - EPSILON_FINAL) * math.exp(-1. * frame_idx / EPSILON_DECAY)\n",
    "\n",
    "def train(model, target_network, optimizer, target_optimizer):\n",
    "    episode_rewards = []\n",
    "    batch_losses = []\n",
    "    replay_buffer = ReplayBuffer(MEMORY_CAPACITY)\n",
    "    epsilon = EPSILON_START\n",
    "\n",
    "    episode_reward = 0\n",
    "    state = env.reset()\n",
    "    for i_episode in range(NUM_EPISODES):\n",
    "        action = model.act(state, epsilon)\n",
    "        next_state, reward, done, _ = env.step(action)\n",
    "        replay_buffer.push([state, action, reward, next_state, done])\n",
    "        episode_reward += reward\n",
    "        state = next_state\n",
    "        epsilon *= EPSILON_DECAY\n",
    "        epsilon = max(EPSILON_FINAL, epsilon)\n",
    "    \n",
    "        if done:\n",
    "            state = env.reset()\n",
    "            episode_rewards.append(episode_reward)\n",
    "            episode_reward = 0\n",
    "            \n",
    "        def compute_loss(batch_size):\n",
    "            loss = 0\n",
    "            #local scope\n",
    "            state, action, reward, next_state, done = replay_buffer.sample(batch_size).T\n",
    "            state = torch.FloatTensor(np.stack(state)) #concat list of np arrays\n",
    "            action = torch.LongTensor(action.astype(int))\n",
    "            reward = torch.FloatTensor(reward.astype(float))\n",
    "            next_state = torch.FloatTensor(np.stack(next_state))\n",
    "            done = torch.FloatTensor(done.astype(int))\n",
    "\n",
    "            next_actions_best = target_network(next_state).max(dim=1)[0]\n",
    "            td_target = reward + GAMMA*next_actions_best * (1-done)\n",
    "            q_value = model(state).gather(1, action.unsqueeze(1)).squeeze(1) #index along actions axis yields batch_size x 1\n",
    "            loss = ((td_target - q_value)**2).mean()\n",
    "            return loss\n",
    "        \n",
    "        #sample from replay buffer and backprop loss\n",
    "        if len(replay_buffer) >= BATCH_SIZE:\n",
    "            loss = compute_loss(BATCH_SIZE)\n",
    "            batch_losses.append(loss)\n",
    "            optimizer.zero_grad()\n",
    "            loss.backward()\n",
    "            optimizer.step()\n",
    "        \n",
    "        if i_episode % 100 == 0:\n",
    "            #update target_network\n",
    "            target_network.load_state_dict(model.state_dict())\n",
    "            target_opt.load_state_dict(opt.state_dict())\n",
    "            plot(i_episode, episode_rewards, batch_losses)\n",
    "            \n",
    "        #solved task\n",
    "        if mean_rewards[-1] >= 495:\n",
    "            break"
   ]
  },
  {
   "cell_type": "code",
   "execution_count": 29,
   "metadata": {
    "ExecuteTime": {
     "end_time": "2020-01-10T15:13:13.001169Z",
     "start_time": "2020-01-10T15:08:48.827650Z"
    }
   },
   "outputs": [
    {
     "data": {
      "image/png": "[encoded data removed]",
      "text/plain": [
       "<Figure size 1440x360 with 2 Axes>"
      ]
     },
     "metadata": {
      "needs_background": "light"
     },
     "output_type": "display_data"
    }
   ],
   "source": [
    "model = DQN(env.observation_space.shape[0], env.action_space.n)\n",
    "target_network = DQN(env.observation_space.shape[0], env.action_space.n)\n",
    "opt = optim.Adam(model.parameters(), lr=LR)\n",
    "target_opt = optim.Adam(target_network.parameters(), lr=LR)\n",
    "\n",
    "train(model, target_network, opt, target_opt)"
   ]
  },
  {
   "cell_type": "code",
   "execution_count": 31,
   "metadata": {
    "ExecuteTime": {
     "end_time": "2020-01-10T15:13:33.202418Z",
     "start_time": "2020-01-10T15:13:25.144205Z"
    }
   },
   "outputs": [],
   "source": [
    "state = env.reset()\n",
    "while True:\n",
    "    env.render()\n",
    "    action = model(torch.FloatTensor(state)).argmax().item()\n",
    "    next_state, reward, done, _ = env.step(action)\n",
    "    if done:\n",
    "        break\n",
    "    state = next_state\n",
    "env.close()"
   ]
  }
 ],
 "metadata": {
  "kernelspec": {
   "display_name": "Python [conda env:dl]",
   "language": "python",
   "name": "conda-env-dl-py"
  },
  "language_info": {
   "codemirror_mode": {
    "name": "ipython",
    "version": 3
   },
   "file_extension": ".py",
   "mimetype": "text/x-python",
   "name": "python",
   "nbconvert_exporter": "python",
   "pygments_lexer": "ipython3",
   "version": "3.7.4"
  }
 },
 "nbformat": 4,
 "nbformat_minor": 2
}
