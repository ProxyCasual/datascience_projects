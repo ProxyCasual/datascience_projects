{
 "cells": [
  {
   "cell_type": "markdown",
   "metadata": {},
   "source": [
    "# Permanent Visa Application Analysis"
   ]
  },
  {
   "cell_type": "markdown",
   "metadata": {},
   "source": [
    "The main question we are interested in answering from this dataset is how well the labor certification agency follows criteria in granting visas. That is:\n",
    "1. Does the offering wage have to be over the prevailing wage for the application to be approved?\n",
    "2. Was the position advertised in newspapers ads on two seperate occassions in the specified time-frame?\n",
    "\n",
    "And in addition to requirements set by the agency, what other factors are important determinants of application approval? Such as\n",
    "1. The employer / law firm representing the employer\n",
    "2. Job position that the visa applicant will fill"
   ]
  },
  {
   "cell_type": "markdown",
   "metadata": {},
   "source": [
    "# Import Modules"
   ]
  },
  {
   "cell_type": "code",
   "execution_count": 285,
   "metadata": {
    "ExecuteTime": {
     "end_time": "2019-06-23T22:56:35.836636Z",
     "start_time": "2019-06-23T22:56:35.827636Z"
    }
   },
   "outputs": [],
   "source": [
    "import pandas as pd\n",
    "import numpy as np\n",
    "import matplotlib\n",
    "import matplotlib.pyplot as plt\n",
    "import seaborn as sns\n",
    "from scipy import stats\n",
    "\n",
    "import h2o\n",
    "from h2o.estimators import random_forest\n",
    "from h2o.frame import H2OFrame\n",
    "\n",
    "import sklearn\n",
    "from sklearn.model_selection import ShuffleSplit\n",
    "from sklearn.metrics import classification_report\n",
    "from sklearn.metrics import accuracy_score\n",
    "from sklearn.metrics import precision_recall_curve\n",
    "from sklearn.metrics import auc\n",
    "\n",
    "%matplotlib inline"
   ]
  },
  {
   "cell_type": "markdown",
   "metadata": {},
   "source": [
    "# Read Data"
   ]
  },
  {
   "cell_type": "code",
   "execution_count": 286,
   "metadata": {
    "ExecuteTime": {
     "end_time": "2019-06-23T22:58:09.302620Z",
     "start_time": "2019-06-23T22:56:35.839624Z"
    }
   },
   "outputs": [],
   "source": [
    "path = 'G:/gdev/Documents/research/Data/'\n",
    "visas = pd.read_excel(path + 'PERM_Disclosure_Data_FY2018_Q4_EOY.xlsx', thousands=',')\n",
    "\n",
    "#data obtained from https://www.foreignlaborcert.doleta.gov/performancedata.cfm"
   ]
  },
  {
   "cell_type": "code",
   "execution_count": 287,
   "metadata": {
    "ExecuteTime": {
     "end_time": "2019-06-23T22:58:09.308625Z",
     "start_time": "2019-06-23T22:58:09.304622Z"
    }
   },
   "outputs": [
    {
     "name": "stdout",
     "output_type": "stream",
     "text": [
      "(119776, 125)\n"
     ]
    }
   ],
   "source": [
    "print(visas.shape)"
   ]
  },
  {
   "cell_type": "markdown",
   "metadata": {},
   "source": [
    "# Exploratory Data Analysis"
   ]
  },
  {
   "cell_type": "code",
   "execution_count": 288,
   "metadata": {
    "ExecuteTime": {
     "end_time": "2019-06-23T22:58:09.342624Z",
     "start_time": "2019-06-23T22:58:09.313624Z"
    }
   },
   "outputs": [
    {
     "name": "stdout",
     "output_type": "stream",
     "text": [
      "Certified            72187\n",
      "Certified-Expired    37363\n",
      "Denied                6255\n",
      "Withdrawn             3971\n",
      "Name: CASE_STATUS, dtype: int64\n"
     ]
    }
   ],
   "source": [
    "print(visas['CASE_STATUS'].value_counts())"
   ]
  },
  {
   "cell_type": "markdown",
   "metadata": {},
   "source": [
    "The data has 1199776 observations and 125 features including our target variable 'CASE_STATUS'.\n",
    "Although we technically have 4 classes, we'll only be using 'Certified' and 'Denied' statuses and so this will be a binary classification problem.\n",
    "We can see that this is an imbalanced dataset and most applicants are actually accepted."
   ]
  },
  {
   "cell_type": "code",
   "execution_count": 289,
   "metadata": {
    "ExecuteTime": {
     "end_time": "2019-06-23T22:58:09.426638Z",
     "start_time": "2019-06-23T22:58:09.347625Z"
    },
    "scrolled": true
   },
   "outputs": [
    {
     "data": {
      "text/html": [
       "<div>\n",
       "<style scoped>\n",
       "    .dataframe tbody tr th:only-of-type {\n",
       "        vertical-align: middle;\n",
       "    }\n",
       "\n",
       "    .dataframe tbody tr th {\n",
       "        vertical-align: top;\n",
       "    }\n",
       "\n",
       "    .dataframe thead th {\n",
       "        text-align: right;\n",
       "    }\n",
       "</style>\n",
       "<table border=\"1\" class=\"dataframe\">\n",
       "  <thead>\n",
       "    <tr style=\"text-align: right;\">\n",
       "      <th></th>\n",
       "      <th>CASE_NUMBER</th>\n",
       "      <th>DECISION_DATE</th>\n",
       "      <th>CASE_STATUS</th>\n",
       "      <th>CASE_RECEIVED_DATE</th>\n",
       "      <th>REFILE</th>\n",
       "      <th>ORIG_FILE_DATE</th>\n",
       "      <th>ORIG_CASE_NO</th>\n",
       "      <th>SCHD_A_SHEEPHERDER</th>\n",
       "      <th>EMPLOYER_NAME</th>\n",
       "      <th>EMPLOYER_ADDRESS_1</th>\n",
       "      <th>EMPLOYER_ADDRESS_2</th>\n",
       "      <th>EMPLOYER_CITY</th>\n",
       "      <th>EMPLOYER_STATE</th>\n",
       "      <th>EMPLOYER_COUNTRY</th>\n",
       "      <th>EMPLOYER_POSTAL_CODE</th>\n",
       "      <th>EMPLOYER_PHONE</th>\n",
       "      <th>EMPLOYER_PHONE_EXT</th>\n",
       "      <th>EMPLOYER_NUM_EMPLOYEES</th>\n",
       "      <th>EMPLOYER_YR_ESTAB</th>\n",
       "      <th>FW_OWNERSHIP_INTEREST</th>\n",
       "      <th>AGENT_FIRM_NAME</th>\n",
       "      <th>AGENT_CITY</th>\n",
       "      <th>AGENT_STATE</th>\n",
       "      <th>PW_TRACK_NUM</th>\n",
       "      <th>PW_SOC_CODE</th>\n",
       "      <th>PW_SOC_TITLE</th>\n",
       "      <th>PW_LEVEL_9089</th>\n",
       "      <th>PW_AMOUNT_9089</th>\n",
       "      <th>PW_UNIT_OF_PAY_9089</th>\n",
       "      <th>PW_SOURCE_NAME_9089</th>\n",
       "      <th>PW_SOURCE_NAME_OTHER_9089</th>\n",
       "      <th>PW_DETERM_DATE</th>\n",
       "      <th>PW_EXPIRE_DATE</th>\n",
       "      <th>WAGE_OFFER_FROM_9089</th>\n",
       "      <th>WAGE_OFFER_TO_9089</th>\n",
       "      <th>WAGE_OFFER_UNIT_OF_PAY_9089</th>\n",
       "      <th>JOB_INFO_WORK_CITY</th>\n",
       "      <th>JOB_INFO_WORK_STATE</th>\n",
       "      <th>JOB_INFO_WORK_POSTAL_CODE</th>\n",
       "      <th>JOB_INFO_JOB_TITLE</th>\n",
       "      <th>JOB_INFO_EDUCATION</th>\n",
       "      <th>JOB_INFO_EDUCATION_OTHER</th>\n",
       "      <th>JOB_INFO_MAJOR</th>\n",
       "      <th>JOB_INFO_TRAINING</th>\n",
       "      <th>JOB_INFO_TRANING_NUM_MONTHS</th>\n",
       "      <th>JOB_INFO_TRAINING_FIELD</th>\n",
       "      <th>JOB_INFO_EXPERIENCE</th>\n",
       "      <th>JOB_INFO_EXPERIENCE_NUM_MONTHS</th>\n",
       "      <th>JOB_INFO_ALT_FIELD</th>\n",
       "      <th>JOB_INFO_ALT_FIELD_NAME</th>\n",
       "      <th>JOB_INFO_ALT_COMBO_ED_EXP</th>\n",
       "      <th>JOB_INFO_ALT_COMBO_ED</th>\n",
       "      <th>JOB_INFO_ALT_COMBO_ED_OTHER</th>\n",
       "      <th>JOB_INFO_ALT_CMB_ED_OTH_YRS</th>\n",
       "      <th>JOB_INFO_FOREIGN_ED</th>\n",
       "      <th>JOB_INFO_ALT_OCC</th>\n",
       "      <th>JOB_INFO_ALT_OCC_NUM_MONTHS</th>\n",
       "      <th>JOB_INFO_ALT_OCC_JOB_TITLE</th>\n",
       "      <th>JOB_INFO_JOB_REQ_NORMAL</th>\n",
       "      <th>JOB_INFO_FOREIGN_LANG_REQ</th>\n",
       "      <th>JOB_INFO_COMBO_OCCUPATION</th>\n",
       "      <th>JI_OFFERED_TO_SEC_J_FW</th>\n",
       "      <th>JI_FW_LIVE_ON_PREMISES</th>\n",
       "      <th>JI_LIVE_IN_DOMESTIC_SERVICE</th>\n",
       "      <th>JI_LIVE_IN_DOM_SVC_CONTRACT</th>\n",
       "      <th>RECR_INFO_PROFESSIONAL_OCC</th>\n",
       "      <th>RECR_INFO_COLL_UNIV_TEACHER</th>\n",
       "      <th>RECR_INFO_COLL_TEACH_COMP_PROC</th>\n",
       "      <th>RI_COLL_TCH_BASIC_PROCESS</th>\n",
       "      <th>RI_COLL_TEACH_SELECT_DATE</th>\n",
       "      <th>RI_COLL_TEACH_PRO_JNL</th>\n",
       "      <th>RECR_INFO_SWA_JOB_ORDER_START</th>\n",
       "      <th>RECR_INFO_SWA_JOB_ORDER_END</th>\n",
       "      <th>RECR_INFO_SUNDAY_NEWSPAPER</th>\n",
       "      <th>RI_1ST_AD_NEWSPAPER_NAME</th>\n",
       "      <th>RECR_INFO_FIRST_AD_START</th>\n",
       "      <th>RI_2ND_AD_NEWSPAPER_NAME</th>\n",
       "      <th>RI_2ND_AD_NEWSPAPER_OR_JOURNAL</th>\n",
       "      <th>RECR_INFO_SECOND_AD_START</th>\n",
       "      <th>RECR_INFO_JOB_FAIR_FROM</th>\n",
       "      <th>RECR_INFO_JOB_FAIR_TO</th>\n",
       "      <th>RECR_INFO_ON_CAMPUS_RECR_FROM</th>\n",
       "      <th>RECR_INFO_ON_CAMPUS_RECR_TO</th>\n",
       "      <th>RI_EMPLOYER_WEB_POST_FROM</th>\n",
       "      <th>RI_EMPLOYER_WEB_POST_TO</th>\n",
       "      <th>RECR_INFO_PRO_ORG_ADVERT_FROM</th>\n",
       "      <th>RECR_INFO_PRO_ORG_ADVERT_TO</th>\n",
       "      <th>RI_JOB_SEARCH_WEBSITE_FROM</th>\n",
       "      <th>RI_JOB_SEARCH_WEBSITE_TO</th>\n",
       "      <th>RI_PVT_EMPLOYMENT_FIRM_FROM</th>\n",
       "      <th>RI_PVT_EMPLOYMENT_FIRM_TO</th>\n",
       "      <th>RI_EMPLOYEE_REFERRAL_PROG_FROM</th>\n",
       "      <th>RI_EMPLOYEE_REFERRAL_PROG_TO</th>\n",
       "      <th>RI_CAMPUS_PLACEMENT_FROM</th>\n",
       "      <th>RI_CAMPUS_PLACEMENT_TO</th>\n",
       "      <th>RI_LOCAL_ETHNIC_PAPER_FROM</th>\n",
       "      <th>RI_LOCAL_ETHNIC_PAPER_TO</th>\n",
       "      <th>RECR_INFO_RADIO_TV_AD_FROM</th>\n",
       "      <th>RECR_INFO_RADIO_TV_AD_TO</th>\n",
       "      <th>RECR_INFO_EMPLOYER_REC_PAYMENT</th>\n",
       "      <th>RECR_INFO_BARG_REP_NOTIFIED</th>\n",
       "      <th>RI_POSTED_NOTICE_AT_WORKSITE</th>\n",
       "      <th>RI_LAYOFF_IN_PAST_SIX_MONTHS</th>\n",
       "      <th>RI_US_WORKERS_CONSIDERED</th>\n",
       "      <th>FOREIGN_WORKER_INFO_CITY</th>\n",
       "      <th>FOREIGN_WORKER_INFO_STATE</th>\n",
       "      <th>FW_INFO_POSTAL_CODE</th>\n",
       "      <th>COUNTRY_OF_CITIZENSHIP</th>\n",
       "      <th>FW_INFO_BIRTH_COUNTRY</th>\n",
       "      <th>CLASS_OF_ADMISSION</th>\n",
       "      <th>FOREIGN_WORKER_INFO_EDUCATION</th>\n",
       "      <th>FW_INFO_EDUCATION_OTHER</th>\n",
       "      <th>FOREIGN_WORKER_INFO_MAJOR</th>\n",
       "      <th>FW_INFO_YR_REL_EDU_COMPLETED</th>\n",
       "      <th>FOREIGN_WORKER_INFO_INST</th>\n",
       "      <th>FW_INFO_TRAINING_COMP</th>\n",
       "      <th>FW_INFO_REQ_EXPERIENCE</th>\n",
       "      <th>FW_INFO_ALT_EDU_EXPERIENCE</th>\n",
       "      <th>FW_INFO_REL_OCCUP_EXP</th>\n",
       "      <th>PREPARER_INFO_EMP_COMPLETED</th>\n",
       "      <th>PREPARER_INFO_TITLE</th>\n",
       "      <th>EMPLOYER_DECL_INFO_TITLE</th>\n",
       "      <th>NAICS_US_CODE</th>\n",
       "      <th>NAICS_US_TITLE</th>\n",
       "      <th>PW_JOB_TITLE_9089</th>\n",
       "    </tr>\n",
       "  </thead>\n",
       "  <tbody>\n",
       "    <tr>\n",
       "      <th>0</th>\n",
       "      <td>A-17268-91243</td>\n",
       "      <td>2017-10-01</td>\n",
       "      <td>Withdrawn</td>\n",
       "      <td>2017-09-29</td>\n",
       "      <td>N</td>\n",
       "      <td>NaT</td>\n",
       "      <td>NaN</td>\n",
       "      <td>N</td>\n",
       "      <td>DATA MEANING SERVICES GROUP</td>\n",
       "      <td>3301 NORTH UNIVERSITY DRIVE</td>\n",
       "      <td>SUITE 400</td>\n",
       "      <td>CORAL SPRINGS</td>\n",
       "      <td>FL</td>\n",
       "      <td>UNITED STATES OF AMERICA</td>\n",
       "      <td>33065</td>\n",
       "      <td>8554243282</td>\n",
       "      <td>NaN</td>\n",
       "      <td>29.0</td>\n",
       "      <td>2010.0</td>\n",
       "      <td>N</td>\n",
       "      <td>AULAKH FERGUSON</td>\n",
       "      <td>Washington</td>\n",
       "      <td>DC</td>\n",
       "      <td>P10017073123803</td>\n",
       "      <td>15-1132</td>\n",
       "      <td>Software Developers, Applications</td>\n",
       "      <td>Level III</td>\n",
       "      <td>82368.00</td>\n",
       "      <td>Year</td>\n",
       "      <td>OES</td>\n",
       "      <td>NaN</td>\n",
       "      <td>2017-06-12</td>\n",
       "      <td>2017-09-10 00:00:00</td>\n",
       "      <td>82368.00</td>\n",
       "      <td>NaN</td>\n",
       "      <td>Year</td>\n",
       "      <td>Coral Springs</td>\n",
       "      <td>FL</td>\n",
       "      <td>33065</td>\n",
       "      <td>Web Architect</td>\n",
       "      <td>None</td>\n",
       "      <td>NaN</td>\n",
       "      <td>NaN</td>\n",
       "      <td>N</td>\n",
       "      <td>NaN</td>\n",
       "      <td>NaN</td>\n",
       "      <td>Y</td>\n",
       "      <td>24.0</td>\n",
       "      <td>N</td>\n",
       "      <td>NaN</td>\n",
       "      <td>N</td>\n",
       "      <td>NaN</td>\n",
       "      <td>NaN</td>\n",
       "      <td>NaN</td>\n",
       "      <td>N</td>\n",
       "      <td>NaN</td>\n",
       "      <td>NaN</td>\n",
       "      <td>NaN</td>\n",
       "      <td>Y</td>\n",
       "      <td>Y</td>\n",
       "      <td>N</td>\n",
       "      <td>Y</td>\n",
       "      <td>N</td>\n",
       "      <td>N</td>\n",
       "      <td>NaN</td>\n",
       "      <td>Y</td>\n",
       "      <td>N</td>\n",
       "      <td>NaN</td>\n",
       "      <td>NaN</td>\n",
       "      <td>NaT</td>\n",
       "      <td>NaN</td>\n",
       "      <td>2017-07-07</td>\n",
       "      <td>2017-08-07 00:00:00</td>\n",
       "      <td>Y</td>\n",
       "      <td>Sun Sentinel</td>\n",
       "      <td>2017-07-09</td>\n",
       "      <td>Sun Sentinel</td>\n",
       "      <td>Y</td>\n",
       "      <td>2017-07-16</td>\n",
       "      <td>NaT</td>\n",
       "      <td>NaT</td>\n",
       "      <td>NaT</td>\n",
       "      <td>NaT</td>\n",
       "      <td>2017-07-07</td>\n",
       "      <td>2017-09-26</td>\n",
       "      <td>NaT</td>\n",
       "      <td>NaT</td>\n",
       "      <td>2017-07-18</td>\n",
       "      <td>2017-08-18</td>\n",
       "      <td>NaT</td>\n",
       "      <td>NaT</td>\n",
       "      <td>NaT</td>\n",
       "      <td>NaT</td>\n",
       "      <td>NaT</td>\n",
       "      <td>NaT</td>\n",
       "      <td>2017-07-19</td>\n",
       "      <td>2017-07-26</td>\n",
       "      <td>NaT</td>\n",
       "      <td>NaT</td>\n",
       "      <td>N</td>\n",
       "      <td>A</td>\n",
       "      <td>Y</td>\n",
       "      <td>N</td>\n",
       "      <td>NaN</td>\n",
       "      <td>CORAL SPRINGS</td>\n",
       "      <td>FL</td>\n",
       "      <td>33065</td>\n",
       "      <td>BRAZIL</td>\n",
       "      <td>BRAZIL</td>\n",
       "      <td>H-1B</td>\n",
       "      <td>High School</td>\n",
       "      <td>NaN</td>\n",
       "      <td>GENERAL</td>\n",
       "      <td>2001.0</td>\n",
       "      <td>EE DOROTHOVEO GASPAR VIANNA PROF</td>\n",
       "      <td>A</td>\n",
       "      <td>Y</td>\n",
       "      <td>A</td>\n",
       "      <td>A</td>\n",
       "      <td>N</td>\n",
       "      <td>Counsel</td>\n",
       "      <td>Human Capital Manager</td>\n",
       "      <td>541511</td>\n",
       "      <td>Custom Computer Programming Services</td>\n",
       "      <td>Web Architect</td>\n",
       "    </tr>\n",
       "    <tr>\n",
       "      <th>1</th>\n",
       "      <td>A-17268-91198</td>\n",
       "      <td>2017-10-01</td>\n",
       "      <td>Withdrawn</td>\n",
       "      <td>2017-09-29</td>\n",
       "      <td>N</td>\n",
       "      <td>NaT</td>\n",
       "      <td>NaN</td>\n",
       "      <td>N</td>\n",
       "      <td>NOVO NORDISK INC.</td>\n",
       "      <td>800 SCUDDERS MILL ROAD</td>\n",
       "      <td>NaN</td>\n",
       "      <td>PLAINSBORO</td>\n",
       "      <td>NJ</td>\n",
       "      <td>UNITED STATES OF AMERICA</td>\n",
       "      <td>08536</td>\n",
       "      <td>609-987-5800</td>\n",
       "      <td>NaN</td>\n",
       "      <td>5234.0</td>\n",
       "      <td>1982.0</td>\n",
       "      <td>N</td>\n",
       "      <td>Morgan, Lewis &amp; Bockius LLP</td>\n",
       "      <td>Washington</td>\n",
       "      <td>DC</td>\n",
       "      <td>P10016267864760</td>\n",
       "      <td>15-1121</td>\n",
       "      <td>Computer Systems Analysts</td>\n",
       "      <td>NaN</td>\n",
       "      <td>100900.00</td>\n",
       "      <td>Year</td>\n",
       "      <td>Other</td>\n",
       "      <td>2016 Towers Watson</td>\n",
       "      <td>2017-02-01</td>\n",
       "      <td>2017-06-30 00:00:00</td>\n",
       "      <td>110000.00</td>\n",
       "      <td>NaN</td>\n",
       "      <td>Year</td>\n",
       "      <td>Plainsboro</td>\n",
       "      <td>NJ</td>\n",
       "      <td>08536</td>\n",
       "      <td>Senior Systems Analyst</td>\n",
       "      <td>Bachelor's</td>\n",
       "      <td>NaN</td>\n",
       "      <td>Engnrng, Computer Sci, Information Sys, Bus Ad...</td>\n",
       "      <td>N</td>\n",
       "      <td>NaN</td>\n",
       "      <td>NaN</td>\n",
       "      <td>N</td>\n",
       "      <td>NaN</td>\n",
       "      <td>N</td>\n",
       "      <td>NaN</td>\n",
       "      <td>N</td>\n",
       "      <td>NaN</td>\n",
       "      <td>NaN</td>\n",
       "      <td>NaN</td>\n",
       "      <td>Y</td>\n",
       "      <td>NaN</td>\n",
       "      <td>96.0</td>\n",
       "      <td>ProgrammerAnalyst,TechAnalyst,Consultant,Consu...</td>\n",
       "      <td>Y</td>\n",
       "      <td>N</td>\n",
       "      <td>N</td>\n",
       "      <td>Y</td>\n",
       "      <td>N</td>\n",
       "      <td>N</td>\n",
       "      <td>NaN</td>\n",
       "      <td>Y</td>\n",
       "      <td>N</td>\n",
       "      <td>NaN</td>\n",
       "      <td>NaN</td>\n",
       "      <td>NaT</td>\n",
       "      <td>NaN</td>\n",
       "      <td>2017-04-14</td>\n",
       "      <td>2017-05-15 00:00:00</td>\n",
       "      <td>Y</td>\n",
       "      <td>The Star Ledger</td>\n",
       "      <td>2017-04-16</td>\n",
       "      <td>The Star Ledger</td>\n",
       "      <td>Y</td>\n",
       "      <td>2017-04-23</td>\n",
       "      <td>NaT</td>\n",
       "      <td>NaT</td>\n",
       "      <td>NaT</td>\n",
       "      <td>NaT</td>\n",
       "      <td>NaT</td>\n",
       "      <td>NaT</td>\n",
       "      <td>NaT</td>\n",
       "      <td>NaT</td>\n",
       "      <td>2017-08-14</td>\n",
       "      <td>2017-08-21</td>\n",
       "      <td>NaT</td>\n",
       "      <td>NaT</td>\n",
       "      <td>NaT</td>\n",
       "      <td>NaT</td>\n",
       "      <td>NaT</td>\n",
       "      <td>NaT</td>\n",
       "      <td>2017-04-19</td>\n",
       "      <td>2017-04-19</td>\n",
       "      <td>2017-04-19</td>\n",
       "      <td>2017-04-19</td>\n",
       "      <td>N</td>\n",
       "      <td>A</td>\n",
       "      <td>Y</td>\n",
       "      <td>N</td>\n",
       "      <td>NaN</td>\n",
       "      <td>PLAINSBORO</td>\n",
       "      <td>NJ</td>\n",
       "      <td>08536</td>\n",
       "      <td>INDIA</td>\n",
       "      <td>INDIA</td>\n",
       "      <td>H-1B</td>\n",
       "      <td>Bachelor's</td>\n",
       "      <td>NaN</td>\n",
       "      <td>CHEMICAL ENGINEERING</td>\n",
       "      <td>2005.0</td>\n",
       "      <td>NATIONAL INSTITUTE OF TECHNOLOGY KARNATAKA</td>\n",
       "      <td>A</td>\n",
       "      <td>A</td>\n",
       "      <td>A</td>\n",
       "      <td>Y</td>\n",
       "      <td>N</td>\n",
       "      <td>Partner</td>\n",
       "      <td>Associate Director, Mobility - Human Resources</td>\n",
       "      <td>325412</td>\n",
       "      <td>Pharmaceutical Preparation Manufacturing</td>\n",
       "      <td>Senior Systems Analyst</td>\n",
       "    </tr>\n",
       "    <tr>\n",
       "      <th>2</th>\n",
       "      <td>A-17275-93842</td>\n",
       "      <td>2017-10-02</td>\n",
       "      <td>Withdrawn</td>\n",
       "      <td>2017-10-02</td>\n",
       "      <td>N</td>\n",
       "      <td>NaT</td>\n",
       "      <td>NaN</td>\n",
       "      <td>N</td>\n",
       "      <td>HITACHI CONSULTING CORPORATION</td>\n",
       "      <td>14643 DALLAS PARKWAY</td>\n",
       "      <td>SUITE 800</td>\n",
       "      <td>DALLAS</td>\n",
       "      <td>TX</td>\n",
       "      <td>UNITED STATES OF AMERICA</td>\n",
       "      <td>75254</td>\n",
       "      <td>214.665.7000</td>\n",
       "      <td>NaN</td>\n",
       "      <td>1200.0</td>\n",
       "      <td>2000.0</td>\n",
       "      <td>N</td>\n",
       "      <td>Fragomen, Del Rey, Bernsen &amp; Loewy, LLP</td>\n",
       "      <td>Addison</td>\n",
       "      <td>TX</td>\n",
       "      <td>P10017157265680</td>\n",
       "      <td>15-1121</td>\n",
       "      <td>Computer Systems Analysts</td>\n",
       "      <td>Level II</td>\n",
       "      <td>79414.00</td>\n",
       "      <td>Year</td>\n",
       "      <td>OES</td>\n",
       "      <td>NaN</td>\n",
       "      <td>2017-08-23</td>\n",
       "      <td>2018-06-30 00:00:00</td>\n",
       "      <td>93100.00</td>\n",
       "      <td>NaN</td>\n",
       "      <td>Year</td>\n",
       "      <td>Dallas</td>\n",
       "      <td>TX</td>\n",
       "      <td>75254</td>\n",
       "      <td>Software Engineer</td>\n",
       "      <td>Master's</td>\n",
       "      <td>NaN</td>\n",
       "      <td>Computer Science, Computer Applications, (cont...</td>\n",
       "      <td>N</td>\n",
       "      <td>NaN</td>\n",
       "      <td>NaN</td>\n",
       "      <td>N</td>\n",
       "      <td>NaN</td>\n",
       "      <td>N</td>\n",
       "      <td>NaN</td>\n",
       "      <td>Y</td>\n",
       "      <td>Bachelor's</td>\n",
       "      <td>NaN</td>\n",
       "      <td>5.0</td>\n",
       "      <td>Y</td>\n",
       "      <td>NaN</td>\n",
       "      <td>24.0</td>\n",
       "      <td>experience in software engineering. (Cont'd in...</td>\n",
       "      <td>N</td>\n",
       "      <td>N</td>\n",
       "      <td>N</td>\n",
       "      <td>Y</td>\n",
       "      <td>N</td>\n",
       "      <td>N</td>\n",
       "      <td>NaN</td>\n",
       "      <td>Y</td>\n",
       "      <td>N</td>\n",
       "      <td>NaN</td>\n",
       "      <td>NaN</td>\n",
       "      <td>NaT</td>\n",
       "      <td>NaN</td>\n",
       "      <td>2017-07-31</td>\n",
       "      <td>2017-08-30 00:00:00</td>\n",
       "      <td>Y</td>\n",
       "      <td>Dallas Morning News</td>\n",
       "      <td>2017-08-13</td>\n",
       "      <td>Dallas Morning News</td>\n",
       "      <td>Y</td>\n",
       "      <td>2017-08-20</td>\n",
       "      <td>NaT</td>\n",
       "      <td>NaT</td>\n",
       "      <td>NaT</td>\n",
       "      <td>NaT</td>\n",
       "      <td>NaT</td>\n",
       "      <td>NaT</td>\n",
       "      <td>2017-08-09</td>\n",
       "      <td>2017-08-18</td>\n",
       "      <td>2017-08-14</td>\n",
       "      <td>2017-08-21</td>\n",
       "      <td>NaT</td>\n",
       "      <td>NaT</td>\n",
       "      <td>NaT</td>\n",
       "      <td>NaT</td>\n",
       "      <td>NaT</td>\n",
       "      <td>NaT</td>\n",
       "      <td>2017-08-18</td>\n",
       "      <td>2017-08-24</td>\n",
       "      <td>NaT</td>\n",
       "      <td>NaT</td>\n",
       "      <td>N</td>\n",
       "      <td>A</td>\n",
       "      <td>Y</td>\n",
       "      <td>N</td>\n",
       "      <td>NaN</td>\n",
       "      <td>BEAVERTON</td>\n",
       "      <td>OR</td>\n",
       "      <td>97006</td>\n",
       "      <td>INDIA</td>\n",
       "      <td>INDIA</td>\n",
       "      <td>H-1B</td>\n",
       "      <td>Master's</td>\n",
       "      <td>NaN</td>\n",
       "      <td>COMPUTER APPLICATIONS</td>\n",
       "      <td>2007.0</td>\n",
       "      <td>OSMANIA UNIVERSITY</td>\n",
       "      <td>A</td>\n",
       "      <td>A</td>\n",
       "      <td>N</td>\n",
       "      <td>Y</td>\n",
       "      <td>N</td>\n",
       "      <td>Of Counsel</td>\n",
       "      <td>Director, Global Immigration Services</td>\n",
       "      <td>541512</td>\n",
       "      <td>Computer Systems Design Services</td>\n",
       "      <td>Computer Systems Analysts</td>\n",
       "    </tr>\n",
       "    <tr>\n",
       "      <th>3</th>\n",
       "      <td>A-17257-86988</td>\n",
       "      <td>2017-10-02</td>\n",
       "      <td>Withdrawn</td>\n",
       "      <td>2017-10-02</td>\n",
       "      <td>N</td>\n",
       "      <td>NaT</td>\n",
       "      <td>NaN</td>\n",
       "      <td>N</td>\n",
       "      <td>HITACHI CONSULTING CORPORATION</td>\n",
       "      <td>14643 DALLAS PARKWAY</td>\n",
       "      <td>SUITE 800</td>\n",
       "      <td>DALLAS</td>\n",
       "      <td>TX</td>\n",
       "      <td>UNITED STATES OF AMERICA</td>\n",
       "      <td>75254</td>\n",
       "      <td>214.665.7000</td>\n",
       "      <td>NaN</td>\n",
       "      <td>1200.0</td>\n",
       "      <td>2000.0</td>\n",
       "      <td>N</td>\n",
       "      <td>Fragomen, Del Rey, Bernsen &amp; Loewy, LLP</td>\n",
       "      <td>Addison</td>\n",
       "      <td>TX</td>\n",
       "      <td>P10017157265680</td>\n",
       "      <td>15-1121</td>\n",
       "      <td>Computer Systems Analysts</td>\n",
       "      <td>Level II</td>\n",
       "      <td>79414.00</td>\n",
       "      <td>Year</td>\n",
       "      <td>OES</td>\n",
       "      <td>NaN</td>\n",
       "      <td>2017-08-23</td>\n",
       "      <td>2018-06-30 00:00:00</td>\n",
       "      <td>93100.00</td>\n",
       "      <td>NaN</td>\n",
       "      <td>Year</td>\n",
       "      <td>Dallas</td>\n",
       "      <td>TX</td>\n",
       "      <td>75254</td>\n",
       "      <td>Software Engineer</td>\n",
       "      <td>Master's</td>\n",
       "      <td>NaN</td>\n",
       "      <td>Computer Science, Computer Applications, (cont...</td>\n",
       "      <td>N</td>\n",
       "      <td>NaN</td>\n",
       "      <td>NaN</td>\n",
       "      <td>N</td>\n",
       "      <td>NaN</td>\n",
       "      <td>N</td>\n",
       "      <td>NaN</td>\n",
       "      <td>Y</td>\n",
       "      <td>Bachelor's</td>\n",
       "      <td>NaN</td>\n",
       "      <td>5.0</td>\n",
       "      <td>Y</td>\n",
       "      <td>NaN</td>\n",
       "      <td>24.0</td>\n",
       "      <td>experience in software engineering. (Cont'd in...</td>\n",
       "      <td>N</td>\n",
       "      <td>N</td>\n",
       "      <td>N</td>\n",
       "      <td>Y</td>\n",
       "      <td>N</td>\n",
       "      <td>N</td>\n",
       "      <td>NaN</td>\n",
       "      <td>Y</td>\n",
       "      <td>N</td>\n",
       "      <td>NaN</td>\n",
       "      <td>NaN</td>\n",
       "      <td>NaT</td>\n",
       "      <td>NaN</td>\n",
       "      <td>2017-07-31</td>\n",
       "      <td>2017-08-30 00:00:00</td>\n",
       "      <td>Y</td>\n",
       "      <td>Dallas Morning News</td>\n",
       "      <td>2017-08-13</td>\n",
       "      <td>Dallas Morning News</td>\n",
       "      <td>Y</td>\n",
       "      <td>2017-08-20</td>\n",
       "      <td>NaT</td>\n",
       "      <td>NaT</td>\n",
       "      <td>NaT</td>\n",
       "      <td>NaT</td>\n",
       "      <td>NaT</td>\n",
       "      <td>NaT</td>\n",
       "      <td>2017-08-09</td>\n",
       "      <td>2017-08-18</td>\n",
       "      <td>2017-08-14</td>\n",
       "      <td>2017-08-21</td>\n",
       "      <td>NaT</td>\n",
       "      <td>NaT</td>\n",
       "      <td>NaT</td>\n",
       "      <td>NaT</td>\n",
       "      <td>NaT</td>\n",
       "      <td>NaT</td>\n",
       "      <td>2017-08-18</td>\n",
       "      <td>2017-08-24</td>\n",
       "      <td>NaT</td>\n",
       "      <td>NaT</td>\n",
       "      <td>N</td>\n",
       "      <td>A</td>\n",
       "      <td>Y</td>\n",
       "      <td>N</td>\n",
       "      <td>NaN</td>\n",
       "      <td>BEAVERTON</td>\n",
       "      <td>OR</td>\n",
       "      <td>97006</td>\n",
       "      <td>INDIA</td>\n",
       "      <td>INDIA</td>\n",
       "      <td>H-1B</td>\n",
       "      <td>Master's</td>\n",
       "      <td>NaN</td>\n",
       "      <td>COMPUTER APPLICATIONS</td>\n",
       "      <td>2007.0</td>\n",
       "      <td>OSMANIA UNIVERSITY</td>\n",
       "      <td>A</td>\n",
       "      <td>A</td>\n",
       "      <td>N</td>\n",
       "      <td>Y</td>\n",
       "      <td>N</td>\n",
       "      <td>Of Counsel</td>\n",
       "      <td>Director, Global Immigration Services</td>\n",
       "      <td>541512</td>\n",
       "      <td>Computer Systems Design Services</td>\n",
       "      <td>Computer Systems Analysts</td>\n",
       "    </tr>\n",
       "    <tr>\n",
       "      <th>4</th>\n",
       "      <td>A-17263-89145</td>\n",
       "      <td>2017-10-02</td>\n",
       "      <td>Withdrawn</td>\n",
       "      <td>2017-10-02</td>\n",
       "      <td>N</td>\n",
       "      <td>NaT</td>\n",
       "      <td>NaN</td>\n",
       "      <td>N</td>\n",
       "      <td>FANATICS RETAIL GROUP FULFILLMENT INC DBA FANA...</td>\n",
       "      <td>8100 NATIONS WAY</td>\n",
       "      <td>NaN</td>\n",
       "      <td>JACKSONVILLE</td>\n",
       "      <td>FL</td>\n",
       "      <td>UNITED STATES OF AMERICA</td>\n",
       "      <td>32256</td>\n",
       "      <td>9044214715</td>\n",
       "      <td>NaN</td>\n",
       "      <td>5020.0</td>\n",
       "      <td>1995.0</td>\n",
       "      <td>N</td>\n",
       "      <td>Jackson Lewis P.C.</td>\n",
       "      <td>White Plains</td>\n",
       "      <td>NY</td>\n",
       "      <td>P10017094481569</td>\n",
       "      <td>15-2041</td>\n",
       "      <td>Statisticians</td>\n",
       "      <td>Level I</td>\n",
       "      <td>81349.00</td>\n",
       "      <td>Year</td>\n",
       "      <td>OES</td>\n",
       "      <td>NaN</td>\n",
       "      <td>2017-06-27</td>\n",
       "      <td>2017-09-25 00:00:00</td>\n",
       "      <td>110000.00</td>\n",
       "      <td>NaN</td>\n",
       "      <td>Year</td>\n",
       "      <td>San Mateo</td>\n",
       "      <td>CA</td>\n",
       "      <td>94403</td>\n",
       "      <td>Predictive Analyst</td>\n",
       "      <td>Master's</td>\n",
       "      <td>NaN</td>\n",
       "      <td>Information, Risk, and Operations Management</td>\n",
       "      <td>N</td>\n",
       "      <td>NaN</td>\n",
       "      <td>NaN</td>\n",
       "      <td>Y</td>\n",
       "      <td>12.0</td>\n",
       "      <td>Y</td>\n",
       "      <td>Statistics, or closely related</td>\n",
       "      <td>Y</td>\n",
       "      <td>Bachelor's</td>\n",
       "      <td>NaN</td>\n",
       "      <td>5.0</td>\n",
       "      <td>Y</td>\n",
       "      <td>Statistics, or closely related</td>\n",
       "      <td>12.0</td>\n",
       "      <td>Data Scientist</td>\n",
       "      <td>Y</td>\n",
       "      <td>N</td>\n",
       "      <td>N</td>\n",
       "      <td>Y</td>\n",
       "      <td>N</td>\n",
       "      <td>N</td>\n",
       "      <td>NaN</td>\n",
       "      <td>Y</td>\n",
       "      <td>N</td>\n",
       "      <td>NaN</td>\n",
       "      <td>NaN</td>\n",
       "      <td>NaT</td>\n",
       "      <td>NaN</td>\n",
       "      <td>2017-06-29</td>\n",
       "      <td>2017-07-31 00:00:00</td>\n",
       "      <td>Y</td>\n",
       "      <td>San Francisco Chronicle</td>\n",
       "      <td>2017-07-16</td>\n",
       "      <td>San Francisco Chronicle</td>\n",
       "      <td>Y</td>\n",
       "      <td>2017-07-23</td>\n",
       "      <td>NaT</td>\n",
       "      <td>NaT</td>\n",
       "      <td>NaT</td>\n",
       "      <td>NaT</td>\n",
       "      <td>NaT</td>\n",
       "      <td>NaT</td>\n",
       "      <td>NaT</td>\n",
       "      <td>NaT</td>\n",
       "      <td>NaT</td>\n",
       "      <td>NaT</td>\n",
       "      <td>NaT</td>\n",
       "      <td>NaT</td>\n",
       "      <td>NaT</td>\n",
       "      <td>NaT</td>\n",
       "      <td>2017-07-24</td>\n",
       "      <td>2017-08-02</td>\n",
       "      <td>2017-07-19</td>\n",
       "      <td>2017-07-19</td>\n",
       "      <td>2017-07-22</td>\n",
       "      <td>2017-07-22</td>\n",
       "      <td>N</td>\n",
       "      <td>A</td>\n",
       "      <td>Y</td>\n",
       "      <td>N</td>\n",
       "      <td>NaN</td>\n",
       "      <td>SAN MATEO</td>\n",
       "      <td>CA</td>\n",
       "      <td>94401</td>\n",
       "      <td>CHINA</td>\n",
       "      <td>CHINA</td>\n",
       "      <td>H-1B</td>\n",
       "      <td>Master's</td>\n",
       "      <td>NaN</td>\n",
       "      <td>INFORMATION, RISK, AND OPERATIONS MANAGEMENT</td>\n",
       "      <td>2014.0</td>\n",
       "      <td>THE UNIVERSITY OF TEXAS AT AUSTIN</td>\n",
       "      <td>A</td>\n",
       "      <td>N</td>\n",
       "      <td>N</td>\n",
       "      <td>Y</td>\n",
       "      <td>N</td>\n",
       "      <td>Attorney</td>\n",
       "      <td>Director of Talent Acquisition</td>\n",
       "      <td>45411</td>\n",
       "      <td>Electronic Shopping and Mail-Order Houses</td>\n",
       "      <td>Statisticians</td>\n",
       "    </tr>\n",
       "  </tbody>\n",
       "</table>\n",
       "</div>"
      ],
      "text/plain": [
       "     CASE_NUMBER DECISION_DATE CASE_STATUS CASE_RECEIVED_DATE REFILE  \\\n",
       "0  A-17268-91243    2017-10-01   Withdrawn         2017-09-29      N   \n",
       "1  A-17268-91198    2017-10-01   Withdrawn         2017-09-29      N   \n",
       "2  A-17275-93842    2017-10-02   Withdrawn         2017-10-02      N   \n",
       "3  A-17257-86988    2017-10-02   Withdrawn         2017-10-02      N   \n",
       "4  A-17263-89145    2017-10-02   Withdrawn         2017-10-02      N   \n",
       "\n",
       "  ORIG_FILE_DATE ORIG_CASE_NO SCHD_A_SHEEPHERDER  \\\n",
       "0            NaT          NaN                  N   \n",
       "1            NaT          NaN                  N   \n",
       "2            NaT          NaN                  N   \n",
       "3            NaT          NaN                  N   \n",
       "4            NaT          NaN                  N   \n",
       "\n",
       "                                       EMPLOYER_NAME  \\\n",
       "0                        DATA MEANING SERVICES GROUP   \n",
       "1                                  NOVO NORDISK INC.   \n",
       "2                     HITACHI CONSULTING CORPORATION   \n",
       "3                     HITACHI CONSULTING CORPORATION   \n",
       "4  FANATICS RETAIL GROUP FULFILLMENT INC DBA FANA...   \n",
       "\n",
       "            EMPLOYER_ADDRESS_1 EMPLOYER_ADDRESS_2  EMPLOYER_CITY  \\\n",
       "0  3301 NORTH UNIVERSITY DRIVE          SUITE 400  CORAL SPRINGS   \n",
       "1       800 SCUDDERS MILL ROAD                NaN     PLAINSBORO   \n",
       "2         14643 DALLAS PARKWAY          SUITE 800         DALLAS   \n",
       "3         14643 DALLAS PARKWAY          SUITE 800         DALLAS   \n",
       "4             8100 NATIONS WAY                NaN   JACKSONVILLE   \n",
       "\n",
       "  EMPLOYER_STATE          EMPLOYER_COUNTRY EMPLOYER_POSTAL_CODE  \\\n",
       "0             FL  UNITED STATES OF AMERICA                33065   \n",
       "1             NJ  UNITED STATES OF AMERICA                08536   \n",
       "2             TX  UNITED STATES OF AMERICA                75254   \n",
       "3             TX  UNITED STATES OF AMERICA                75254   \n",
       "4             FL  UNITED STATES OF AMERICA                32256   \n",
       "\n",
       "  EMPLOYER_PHONE EMPLOYER_PHONE_EXT  EMPLOYER_NUM_EMPLOYEES  \\\n",
       "0     8554243282                NaN                    29.0   \n",
       "1   609-987-5800                NaN                  5234.0   \n",
       "2   214.665.7000                NaN                  1200.0   \n",
       "3   214.665.7000                NaN                  1200.0   \n",
       "4     9044214715                NaN                  5020.0   \n",
       "\n",
       "   EMPLOYER_YR_ESTAB FW_OWNERSHIP_INTEREST  \\\n",
       "0             2010.0                     N   \n",
       "1             1982.0                     N   \n",
       "2             2000.0                     N   \n",
       "3             2000.0                     N   \n",
       "4             1995.0                     N   \n",
       "\n",
       "                           AGENT_FIRM_NAME    AGENT_CITY AGENT_STATE  \\\n",
       "0                          AULAKH FERGUSON    Washington          DC   \n",
       "1              Morgan, Lewis & Bockius LLP    Washington          DC   \n",
       "2  Fragomen, Del Rey, Bernsen & Loewy, LLP       Addison          TX   \n",
       "3  Fragomen, Del Rey, Bernsen & Loewy, LLP       Addison          TX   \n",
       "4                       Jackson Lewis P.C.  White Plains          NY   \n",
       "\n",
       "      PW_TRACK_NUM PW_SOC_CODE                       PW_SOC_TITLE  \\\n",
       "0  P10017073123803     15-1132  Software Developers, Applications   \n",
       "1  P10016267864760     15-1121          Computer Systems Analysts   \n",
       "2  P10017157265680     15-1121          Computer Systems Analysts   \n",
       "3  P10017157265680     15-1121          Computer Systems Analysts   \n",
       "4  P10017094481569     15-2041                      Statisticians   \n",
       "\n",
       "  PW_LEVEL_9089 PW_AMOUNT_9089 PW_UNIT_OF_PAY_9089 PW_SOURCE_NAME_9089  \\\n",
       "0     Level III       82368.00                Year                 OES   \n",
       "1           NaN      100900.00                Year               Other   \n",
       "2      Level II       79414.00                Year                 OES   \n",
       "3      Level II       79414.00                Year                 OES   \n",
       "4       Level I       81349.00                Year                 OES   \n",
       "\n",
       "  PW_SOURCE_NAME_OTHER_9089 PW_DETERM_DATE       PW_EXPIRE_DATE  \\\n",
       "0                       NaN     2017-06-12  2017-09-10 00:00:00   \n",
       "1        2016 Towers Watson     2017-02-01  2017-06-30 00:00:00   \n",
       "2                       NaN     2017-08-23  2018-06-30 00:00:00   \n",
       "3                       NaN     2017-08-23  2018-06-30 00:00:00   \n",
       "4                       NaN     2017-06-27  2017-09-25 00:00:00   \n",
       "\n",
       "  WAGE_OFFER_FROM_9089  WAGE_OFFER_TO_9089 WAGE_OFFER_UNIT_OF_PAY_9089  \\\n",
       "0             82368.00                 NaN                        Year   \n",
       "1            110000.00                 NaN                        Year   \n",
       "2             93100.00                 NaN                        Year   \n",
       "3             93100.00                 NaN                        Year   \n",
       "4            110000.00                 NaN                        Year   \n",
       "\n",
       "  JOB_INFO_WORK_CITY JOB_INFO_WORK_STATE JOB_INFO_WORK_POSTAL_CODE  \\\n",
       "0      Coral Springs                  FL                     33065   \n",
       "1         Plainsboro                  NJ                     08536   \n",
       "2             Dallas                  TX                     75254   \n",
       "3             Dallas                  TX                     75254   \n",
       "4          San Mateo                  CA                     94403   \n",
       "\n",
       "       JOB_INFO_JOB_TITLE JOB_INFO_EDUCATION JOB_INFO_EDUCATION_OTHER  \\\n",
       "0           Web Architect               None                      NaN   \n",
       "1  Senior Systems Analyst         Bachelor's                      NaN   \n",
       "2       Software Engineer           Master's                      NaN   \n",
       "3       Software Engineer           Master's                      NaN   \n",
       "4      Predictive Analyst           Master's                      NaN   \n",
       "\n",
       "                                      JOB_INFO_MAJOR JOB_INFO_TRAINING  \\\n",
       "0                                                NaN                 N   \n",
       "1  Engnrng, Computer Sci, Information Sys, Bus Ad...                 N   \n",
       "2  Computer Science, Computer Applications, (cont...                 N   \n",
       "3  Computer Science, Computer Applications, (cont...                 N   \n",
       "4       Information, Risk, and Operations Management                 N   \n",
       "\n",
       "   JOB_INFO_TRANING_NUM_MONTHS JOB_INFO_TRAINING_FIELD JOB_INFO_EXPERIENCE  \\\n",
       "0                          NaN                     NaN                   Y   \n",
       "1                          NaN                     NaN                   N   \n",
       "2                          NaN                     NaN                   N   \n",
       "3                          NaN                     NaN                   N   \n",
       "4                          NaN                     NaN                   Y   \n",
       "\n",
       "   JOB_INFO_EXPERIENCE_NUM_MONTHS JOB_INFO_ALT_FIELD  \\\n",
       "0                            24.0                  N   \n",
       "1                             NaN                  N   \n",
       "2                             NaN                  N   \n",
       "3                             NaN                  N   \n",
       "4                            12.0                  Y   \n",
       "\n",
       "          JOB_INFO_ALT_FIELD_NAME JOB_INFO_ALT_COMBO_ED_EXP  \\\n",
       "0                             NaN                         N   \n",
       "1                             NaN                         N   \n",
       "2                             NaN                         Y   \n",
       "3                             NaN                         Y   \n",
       "4  Statistics, or closely related                         Y   \n",
       "\n",
       "  JOB_INFO_ALT_COMBO_ED JOB_INFO_ALT_COMBO_ED_OTHER  \\\n",
       "0                   NaN                         NaN   \n",
       "1                   NaN                         NaN   \n",
       "2            Bachelor's                         NaN   \n",
       "3            Bachelor's                         NaN   \n",
       "4            Bachelor's                         NaN   \n",
       "\n",
       "   JOB_INFO_ALT_CMB_ED_OTH_YRS JOB_INFO_FOREIGN_ED  \\\n",
       "0                          NaN                   N   \n",
       "1                          NaN                   Y   \n",
       "2                          5.0                   Y   \n",
       "3                          5.0                   Y   \n",
       "4                          5.0                   Y   \n",
       "\n",
       "                 JOB_INFO_ALT_OCC  JOB_INFO_ALT_OCC_NUM_MONTHS  \\\n",
       "0                             NaN                          NaN   \n",
       "1                             NaN                         96.0   \n",
       "2                             NaN                         24.0   \n",
       "3                             NaN                         24.0   \n",
       "4  Statistics, or closely related                         12.0   \n",
       "\n",
       "                          JOB_INFO_ALT_OCC_JOB_TITLE JOB_INFO_JOB_REQ_NORMAL  \\\n",
       "0                                                NaN                       Y   \n",
       "1  ProgrammerAnalyst,TechAnalyst,Consultant,Consu...                       Y   \n",
       "2  experience in software engineering. (Cont'd in...                       N   \n",
       "3  experience in software engineering. (Cont'd in...                       N   \n",
       "4                                     Data Scientist                       Y   \n",
       "\n",
       "  JOB_INFO_FOREIGN_LANG_REQ JOB_INFO_COMBO_OCCUPATION JI_OFFERED_TO_SEC_J_FW  \\\n",
       "0                         Y                         N                      Y   \n",
       "1                         N                         N                      Y   \n",
       "2                         N                         N                      Y   \n",
       "3                         N                         N                      Y   \n",
       "4                         N                         N                      Y   \n",
       "\n",
       "  JI_FW_LIVE_ON_PREMISES JI_LIVE_IN_DOMESTIC_SERVICE  \\\n",
       "0                      N                           N   \n",
       "1                      N                           N   \n",
       "2                      N                           N   \n",
       "3                      N                           N   \n",
       "4                      N                           N   \n",
       "\n",
       "  JI_LIVE_IN_DOM_SVC_CONTRACT RECR_INFO_PROFESSIONAL_OCC  \\\n",
       "0                         NaN                          Y   \n",
       "1                         NaN                          Y   \n",
       "2                         NaN                          Y   \n",
       "3                         NaN                          Y   \n",
       "4                         NaN                          Y   \n",
       "\n",
       "  RECR_INFO_COLL_UNIV_TEACHER RECR_INFO_COLL_TEACH_COMP_PROC  \\\n",
       "0                           N                            NaN   \n",
       "1                           N                            NaN   \n",
       "2                           N                            NaN   \n",
       "3                           N                            NaN   \n",
       "4                           N                            NaN   \n",
       "\n",
       "  RI_COLL_TCH_BASIC_PROCESS RI_COLL_TEACH_SELECT_DATE RI_COLL_TEACH_PRO_JNL  \\\n",
       "0                       NaN                       NaT                   NaN   \n",
       "1                       NaN                       NaT                   NaN   \n",
       "2                       NaN                       NaT                   NaN   \n",
       "3                       NaN                       NaT                   NaN   \n",
       "4                       NaN                       NaT                   NaN   \n",
       "\n",
       "  RECR_INFO_SWA_JOB_ORDER_START RECR_INFO_SWA_JOB_ORDER_END  \\\n",
       "0                    2017-07-07         2017-08-07 00:00:00   \n",
       "1                    2017-04-14         2017-05-15 00:00:00   \n",
       "2                    2017-07-31         2017-08-30 00:00:00   \n",
       "3                    2017-07-31         2017-08-30 00:00:00   \n",
       "4                    2017-06-29         2017-07-31 00:00:00   \n",
       "\n",
       "  RECR_INFO_SUNDAY_NEWSPAPER RI_1ST_AD_NEWSPAPER_NAME  \\\n",
       "0                          Y             Sun Sentinel   \n",
       "1                          Y          The Star Ledger   \n",
       "2                          Y      Dallas Morning News   \n",
       "3                          Y      Dallas Morning News   \n",
       "4                          Y  San Francisco Chronicle   \n",
       "\n",
       "  RECR_INFO_FIRST_AD_START RI_2ND_AD_NEWSPAPER_NAME  \\\n",
       "0               2017-07-09             Sun Sentinel   \n",
       "1               2017-04-16          The Star Ledger   \n",
       "2               2017-08-13      Dallas Morning News   \n",
       "3               2017-08-13      Dallas Morning News   \n",
       "4               2017-07-16  San Francisco Chronicle   \n",
       "\n",
       "  RI_2ND_AD_NEWSPAPER_OR_JOURNAL RECR_INFO_SECOND_AD_START  \\\n",
       "0                              Y                2017-07-16   \n",
       "1                              Y                2017-04-23   \n",
       "2                              Y                2017-08-20   \n",
       "3                              Y                2017-08-20   \n",
       "4                              Y                2017-07-23   \n",
       "\n",
       "  RECR_INFO_JOB_FAIR_FROM RECR_INFO_JOB_FAIR_TO RECR_INFO_ON_CAMPUS_RECR_FROM  \\\n",
       "0                     NaT                   NaT                           NaT   \n",
       "1                     NaT                   NaT                           NaT   \n",
       "2                     NaT                   NaT                           NaT   \n",
       "3                     NaT                   NaT                           NaT   \n",
       "4                     NaT                   NaT                           NaT   \n",
       "\n",
       "  RECR_INFO_ON_CAMPUS_RECR_TO RI_EMPLOYER_WEB_POST_FROM  \\\n",
       "0                         NaT                2017-07-07   \n",
       "1                         NaT                       NaT   \n",
       "2                         NaT                       NaT   \n",
       "3                         NaT                       NaT   \n",
       "4                         NaT                       NaT   \n",
       "\n",
       "  RI_EMPLOYER_WEB_POST_TO RECR_INFO_PRO_ORG_ADVERT_FROM  \\\n",
       "0              2017-09-26                           NaT   \n",
       "1                     NaT                           NaT   \n",
       "2                     NaT                    2017-08-09   \n",
       "3                     NaT                    2017-08-09   \n",
       "4                     NaT                           NaT   \n",
       "\n",
       "  RECR_INFO_PRO_ORG_ADVERT_TO RI_JOB_SEARCH_WEBSITE_FROM  \\\n",
       "0                         NaT                 2017-07-18   \n",
       "1                         NaT                 2017-08-14   \n",
       "2                  2017-08-18                 2017-08-14   \n",
       "3                  2017-08-18                 2017-08-14   \n",
       "4                         NaT                        NaT   \n",
       "\n",
       "  RI_JOB_SEARCH_WEBSITE_TO RI_PVT_EMPLOYMENT_FIRM_FROM  \\\n",
       "0               2017-08-18                         NaT   \n",
       "1               2017-08-21                         NaT   \n",
       "2               2017-08-21                         NaT   \n",
       "3               2017-08-21                         NaT   \n",
       "4                      NaT                         NaT   \n",
       "\n",
       "  RI_PVT_EMPLOYMENT_FIRM_TO RI_EMPLOYEE_REFERRAL_PROG_FROM  \\\n",
       "0                       NaT                            NaT   \n",
       "1                       NaT                            NaT   \n",
       "2                       NaT                            NaT   \n",
       "3                       NaT                            NaT   \n",
       "4                       NaT                            NaT   \n",
       "\n",
       "  RI_EMPLOYEE_REFERRAL_PROG_TO RI_CAMPUS_PLACEMENT_FROM  \\\n",
       "0                          NaT                      NaT   \n",
       "1                          NaT                      NaT   \n",
       "2                          NaT                      NaT   \n",
       "3                          NaT                      NaT   \n",
       "4                          NaT               2017-07-24   \n",
       "\n",
       "  RI_CAMPUS_PLACEMENT_TO RI_LOCAL_ETHNIC_PAPER_FROM RI_LOCAL_ETHNIC_PAPER_TO  \\\n",
       "0                    NaT                 2017-07-19               2017-07-26   \n",
       "1                    NaT                 2017-04-19               2017-04-19   \n",
       "2                    NaT                 2017-08-18               2017-08-24   \n",
       "3                    NaT                 2017-08-18               2017-08-24   \n",
       "4             2017-08-02                 2017-07-19               2017-07-19   \n",
       "\n",
       "  RECR_INFO_RADIO_TV_AD_FROM RECR_INFO_RADIO_TV_AD_TO  \\\n",
       "0                        NaT                      NaT   \n",
       "1                 2017-04-19               2017-04-19   \n",
       "2                        NaT                      NaT   \n",
       "3                        NaT                      NaT   \n",
       "4                 2017-07-22               2017-07-22   \n",
       "\n",
       "  RECR_INFO_EMPLOYER_REC_PAYMENT RECR_INFO_BARG_REP_NOTIFIED  \\\n",
       "0                              N                           A   \n",
       "1                              N                           A   \n",
       "2                              N                           A   \n",
       "3                              N                           A   \n",
       "4                              N                           A   \n",
       "\n",
       "  RI_POSTED_NOTICE_AT_WORKSITE RI_LAYOFF_IN_PAST_SIX_MONTHS  \\\n",
       "0                            Y                            N   \n",
       "1                            Y                            N   \n",
       "2                            Y                            N   \n",
       "3                            Y                            N   \n",
       "4                            Y                            N   \n",
       "\n",
       "  RI_US_WORKERS_CONSIDERED FOREIGN_WORKER_INFO_CITY FOREIGN_WORKER_INFO_STATE  \\\n",
       "0                      NaN            CORAL SPRINGS                        FL   \n",
       "1                      NaN               PLAINSBORO                        NJ   \n",
       "2                      NaN                BEAVERTON                        OR   \n",
       "3                      NaN                BEAVERTON                        OR   \n",
       "4                      NaN                SAN MATEO                        CA   \n",
       "\n",
       "  FW_INFO_POSTAL_CODE COUNTRY_OF_CITIZENSHIP FW_INFO_BIRTH_COUNTRY  \\\n",
       "0               33065                 BRAZIL                BRAZIL   \n",
       "1               08536                  INDIA                 INDIA   \n",
       "2               97006                  INDIA                 INDIA   \n",
       "3               97006                  INDIA                 INDIA   \n",
       "4               94401                  CHINA                 CHINA   \n",
       "\n",
       "  CLASS_OF_ADMISSION FOREIGN_WORKER_INFO_EDUCATION FW_INFO_EDUCATION_OTHER  \\\n",
       "0               H-1B                   High School                     NaN   \n",
       "1               H-1B                    Bachelor's                     NaN   \n",
       "2               H-1B                      Master's                     NaN   \n",
       "3               H-1B                      Master's                     NaN   \n",
       "4               H-1B                      Master's                     NaN   \n",
       "\n",
       "                      FOREIGN_WORKER_INFO_MAJOR  FW_INFO_YR_REL_EDU_COMPLETED  \\\n",
       "0                                       GENERAL                        2001.0   \n",
       "1                          CHEMICAL ENGINEERING                        2005.0   \n",
       "2                         COMPUTER APPLICATIONS                        2007.0   \n",
       "3                         COMPUTER APPLICATIONS                        2007.0   \n",
       "4  INFORMATION, RISK, AND OPERATIONS MANAGEMENT                        2014.0   \n",
       "\n",
       "                     FOREIGN_WORKER_INFO_INST FW_INFO_TRAINING_COMP  \\\n",
       "0            EE DOROTHOVEO GASPAR VIANNA PROF                     A   \n",
       "1  NATIONAL INSTITUTE OF TECHNOLOGY KARNATAKA                     A   \n",
       "2                          OSMANIA UNIVERSITY                     A   \n",
       "3                          OSMANIA UNIVERSITY                     A   \n",
       "4           THE UNIVERSITY OF TEXAS AT AUSTIN                     A   \n",
       "\n",
       "  FW_INFO_REQ_EXPERIENCE FW_INFO_ALT_EDU_EXPERIENCE FW_INFO_REL_OCCUP_EXP  \\\n",
       "0                      Y                          A                     A   \n",
       "1                      A                          A                     Y   \n",
       "2                      A                          N                     Y   \n",
       "3                      A                          N                     Y   \n",
       "4                      N                          N                     Y   \n",
       "\n",
       "  PREPARER_INFO_EMP_COMPLETED PREPARER_INFO_TITLE  \\\n",
       "0                           N             Counsel   \n",
       "1                           N             Partner   \n",
       "2                           N          Of Counsel   \n",
       "3                           N          Of Counsel   \n",
       "4                           N            Attorney   \n",
       "\n",
       "                         EMPLOYER_DECL_INFO_TITLE NAICS_US_CODE  \\\n",
       "0                           Human Capital Manager        541511   \n",
       "1  Associate Director, Mobility - Human Resources        325412   \n",
       "2           Director, Global Immigration Services        541512   \n",
       "3           Director, Global Immigration Services        541512   \n",
       "4                  Director of Talent Acquisition         45411   \n",
       "\n",
       "                              NAICS_US_TITLE          PW_JOB_TITLE_9089  \n",
       "0       Custom Computer Programming Services              Web Architect  \n",
       "1   Pharmaceutical Preparation Manufacturing     Senior Systems Analyst  \n",
       "2           Computer Systems Design Services  Computer Systems Analysts  \n",
       "3           Computer Systems Design Services  Computer Systems Analysts  \n",
       "4  Electronic Shopping and Mail-Order Houses              Statisticians  "
      ]
     },
     "execution_count": 289,
     "metadata": {},
     "output_type": "execute_result"
    }
   ],
   "source": [
    "pd.set_option('display.max_columns', None)\n",
    "visas.head(5)"
   ]
  },
  {
   "cell_type": "markdown",
   "metadata": {},
   "source": [
    "We can see some of the features above, and many of them seem like they'll be useful in predicting the status of applications. However, because we can rank feature importance by their contribution to the model that we'll build let's do a first pass just to get a feel of the data and defer deeper analysis into individual features until later.\n",
    "\n",
    "Looking at the field descriptions that came with the data, we decide to start out with the wages offered by the firms sponsoring the visa applicants because we think that may be a major factor in determining acceptance."
   ]
  },
  {
   "cell_type": "code",
   "execution_count": 290,
   "metadata": {
    "ExecuteTime": {
     "end_time": "2019-06-23T22:58:09.445638Z",
     "start_time": "2019-06-23T22:58:09.428638Z"
    }
   },
   "outputs": [
    {
     "name": "stdout",
     "output_type": "stream",
     "text": [
      "PW_AMOUNT_9089                  object\n",
      "WAGE_OFFER_FROM_9089            object\n",
      "WAGE_OFFER_TO_9089             float64\n",
      "PW_UNIT_OF_PAY_9089             object\n",
      "WAGE_OFFER_UNIT_OF_PAY_9089     object\n",
      "dtype: object\n"
     ]
    }
   ],
   "source": [
    "col_ofint = ['PW_AMOUNT_9089', 'WAGE_OFFER_FROM_9089', 'WAGE_OFFER_TO_9089', 'PW_UNIT_OF_PAY_9089', 'WAGE_OFFER_UNIT_OF_PAY_9089']\n",
    "print(visas[col_ofint].dtypes)"
   ]
  },
  {
   "cell_type": "markdown",
   "metadata": {},
   "source": [
    "For some reason the first two are string types when they clearly should be floats"
   ]
  },
  {
   "cell_type": "code",
   "execution_count": 291,
   "metadata": {
    "ExecuteTime": {
     "end_time": "2019-06-23T22:58:09.978622Z",
     "start_time": "2019-06-23T22:58:09.447636Z"
    }
   },
   "outputs": [],
   "source": [
    "visas[col_ofint[:3]] = visas[col_ofint[:3]].apply(pd.to_numeric, errors='coerce')"
   ]
  },
  {
   "cell_type": "code",
   "execution_count": 292,
   "metadata": {
    "ExecuteTime": {
     "end_time": "2019-06-23T22:58:10.018625Z",
     "start_time": "2019-06-23T22:58:09.980638Z"
    }
   },
   "outputs": [
    {
     "name": "stdout",
     "output_type": "stream",
     "text": [
      "Year         117647\n",
      "Hour           2024\n",
      "Week             27\n",
      "Month            24\n",
      "Bi-Weekly        10\n",
      "Name: PW_UNIT_OF_PAY_9089, dtype: int64\n",
      "Year         114941\n",
      "Hour           4693\n",
      "Week             65\n",
      "Month            46\n",
      "Bi-Weekly        12\n",
      "Name: WAGE_OFFER_UNIT_OF_PAY_9089, dtype: int64\n"
     ]
    }
   ],
   "source": [
    "print(visas['PW_UNIT_OF_PAY_9089'].value_counts())\n",
    "print(visas['WAGE_OFFER_UNIT_OF_PAY_9089'].value_counts())"
   ]
  },
  {
   "cell_type": "markdown",
   "metadata": {
    "ExecuteTime": {
     "end_time": "2019-06-17T19:01:39.664670Z",
     "start_time": "2019-06-17T19:01:39.645657Z"
    }
   },
   "source": [
    "PW stands for the prevailing market wage and it is required by the Labor Certification office for the offered wages to be at least this wage. We'll check later in the data that this rule is enforced.\n",
    "\n",
    "We need to standardize the unit of pay for the model so that the wages are all in terms of one unit. For convenience, we'll choose yearly wages.\n",
    "\n",
    "Before we do that, we need to do something about the missing values. We can either drop them or impute them."
   ]
  },
  {
   "cell_type": "code",
   "execution_count": 293,
   "metadata": {
    "ExecuteTime": {
     "end_time": "2019-06-23T22:58:10.068623Z",
     "start_time": "2019-06-23T22:58:10.020623Z"
    }
   },
   "outputs": [
    {
     "name": "stdout",
     "output_type": "stream",
     "text": [
      "PW_AMOUNT_9089                    43\n",
      "WAGE_OFFER_FROM_9089              27\n",
      "WAGE_OFFER_TO_9089             79551\n",
      "PW_UNIT_OF_PAY_9089               44\n",
      "WAGE_OFFER_UNIT_OF_PAY_9089       19\n",
      "dtype: int64\n"
     ]
    }
   ],
   "source": [
    "print(visas[col_ofint].isna().sum())"
   ]
  },
  {
   "cell_type": "markdown",
   "metadata": {},
   "source": [
    "OK clearly it won't be a good idea to drop 'WAGE_OFFER_TO_9089', my guess is that for wages that don't have a range the to field is just omitted but we'll drop the others."
   ]
  },
  {
   "cell_type": "code",
   "execution_count": 294,
   "metadata": {
    "ExecuteTime": {
     "end_time": "2019-06-23T22:58:10.303635Z",
     "start_time": "2019-06-23T22:58:10.069622Z"
    }
   },
   "outputs": [],
   "source": [
    "visas = visas.dropna(subset=set(col_ofint) - {'WAGE_OFFER_TO_9089'})"
   ]
  },
  {
   "cell_type": "code",
   "execution_count": 295,
   "metadata": {
    "ExecuteTime": {
     "end_time": "2019-06-23T22:58:13.521637Z",
     "start_time": "2019-06-23T22:58:10.304635Z"
    }
   },
   "outputs": [
    {
     "name": "stdout",
     "output_type": "stream",
     "text": [
      "YY    114845\n",
      "YH      2746\n",
      "HH      1924\n",
      "HY        77\n",
      "WW        24\n",
      "YW        21\n",
      "MM        20\n",
      "YM        20\n",
      "BB         9\n",
      "HM         5\n",
      "HW         4\n",
      "MY         3\n",
      "WH         2\n",
      "YB         2\n",
      "MW         1\n",
      "Name: prevail-offer, dtype: int64\n"
     ]
    }
   ],
   "source": [
    "visas['prevail-offer'] = [p[0] + o[0] for p, o in zip(visas['PW_UNIT_OF_PAY_9089'], visas['WAGE_OFFER_UNIT_OF_PAY_9089'])]\n",
    "print(visas['prevail-offer'].value_counts())"
   ]
  },
  {
   "cell_type": "code",
   "execution_count": 296,
   "metadata": {
    "ExecuteTime": {
     "end_time": "2019-06-23T22:58:15.599767Z",
     "start_time": "2019-06-23T22:58:13.523636Z"
    }
   },
   "outputs": [
    {
     "data": {
      "text/plain": [
       "YY    119515\n",
       "HY        77\n",
       "WW        24\n",
       "YW        21\n",
       "MM        20\n",
       "YM        20\n",
       "BB         9\n",
       "HM         5\n",
       "HW         4\n",
       "MY         3\n",
       "WH         2\n",
       "YB         2\n",
       "MW         1\n",
       "Name: prevail-offer, dtype: int64"
      ]
     },
     "metadata": {},
     "output_type": "display_data"
    },
    {
     "data": {
      "text/plain": [
       "(119515, 126)"
      ]
     },
     "execution_count": 296,
     "metadata": {},
     "output_type": "execute_result"
    }
   ],
   "source": [
    "def convert_wages(row, mode):\n",
    "    if mode == 'yh':\n",
    "        row['WAGE_OFFER_FROM_9089'] = row['WAGE_OFFER_FROM_9089'] * 8760 #hour[o] to year\n",
    "        row['WAGE_OFFER_TO_9089'] = row['WAGE_OFFER_TO_9089'] * 8760\n",
    "        row['WAGE_OFFER_UNIT_OF_PAY_9089'] = 'Year'\n",
    "    elif mode == 'hh':\n",
    "        row['PW_AMOUNT_9089'] = row['PW_AMOUNT_9089'] * 8760 #hour[p] to year\n",
    "        row['WAGE_OFFER_FROM_9089'] = row['WAGE_OFFER_FROM_9089'] * 8760\n",
    "        row['WAGE_OFFER_TO_9089'] = row['WAGE_OFFER_TO_9089'] * 8760\n",
    "        row['PW_UNIT_OF_PAY_9089'] = 'Year'\n",
    "        row['WAGE_OFFER_UNIT_OF_PAY_9089'] = 'Year'\n",
    "    return (row)\n",
    "    \n",
    "visas[visas['prevail-offer'] == 'YH'] = visas[visas['prevail-offer'] == 'YH'].apply(convert_wages, mode='yh', axis=1)\n",
    "visas[visas['prevail-offer'] == 'HH'] = visas[visas['prevail-offer'] == 'HH'].apply(convert_wages, mode='hh', axis=1)\n",
    "\n",
    "visas['prevail-offer'] = [p[0] + o[0] for p, o in zip(visas['PW_UNIT_OF_PAY_9089'], visas['WAGE_OFFER_UNIT_OF_PAY_9089'])]\n",
    "display(visas['prevail-offer'].value_counts())\n",
    "\n",
    "visas = visas[visas['prevail-offer'] == 'YY'] #drop others, b/c they're not worth to convert\n",
    "visas.shape"
   ]
  },
  {
   "cell_type": "markdown",
   "metadata": {},
   "source": [
    "Now it remains to fill in the values for 'WAGE_OFFER_TO_9089'\n",
    "\n",
    "Note: filling values like this may be dangerous if we used something like the mean because that would be leaking info from the training data to the test data BEFORE splitting, but in this case there is nothing wrong because it's data from the same row."
   ]
  },
  {
   "cell_type": "code",
   "execution_count": 297,
   "metadata": {
    "ExecuteTime": {
     "end_time": "2019-06-23T22:58:18.283635Z",
     "start_time": "2019-06-23T22:58:15.601636Z"
    }
   },
   "outputs": [],
   "source": [
    "visas['WAGE_OFFER_TO_9089'] = visas['WAGE_OFFER_TO_9089'].fillna(visas['WAGE_OFFER_FROM_9089'])"
   ]
  },
  {
   "cell_type": "markdown",
   "metadata": {},
   "source": [
    "Check that for accepted applications there are no PWs greater than the offer we see that indeed this is true, and not true for some in rejected. Maybe that is why they got rejected."
   ]
  },
  {
   "cell_type": "code",
   "execution_count": 298,
   "metadata": {
    "ExecuteTime": {
     "end_time": "2019-06-23T22:58:18.412637Z",
     "start_time": "2019-06-23T22:58:18.284635Z"
    }
   },
   "outputs": [
    {
     "data": {
      "text/html": [
       "<div>\n",
       "<style scoped>\n",
       "    .dataframe tbody tr th:only-of-type {\n",
       "        vertical-align: middle;\n",
       "    }\n",
       "\n",
       "    .dataframe tbody tr th {\n",
       "        vertical-align: top;\n",
       "    }\n",
       "\n",
       "    .dataframe thead th {\n",
       "        text-align: right;\n",
       "    }\n",
       "</style>\n",
       "<table border=\"1\" class=\"dataframe\">\n",
       "  <thead>\n",
       "    <tr style=\"text-align: right;\">\n",
       "      <th></th>\n",
       "      <th>CASE_NUMBER</th>\n",
       "      <th>DECISION_DATE</th>\n",
       "      <th>CASE_STATUS</th>\n",
       "      <th>CASE_RECEIVED_DATE</th>\n",
       "      <th>REFILE</th>\n",
       "      <th>ORIG_FILE_DATE</th>\n",
       "      <th>ORIG_CASE_NO</th>\n",
       "      <th>SCHD_A_SHEEPHERDER</th>\n",
       "      <th>EMPLOYER_NAME</th>\n",
       "      <th>EMPLOYER_ADDRESS_1</th>\n",
       "      <th>EMPLOYER_ADDRESS_2</th>\n",
       "      <th>EMPLOYER_CITY</th>\n",
       "      <th>EMPLOYER_STATE</th>\n",
       "      <th>EMPLOYER_COUNTRY</th>\n",
       "      <th>EMPLOYER_POSTAL_CODE</th>\n",
       "      <th>EMPLOYER_PHONE</th>\n",
       "      <th>EMPLOYER_PHONE_EXT</th>\n",
       "      <th>EMPLOYER_NUM_EMPLOYEES</th>\n",
       "      <th>EMPLOYER_YR_ESTAB</th>\n",
       "      <th>FW_OWNERSHIP_INTEREST</th>\n",
       "      <th>AGENT_FIRM_NAME</th>\n",
       "      <th>AGENT_CITY</th>\n",
       "      <th>AGENT_STATE</th>\n",
       "      <th>PW_TRACK_NUM</th>\n",
       "      <th>PW_SOC_CODE</th>\n",
       "      <th>PW_SOC_TITLE</th>\n",
       "      <th>PW_LEVEL_9089</th>\n",
       "      <th>PW_AMOUNT_9089</th>\n",
       "      <th>PW_UNIT_OF_PAY_9089</th>\n",
       "      <th>PW_SOURCE_NAME_9089</th>\n",
       "      <th>PW_SOURCE_NAME_OTHER_9089</th>\n",
       "      <th>PW_DETERM_DATE</th>\n",
       "      <th>PW_EXPIRE_DATE</th>\n",
       "      <th>WAGE_OFFER_FROM_9089</th>\n",
       "      <th>WAGE_OFFER_TO_9089</th>\n",
       "      <th>WAGE_OFFER_UNIT_OF_PAY_9089</th>\n",
       "      <th>JOB_INFO_WORK_CITY</th>\n",
       "      <th>JOB_INFO_WORK_STATE</th>\n",
       "      <th>JOB_INFO_WORK_POSTAL_CODE</th>\n",
       "      <th>JOB_INFO_JOB_TITLE</th>\n",
       "      <th>JOB_INFO_EDUCATION</th>\n",
       "      <th>JOB_INFO_EDUCATION_OTHER</th>\n",
       "      <th>JOB_INFO_MAJOR</th>\n",
       "      <th>JOB_INFO_TRAINING</th>\n",
       "      <th>JOB_INFO_TRANING_NUM_MONTHS</th>\n",
       "      <th>JOB_INFO_TRAINING_FIELD</th>\n",
       "      <th>JOB_INFO_EXPERIENCE</th>\n",
       "      <th>JOB_INFO_EXPERIENCE_NUM_MONTHS</th>\n",
       "      <th>JOB_INFO_ALT_FIELD</th>\n",
       "      <th>JOB_INFO_ALT_FIELD_NAME</th>\n",
       "      <th>JOB_INFO_ALT_COMBO_ED_EXP</th>\n",
       "      <th>JOB_INFO_ALT_COMBO_ED</th>\n",
       "      <th>JOB_INFO_ALT_COMBO_ED_OTHER</th>\n",
       "      <th>JOB_INFO_ALT_CMB_ED_OTH_YRS</th>\n",
       "      <th>JOB_INFO_FOREIGN_ED</th>\n",
       "      <th>JOB_INFO_ALT_OCC</th>\n",
       "      <th>JOB_INFO_ALT_OCC_NUM_MONTHS</th>\n",
       "      <th>JOB_INFO_ALT_OCC_JOB_TITLE</th>\n",
       "      <th>JOB_INFO_JOB_REQ_NORMAL</th>\n",
       "      <th>JOB_INFO_FOREIGN_LANG_REQ</th>\n",
       "      <th>JOB_INFO_COMBO_OCCUPATION</th>\n",
       "      <th>JI_OFFERED_TO_SEC_J_FW</th>\n",
       "      <th>JI_FW_LIVE_ON_PREMISES</th>\n",
       "      <th>JI_LIVE_IN_DOMESTIC_SERVICE</th>\n",
       "      <th>JI_LIVE_IN_DOM_SVC_CONTRACT</th>\n",
       "      <th>RECR_INFO_PROFESSIONAL_OCC</th>\n",
       "      <th>RECR_INFO_COLL_UNIV_TEACHER</th>\n",
       "      <th>RECR_INFO_COLL_TEACH_COMP_PROC</th>\n",
       "      <th>RI_COLL_TCH_BASIC_PROCESS</th>\n",
       "      <th>RI_COLL_TEACH_SELECT_DATE</th>\n",
       "      <th>RI_COLL_TEACH_PRO_JNL</th>\n",
       "      <th>RECR_INFO_SWA_JOB_ORDER_START</th>\n",
       "      <th>RECR_INFO_SWA_JOB_ORDER_END</th>\n",
       "      <th>RECR_INFO_SUNDAY_NEWSPAPER</th>\n",
       "      <th>RI_1ST_AD_NEWSPAPER_NAME</th>\n",
       "      <th>RECR_INFO_FIRST_AD_START</th>\n",
       "      <th>RI_2ND_AD_NEWSPAPER_NAME</th>\n",
       "      <th>RI_2ND_AD_NEWSPAPER_OR_JOURNAL</th>\n",
       "      <th>RECR_INFO_SECOND_AD_START</th>\n",
       "      <th>RECR_INFO_JOB_FAIR_FROM</th>\n",
       "      <th>RECR_INFO_JOB_FAIR_TO</th>\n",
       "      <th>RECR_INFO_ON_CAMPUS_RECR_FROM</th>\n",
       "      <th>RECR_INFO_ON_CAMPUS_RECR_TO</th>\n",
       "      <th>RI_EMPLOYER_WEB_POST_FROM</th>\n",
       "      <th>RI_EMPLOYER_WEB_POST_TO</th>\n",
       "      <th>RECR_INFO_PRO_ORG_ADVERT_FROM</th>\n",
       "      <th>RECR_INFO_PRO_ORG_ADVERT_TO</th>\n",
       "      <th>RI_JOB_SEARCH_WEBSITE_FROM</th>\n",
       "      <th>RI_JOB_SEARCH_WEBSITE_TO</th>\n",
       "      <th>RI_PVT_EMPLOYMENT_FIRM_FROM</th>\n",
       "      <th>RI_PVT_EMPLOYMENT_FIRM_TO</th>\n",
       "      <th>RI_EMPLOYEE_REFERRAL_PROG_FROM</th>\n",
       "      <th>RI_EMPLOYEE_REFERRAL_PROG_TO</th>\n",
       "      <th>RI_CAMPUS_PLACEMENT_FROM</th>\n",
       "      <th>RI_CAMPUS_PLACEMENT_TO</th>\n",
       "      <th>RI_LOCAL_ETHNIC_PAPER_FROM</th>\n",
       "      <th>RI_LOCAL_ETHNIC_PAPER_TO</th>\n",
       "      <th>RECR_INFO_RADIO_TV_AD_FROM</th>\n",
       "      <th>RECR_INFO_RADIO_TV_AD_TO</th>\n",
       "      <th>RECR_INFO_EMPLOYER_REC_PAYMENT</th>\n",
       "      <th>RECR_INFO_BARG_REP_NOTIFIED</th>\n",
       "      <th>RI_POSTED_NOTICE_AT_WORKSITE</th>\n",
       "      <th>RI_LAYOFF_IN_PAST_SIX_MONTHS</th>\n",
       "      <th>RI_US_WORKERS_CONSIDERED</th>\n",
       "      <th>FOREIGN_WORKER_INFO_CITY</th>\n",
       "      <th>FOREIGN_WORKER_INFO_STATE</th>\n",
       "      <th>FW_INFO_POSTAL_CODE</th>\n",
       "      <th>COUNTRY_OF_CITIZENSHIP</th>\n",
       "      <th>FW_INFO_BIRTH_COUNTRY</th>\n",
       "      <th>CLASS_OF_ADMISSION</th>\n",
       "      <th>FOREIGN_WORKER_INFO_EDUCATION</th>\n",
       "      <th>FW_INFO_EDUCATION_OTHER</th>\n",
       "      <th>FOREIGN_WORKER_INFO_MAJOR</th>\n",
       "      <th>FW_INFO_YR_REL_EDU_COMPLETED</th>\n",
       "      <th>FOREIGN_WORKER_INFO_INST</th>\n",
       "      <th>FW_INFO_TRAINING_COMP</th>\n",
       "      <th>FW_INFO_REQ_EXPERIENCE</th>\n",
       "      <th>FW_INFO_ALT_EDU_EXPERIENCE</th>\n",
       "      <th>FW_INFO_REL_OCCUP_EXP</th>\n",
       "      <th>PREPARER_INFO_EMP_COMPLETED</th>\n",
       "      <th>PREPARER_INFO_TITLE</th>\n",
       "      <th>EMPLOYER_DECL_INFO_TITLE</th>\n",
       "      <th>NAICS_US_CODE</th>\n",
       "      <th>NAICS_US_TITLE</th>\n",
       "      <th>PW_JOB_TITLE_9089</th>\n",
       "      <th>prevail-offer</th>\n",
       "    </tr>\n",
       "  </thead>\n",
       "  <tbody>\n",
       "  </tbody>\n",
       "</table>\n",
       "</div>"
      ],
      "text/plain": [
       "Empty DataFrame\n",
       "Columns: [CASE_NUMBER, DECISION_DATE, CASE_STATUS, CASE_RECEIVED_DATE, REFILE, ORIG_FILE_DATE, ORIG_CASE_NO, SCHD_A_SHEEPHERDER, EMPLOYER_NAME, EMPLOYER_ADDRESS_1, EMPLOYER_ADDRESS_2, EMPLOYER_CITY, EMPLOYER_STATE, EMPLOYER_COUNTRY, EMPLOYER_POSTAL_CODE, EMPLOYER_PHONE, EMPLOYER_PHONE_EXT, EMPLOYER_NUM_EMPLOYEES, EMPLOYER_YR_ESTAB, FW_OWNERSHIP_INTEREST, AGENT_FIRM_NAME, AGENT_CITY, AGENT_STATE, PW_TRACK_NUM, PW_SOC_CODE, PW_SOC_TITLE, PW_LEVEL_9089, PW_AMOUNT_9089, PW_UNIT_OF_PAY_9089, PW_SOURCE_NAME_9089, PW_SOURCE_NAME_OTHER_9089, PW_DETERM_DATE, PW_EXPIRE_DATE, WAGE_OFFER_FROM_9089, WAGE_OFFER_TO_9089, WAGE_OFFER_UNIT_OF_PAY_9089, JOB_INFO_WORK_CITY, JOB_INFO_WORK_STATE, JOB_INFO_WORK_POSTAL_CODE, JOB_INFO_JOB_TITLE, JOB_INFO_EDUCATION, JOB_INFO_EDUCATION_OTHER, JOB_INFO_MAJOR, JOB_INFO_TRAINING, JOB_INFO_TRANING_NUM_MONTHS, JOB_INFO_TRAINING_FIELD, JOB_INFO_EXPERIENCE, JOB_INFO_EXPERIENCE_NUM_MONTHS, JOB_INFO_ALT_FIELD, JOB_INFO_ALT_FIELD_NAME, JOB_INFO_ALT_COMBO_ED_EXP, JOB_INFO_ALT_COMBO_ED, JOB_INFO_ALT_COMBO_ED_OTHER, JOB_INFO_ALT_CMB_ED_OTH_YRS, JOB_INFO_FOREIGN_ED, JOB_INFO_ALT_OCC, JOB_INFO_ALT_OCC_NUM_MONTHS, JOB_INFO_ALT_OCC_JOB_TITLE, JOB_INFO_JOB_REQ_NORMAL, JOB_INFO_FOREIGN_LANG_REQ, JOB_INFO_COMBO_OCCUPATION, JI_OFFERED_TO_SEC_J_FW, JI_FW_LIVE_ON_PREMISES, JI_LIVE_IN_DOMESTIC_SERVICE, JI_LIVE_IN_DOM_SVC_CONTRACT, RECR_INFO_PROFESSIONAL_OCC, RECR_INFO_COLL_UNIV_TEACHER, RECR_INFO_COLL_TEACH_COMP_PROC, RI_COLL_TCH_BASIC_PROCESS, RI_COLL_TEACH_SELECT_DATE, RI_COLL_TEACH_PRO_JNL, RECR_INFO_SWA_JOB_ORDER_START, RECR_INFO_SWA_JOB_ORDER_END, RECR_INFO_SUNDAY_NEWSPAPER, RI_1ST_AD_NEWSPAPER_NAME, RECR_INFO_FIRST_AD_START, RI_2ND_AD_NEWSPAPER_NAME, RI_2ND_AD_NEWSPAPER_OR_JOURNAL, RECR_INFO_SECOND_AD_START, RECR_INFO_JOB_FAIR_FROM, RECR_INFO_JOB_FAIR_TO, RECR_INFO_ON_CAMPUS_RECR_FROM, RECR_INFO_ON_CAMPUS_RECR_TO, RI_EMPLOYER_WEB_POST_FROM, RI_EMPLOYER_WEB_POST_TO, RECR_INFO_PRO_ORG_ADVERT_FROM, RECR_INFO_PRO_ORG_ADVERT_TO, RI_JOB_SEARCH_WEBSITE_FROM, RI_JOB_SEARCH_WEBSITE_TO, RI_PVT_EMPLOYMENT_FIRM_FROM, RI_PVT_EMPLOYMENT_FIRM_TO, RI_EMPLOYEE_REFERRAL_PROG_FROM, RI_EMPLOYEE_REFERRAL_PROG_TO, RI_CAMPUS_PLACEMENT_FROM, RI_CAMPUS_PLACEMENT_TO, RI_LOCAL_ETHNIC_PAPER_FROM, RI_LOCAL_ETHNIC_PAPER_TO, RECR_INFO_RADIO_TV_AD_FROM, RECR_INFO_RADIO_TV_AD_TO, RECR_INFO_EMPLOYER_REC_PAYMENT, ...]\n",
       "Index: []"
      ]
     },
     "metadata": {},
     "output_type": "display_data"
    },
    {
     "data": {
      "text/html": [
       "<div>\n",
       "<style scoped>\n",
       "    .dataframe tbody tr th:only-of-type {\n",
       "        vertical-align: middle;\n",
       "    }\n",
       "\n",
       "    .dataframe tbody tr th {\n",
       "        vertical-align: top;\n",
       "    }\n",
       "\n",
       "    .dataframe thead th {\n",
       "        text-align: right;\n",
       "    }\n",
       "</style>\n",
       "<table border=\"1\" class=\"dataframe\">\n",
       "  <thead>\n",
       "    <tr style=\"text-align: right;\">\n",
       "      <th></th>\n",
       "      <th>CASE_NUMBER</th>\n",
       "      <th>DECISION_DATE</th>\n",
       "      <th>CASE_STATUS</th>\n",
       "      <th>CASE_RECEIVED_DATE</th>\n",
       "      <th>REFILE</th>\n",
       "      <th>ORIG_FILE_DATE</th>\n",
       "      <th>ORIG_CASE_NO</th>\n",
       "      <th>SCHD_A_SHEEPHERDER</th>\n",
       "      <th>EMPLOYER_NAME</th>\n",
       "      <th>EMPLOYER_ADDRESS_1</th>\n",
       "      <th>EMPLOYER_ADDRESS_2</th>\n",
       "      <th>EMPLOYER_CITY</th>\n",
       "      <th>EMPLOYER_STATE</th>\n",
       "      <th>EMPLOYER_COUNTRY</th>\n",
       "      <th>EMPLOYER_POSTAL_CODE</th>\n",
       "      <th>EMPLOYER_PHONE</th>\n",
       "      <th>EMPLOYER_PHONE_EXT</th>\n",
       "      <th>EMPLOYER_NUM_EMPLOYEES</th>\n",
       "      <th>EMPLOYER_YR_ESTAB</th>\n",
       "      <th>FW_OWNERSHIP_INTEREST</th>\n",
       "      <th>AGENT_FIRM_NAME</th>\n",
       "      <th>AGENT_CITY</th>\n",
       "      <th>AGENT_STATE</th>\n",
       "      <th>PW_TRACK_NUM</th>\n",
       "      <th>PW_SOC_CODE</th>\n",
       "      <th>PW_SOC_TITLE</th>\n",
       "      <th>PW_LEVEL_9089</th>\n",
       "      <th>PW_AMOUNT_9089</th>\n",
       "      <th>PW_UNIT_OF_PAY_9089</th>\n",
       "      <th>PW_SOURCE_NAME_9089</th>\n",
       "      <th>PW_SOURCE_NAME_OTHER_9089</th>\n",
       "      <th>PW_DETERM_DATE</th>\n",
       "      <th>PW_EXPIRE_DATE</th>\n",
       "      <th>WAGE_OFFER_FROM_9089</th>\n",
       "      <th>WAGE_OFFER_TO_9089</th>\n",
       "      <th>WAGE_OFFER_UNIT_OF_PAY_9089</th>\n",
       "      <th>JOB_INFO_WORK_CITY</th>\n",
       "      <th>JOB_INFO_WORK_STATE</th>\n",
       "      <th>JOB_INFO_WORK_POSTAL_CODE</th>\n",
       "      <th>JOB_INFO_JOB_TITLE</th>\n",
       "      <th>JOB_INFO_EDUCATION</th>\n",
       "      <th>JOB_INFO_EDUCATION_OTHER</th>\n",
       "      <th>JOB_INFO_MAJOR</th>\n",
       "      <th>JOB_INFO_TRAINING</th>\n",
       "      <th>JOB_INFO_TRANING_NUM_MONTHS</th>\n",
       "      <th>JOB_INFO_TRAINING_FIELD</th>\n",
       "      <th>JOB_INFO_EXPERIENCE</th>\n",
       "      <th>JOB_INFO_EXPERIENCE_NUM_MONTHS</th>\n",
       "      <th>JOB_INFO_ALT_FIELD</th>\n",
       "      <th>JOB_INFO_ALT_FIELD_NAME</th>\n",
       "      <th>JOB_INFO_ALT_COMBO_ED_EXP</th>\n",
       "      <th>JOB_INFO_ALT_COMBO_ED</th>\n",
       "      <th>JOB_INFO_ALT_COMBO_ED_OTHER</th>\n",
       "      <th>JOB_INFO_ALT_CMB_ED_OTH_YRS</th>\n",
       "      <th>JOB_INFO_FOREIGN_ED</th>\n",
       "      <th>JOB_INFO_ALT_OCC</th>\n",
       "      <th>JOB_INFO_ALT_OCC_NUM_MONTHS</th>\n",
       "      <th>JOB_INFO_ALT_OCC_JOB_TITLE</th>\n",
       "      <th>JOB_INFO_JOB_REQ_NORMAL</th>\n",
       "      <th>JOB_INFO_FOREIGN_LANG_REQ</th>\n",
       "      <th>JOB_INFO_COMBO_OCCUPATION</th>\n",
       "      <th>JI_OFFERED_TO_SEC_J_FW</th>\n",
       "      <th>JI_FW_LIVE_ON_PREMISES</th>\n",
       "      <th>JI_LIVE_IN_DOMESTIC_SERVICE</th>\n",
       "      <th>JI_LIVE_IN_DOM_SVC_CONTRACT</th>\n",
       "      <th>RECR_INFO_PROFESSIONAL_OCC</th>\n",
       "      <th>RECR_INFO_COLL_UNIV_TEACHER</th>\n",
       "      <th>RECR_INFO_COLL_TEACH_COMP_PROC</th>\n",
       "      <th>RI_COLL_TCH_BASIC_PROCESS</th>\n",
       "      <th>RI_COLL_TEACH_SELECT_DATE</th>\n",
       "      <th>RI_COLL_TEACH_PRO_JNL</th>\n",
       "      <th>RECR_INFO_SWA_JOB_ORDER_START</th>\n",
       "      <th>RECR_INFO_SWA_JOB_ORDER_END</th>\n",
       "      <th>RECR_INFO_SUNDAY_NEWSPAPER</th>\n",
       "      <th>RI_1ST_AD_NEWSPAPER_NAME</th>\n",
       "      <th>RECR_INFO_FIRST_AD_START</th>\n",
       "      <th>RI_2ND_AD_NEWSPAPER_NAME</th>\n",
       "      <th>RI_2ND_AD_NEWSPAPER_OR_JOURNAL</th>\n",
       "      <th>RECR_INFO_SECOND_AD_START</th>\n",
       "      <th>RECR_INFO_JOB_FAIR_FROM</th>\n",
       "      <th>RECR_INFO_JOB_FAIR_TO</th>\n",
       "      <th>RECR_INFO_ON_CAMPUS_RECR_FROM</th>\n",
       "      <th>RECR_INFO_ON_CAMPUS_RECR_TO</th>\n",
       "      <th>RI_EMPLOYER_WEB_POST_FROM</th>\n",
       "      <th>RI_EMPLOYER_WEB_POST_TO</th>\n",
       "      <th>RECR_INFO_PRO_ORG_ADVERT_FROM</th>\n",
       "      <th>RECR_INFO_PRO_ORG_ADVERT_TO</th>\n",
       "      <th>RI_JOB_SEARCH_WEBSITE_FROM</th>\n",
       "      <th>RI_JOB_SEARCH_WEBSITE_TO</th>\n",
       "      <th>RI_PVT_EMPLOYMENT_FIRM_FROM</th>\n",
       "      <th>RI_PVT_EMPLOYMENT_FIRM_TO</th>\n",
       "      <th>RI_EMPLOYEE_REFERRAL_PROG_FROM</th>\n",
       "      <th>RI_EMPLOYEE_REFERRAL_PROG_TO</th>\n",
       "      <th>RI_CAMPUS_PLACEMENT_FROM</th>\n",
       "      <th>RI_CAMPUS_PLACEMENT_TO</th>\n",
       "      <th>RI_LOCAL_ETHNIC_PAPER_FROM</th>\n",
       "      <th>RI_LOCAL_ETHNIC_PAPER_TO</th>\n",
       "      <th>RECR_INFO_RADIO_TV_AD_FROM</th>\n",
       "      <th>RECR_INFO_RADIO_TV_AD_TO</th>\n",
       "      <th>RECR_INFO_EMPLOYER_REC_PAYMENT</th>\n",
       "      <th>RECR_INFO_BARG_REP_NOTIFIED</th>\n",
       "      <th>RI_POSTED_NOTICE_AT_WORKSITE</th>\n",
       "      <th>RI_LAYOFF_IN_PAST_SIX_MONTHS</th>\n",
       "      <th>RI_US_WORKERS_CONSIDERED</th>\n",
       "      <th>FOREIGN_WORKER_INFO_CITY</th>\n",
       "      <th>FOREIGN_WORKER_INFO_STATE</th>\n",
       "      <th>FW_INFO_POSTAL_CODE</th>\n",
       "      <th>COUNTRY_OF_CITIZENSHIP</th>\n",
       "      <th>FW_INFO_BIRTH_COUNTRY</th>\n",
       "      <th>CLASS_OF_ADMISSION</th>\n",
       "      <th>FOREIGN_WORKER_INFO_EDUCATION</th>\n",
       "      <th>FW_INFO_EDUCATION_OTHER</th>\n",
       "      <th>FOREIGN_WORKER_INFO_MAJOR</th>\n",
       "      <th>FW_INFO_YR_REL_EDU_COMPLETED</th>\n",
       "      <th>FOREIGN_WORKER_INFO_INST</th>\n",
       "      <th>FW_INFO_TRAINING_COMP</th>\n",
       "      <th>FW_INFO_REQ_EXPERIENCE</th>\n",
       "      <th>FW_INFO_ALT_EDU_EXPERIENCE</th>\n",
       "      <th>FW_INFO_REL_OCCUP_EXP</th>\n",
       "      <th>PREPARER_INFO_EMP_COMPLETED</th>\n",
       "      <th>PREPARER_INFO_TITLE</th>\n",
       "      <th>EMPLOYER_DECL_INFO_TITLE</th>\n",
       "      <th>NAICS_US_CODE</th>\n",
       "      <th>NAICS_US_TITLE</th>\n",
       "      <th>PW_JOB_TITLE_9089</th>\n",
       "      <th>prevail-offer</th>\n",
       "    </tr>\n",
       "  </thead>\n",
       "  <tbody>\n",
       "    <tr>\n",
       "      <th>2276</th>\n",
       "      <td>A-17186-59801</td>\n",
       "      <td>2017-10-19</td>\n",
       "      <td>Denied</td>\n",
       "      <td>2017-06-28</td>\n",
       "      <td>N</td>\n",
       "      <td>NaT</td>\n",
       "      <td>NaN</td>\n",
       "      <td>N</td>\n",
       "      <td>DUCTWORKS INC.</td>\n",
       "      <td>434 W FRONT STREET</td>\n",
       "      <td>NaN</td>\n",
       "      <td>PLAINFIELD</td>\n",
       "      <td>NJ</td>\n",
       "      <td>UNITED STATES OF AMERICA</td>\n",
       "      <td>07060</td>\n",
       "      <td>9087548190</td>\n",
       "      <td>NaN</td>\n",
       "      <td>10.0</td>\n",
       "      <td>1996.0</td>\n",
       "      <td>N</td>\n",
       "      <td>LAW OFFICES OF JASON SCOTT CAMILO</td>\n",
       "      <td>NEW BRUNSWICK</td>\n",
       "      <td>NJ</td>\n",
       "      <td>P10016214708180</td>\n",
       "      <td>47-2211</td>\n",
       "      <td>Sheet Metal Workers</td>\n",
       "      <td>Level I</td>\n",
       "      <td>27789.0</td>\n",
       "      <td>Year</td>\n",
       "      <td>OES</td>\n",
       "      <td>NaN</td>\n",
       "      <td>2016-11-21</td>\n",
       "      <td>2017-06-30 00:00:00</td>\n",
       "      <td>27780.0</td>\n",
       "      <td>27780.0</td>\n",
       "      <td>Year</td>\n",
       "      <td>PLAINFIELD</td>\n",
       "      <td>NJ</td>\n",
       "      <td>07060</td>\n",
       "      <td>SHEET METAL WORKER</td>\n",
       "      <td>High School</td>\n",
       "      <td>NaN</td>\n",
       "      <td>NaN</td>\n",
       "      <td>Y</td>\n",
       "      <td>3.0</td>\n",
       "      <td>ON THE JOB ASSEMBLY</td>\n",
       "      <td>N</td>\n",
       "      <td>NaN</td>\n",
       "      <td>N</td>\n",
       "      <td>NaN</td>\n",
       "      <td>N</td>\n",
       "      <td>NaN</td>\n",
       "      <td>NaN</td>\n",
       "      <td>NaN</td>\n",
       "      <td>Y</td>\n",
       "      <td>NaN</td>\n",
       "      <td>NaN</td>\n",
       "      <td>NaN</td>\n",
       "      <td>Y</td>\n",
       "      <td>N</td>\n",
       "      <td>N</td>\n",
       "      <td>Y</td>\n",
       "      <td>N</td>\n",
       "      <td>N</td>\n",
       "      <td>NaN</td>\n",
       "      <td>N</td>\n",
       "      <td>N</td>\n",
       "      <td>NaN</td>\n",
       "      <td>NaN</td>\n",
       "      <td>NaT</td>\n",
       "      <td>NaN</td>\n",
       "      <td>2017-01-05</td>\n",
       "      <td>2017-02-15 00:00:00</td>\n",
       "      <td>Y</td>\n",
       "      <td>HOME NEWS TRIBUNE</td>\n",
       "      <td>2016-12-18</td>\n",
       "      <td>HOME NEWS TRIBUNE</td>\n",
       "      <td>Y</td>\n",
       "      <td>2017-12-25</td>\n",
       "      <td>NaT</td>\n",
       "      <td>NaT</td>\n",
       "      <td>NaT</td>\n",
       "      <td>NaT</td>\n",
       "      <td>NaT</td>\n",
       "      <td>NaT</td>\n",
       "      <td>NaT</td>\n",
       "      <td>NaT</td>\n",
       "      <td>NaT</td>\n",
       "      <td>NaT</td>\n",
       "      <td>NaT</td>\n",
       "      <td>NaT</td>\n",
       "      <td>NaT</td>\n",
       "      <td>NaT</td>\n",
       "      <td>NaT</td>\n",
       "      <td>NaT</td>\n",
       "      <td>NaT</td>\n",
       "      <td>NaT</td>\n",
       "      <td>NaT</td>\n",
       "      <td>NaT</td>\n",
       "      <td>N</td>\n",
       "      <td>A</td>\n",
       "      <td>Y</td>\n",
       "      <td>N</td>\n",
       "      <td>NaN</td>\n",
       "      <td>RAHWAY</td>\n",
       "      <td>NJ</td>\n",
       "      <td>07065</td>\n",
       "      <td>PERU</td>\n",
       "      <td>PERU</td>\n",
       "      <td>NaN</td>\n",
       "      <td>High School</td>\n",
       "      <td>NaN</td>\n",
       "      <td>HIGH SCHOOL DIPLOMA</td>\n",
       "      <td>1991.0</td>\n",
       "      <td>G.U.E. CARLOS PAREJA PAZ SOLDAN</td>\n",
       "      <td>Y</td>\n",
       "      <td>Y</td>\n",
       "      <td>A</td>\n",
       "      <td>A</td>\n",
       "      <td>N</td>\n",
       "      <td>ATTORNEY AT LAW</td>\n",
       "      <td>GENERAL MANAGER</td>\n",
       "      <td>NaN</td>\n",
       "      <td>NaN</td>\n",
       "      <td>SHEET METAL WORKER</td>\n",
       "      <td>YY</td>\n",
       "    </tr>\n",
       "    <tr>\n",
       "      <th>4791</th>\n",
       "      <td>A-17179-57442</td>\n",
       "      <td>2017-10-27</td>\n",
       "      <td>Denied</td>\n",
       "      <td>2017-07-05</td>\n",
       "      <td>N</td>\n",
       "      <td>NaT</td>\n",
       "      <td>NaN</td>\n",
       "      <td>N</td>\n",
       "      <td>COMPUNNEL SOFTWARE GROUP, INC.</td>\n",
       "      <td>103 MORGAN LANE</td>\n",
       "      <td>SUITE 102</td>\n",
       "      <td>PLAINSBORO</td>\n",
       "      <td>NJ</td>\n",
       "      <td>UNITED STATES OF AMERICA</td>\n",
       "      <td>08536</td>\n",
       "      <td>609-606-9010</td>\n",
       "      <td>NaN</td>\n",
       "      <td>600.0</td>\n",
       "      <td>1994.0</td>\n",
       "      <td>N</td>\n",
       "      <td>K. K. RASTOGI, ESQ.</td>\n",
       "      <td>PLAINSBORO</td>\n",
       "      <td>NJ</td>\n",
       "      <td>P10016132691752</td>\n",
       "      <td>15-1142</td>\n",
       "      <td>Network and Computer Systems Administrators*</td>\n",
       "      <td>Level II</td>\n",
       "      <td>90813.0</td>\n",
       "      <td>Year</td>\n",
       "      <td>OES</td>\n",
       "      <td>NaN</td>\n",
       "      <td>2016-08-04</td>\n",
       "      <td>2017-06-30 00:00:00</td>\n",
       "      <td>80000.0</td>\n",
       "      <td>80000.0</td>\n",
       "      <td>Year</td>\n",
       "      <td>PLAINSBORO</td>\n",
       "      <td>NJ</td>\n",
       "      <td>08536</td>\n",
       "      <td>NETWORK &amp; SYSTEMS ADMINISTRATOR</td>\n",
       "      <td>Master's</td>\n",
       "      <td>NaN</td>\n",
       "      <td>COMPUTER SCIENCE  OR SIMILAR</td>\n",
       "      <td>N</td>\n",
       "      <td>NaN</td>\n",
       "      <td>NaN</td>\n",
       "      <td>Y</td>\n",
       "      <td>12.0</td>\n",
       "      <td>Y</td>\n",
       "      <td>Engineering, Electronics, Information Technolo...</td>\n",
       "      <td>Y</td>\n",
       "      <td>Bachelor's</td>\n",
       "      <td>NaN</td>\n",
       "      <td>6.0</td>\n",
       "      <td>Y</td>\n",
       "      <td>Engineering, Electronics, Information Technolo...</td>\n",
       "      <td>12.0</td>\n",
       "      <td>ANY SUITABLE TITLE HAVING SIMILAR DUTIES, SKIL...</td>\n",
       "      <td>Y</td>\n",
       "      <td>N</td>\n",
       "      <td>N</td>\n",
       "      <td>Y</td>\n",
       "      <td>N</td>\n",
       "      <td>N</td>\n",
       "      <td>NaN</td>\n",
       "      <td>Y</td>\n",
       "      <td>N</td>\n",
       "      <td>NaN</td>\n",
       "      <td>NaN</td>\n",
       "      <td>NaT</td>\n",
       "      <td>NaN</td>\n",
       "      <td>2017-02-08</td>\n",
       "      <td>2017-03-10 00:00:00</td>\n",
       "      <td>Y</td>\n",
       "      <td>THE STAR LEDGER</td>\n",
       "      <td>2017-03-19</td>\n",
       "      <td>THE STAR LEDGER</td>\n",
       "      <td>Y</td>\n",
       "      <td>2017-03-26</td>\n",
       "      <td>NaT</td>\n",
       "      <td>NaT</td>\n",
       "      <td>NaT</td>\n",
       "      <td>NaT</td>\n",
       "      <td>2017-02-10</td>\n",
       "      <td>2017-03-10</td>\n",
       "      <td>NaT</td>\n",
       "      <td>NaT</td>\n",
       "      <td>2017-02-10</td>\n",
       "      <td>2017-03-10</td>\n",
       "      <td>NaT</td>\n",
       "      <td>NaT</td>\n",
       "      <td>2017-02-10</td>\n",
       "      <td>2017-03-10</td>\n",
       "      <td>NaT</td>\n",
       "      <td>NaT</td>\n",
       "      <td>NaT</td>\n",
       "      <td>NaT</td>\n",
       "      <td>NaT</td>\n",
       "      <td>NaT</td>\n",
       "      <td>N</td>\n",
       "      <td>A</td>\n",
       "      <td>Y</td>\n",
       "      <td>N</td>\n",
       "      <td>NaN</td>\n",
       "      <td>LIVINGSTON</td>\n",
       "      <td>NJ</td>\n",
       "      <td>07039</td>\n",
       "      <td>INDIA</td>\n",
       "      <td>INDIA</td>\n",
       "      <td>F-1</td>\n",
       "      <td>Master's</td>\n",
       "      <td>NaN</td>\n",
       "      <td>COMPUTER SCIENCE</td>\n",
       "      <td>2015.0</td>\n",
       "      <td>UNIVERSITY OF ILLINOIS</td>\n",
       "      <td>A</td>\n",
       "      <td>Y</td>\n",
       "      <td>A</td>\n",
       "      <td>Y</td>\n",
       "      <td>N</td>\n",
       "      <td>ATTORNEY &amp; GENERAL COUNSEL</td>\n",
       "      <td>PRESIDENT</td>\n",
       "      <td>541511</td>\n",
       "      <td>Custom Computer Programming Services</td>\n",
       "      <td>SOFTWARE DEVELOPER APPLICATIONS</td>\n",
       "      <td>YY</td>\n",
       "    </tr>\n",
       "    <tr>\n",
       "      <th>13230</th>\n",
       "      <td>A-17114-28621</td>\n",
       "      <td>2017-12-05</td>\n",
       "      <td>Denied</td>\n",
       "      <td>2017-04-14</td>\n",
       "      <td>N</td>\n",
       "      <td>NaT</td>\n",
       "      <td>NaN</td>\n",
       "      <td>N</td>\n",
       "      <td>ABC RESOURCES, INC.</td>\n",
       "      <td>1527 WEST STATE STREET</td>\n",
       "      <td>NaN</td>\n",
       "      <td>ONTARIO</td>\n",
       "      <td>CA</td>\n",
       "      <td>UNITED STATES OF AMERICA</td>\n",
       "      <td>91762</td>\n",
       "      <td>909-988-0390</td>\n",
       "      <td>NaN</td>\n",
       "      <td>45.0</td>\n",
       "      <td>NaN</td>\n",
       "      <td>N</td>\n",
       "      <td>DAVID EGLI LAW</td>\n",
       "      <td>RIVERSIDE</td>\n",
       "      <td>CA</td>\n",
       "      <td>SOCIAL SECURITY</td>\n",
       "      <td>47-2061</td>\n",
       "      <td>Construction Laborers</td>\n",
       "      <td>Level I</td>\n",
       "      <td>154789.2</td>\n",
       "      <td>Year</td>\n",
       "      <td>DBA</td>\n",
       "      <td>NaN</td>\n",
       "      <td>2016-08-22</td>\n",
       "      <td>2017-07-22 00:00:00</td>\n",
       "      <td>154263.6</td>\n",
       "      <td>154263.6</td>\n",
       "      <td>Year</td>\n",
       "      <td>ONTARIO</td>\n",
       "      <td>CA</td>\n",
       "      <td>91762</td>\n",
       "      <td>LABORER</td>\n",
       "      <td>High School</td>\n",
       "      <td>WE OFFER TRAINING IN THE FIELD HE IS PERFORMIN...</td>\n",
       "      <td>CONSTRUCTION - WORK PERFORMED IN LICENSE CLASS...</td>\n",
       "      <td>Y</td>\n",
       "      <td>NaN</td>\n",
       "      <td>CONSTRUCTION PARKING LOT AND ROADWAY</td>\n",
       "      <td>Y</td>\n",
       "      <td>NaN</td>\n",
       "      <td>N</td>\n",
       "      <td>NaN</td>\n",
       "      <td>N</td>\n",
       "      <td>High School</td>\n",
       "      <td>EDUCATIONAL TRAINING IS OFFERED AND EMPLOYEE H...</td>\n",
       "      <td>NaN</td>\n",
       "      <td>Y</td>\n",
       "      <td>NaN</td>\n",
       "      <td>NaN</td>\n",
       "      <td>NaN</td>\n",
       "      <td>Y</td>\n",
       "      <td>Y</td>\n",
       "      <td>Y</td>\n",
       "      <td>Y</td>\n",
       "      <td>N</td>\n",
       "      <td>N</td>\n",
       "      <td>A</td>\n",
       "      <td>N</td>\n",
       "      <td>N</td>\n",
       "      <td>N</td>\n",
       "      <td>N</td>\n",
       "      <td>2012-03-07</td>\n",
       "      <td>NaN</td>\n",
       "      <td>NaT</td>\n",
       "      <td>NaN</td>\n",
       "      <td>N</td>\n",
       "      <td>NaN</td>\n",
       "      <td>NaT</td>\n",
       "      <td>NaN</td>\n",
       "      <td>NaN</td>\n",
       "      <td>NaT</td>\n",
       "      <td>NaT</td>\n",
       "      <td>NaT</td>\n",
       "      <td>NaT</td>\n",
       "      <td>NaT</td>\n",
       "      <td>NaT</td>\n",
       "      <td>NaT</td>\n",
       "      <td>NaT</td>\n",
       "      <td>NaT</td>\n",
       "      <td>NaT</td>\n",
       "      <td>NaT</td>\n",
       "      <td>NaT</td>\n",
       "      <td>NaT</td>\n",
       "      <td>NaT</td>\n",
       "      <td>NaT</td>\n",
       "      <td>NaT</td>\n",
       "      <td>NaT</td>\n",
       "      <td>NaT</td>\n",
       "      <td>NaT</td>\n",
       "      <td>NaT</td>\n",
       "      <td>NaT</td>\n",
       "      <td>N</td>\n",
       "      <td>A</td>\n",
       "      <td>A</td>\n",
       "      <td>N</td>\n",
       "      <td>A</td>\n",
       "      <td>MORENO VALLEY</td>\n",
       "      <td>CA</td>\n",
       "      <td>92557</td>\n",
       "      <td>MEXICO</td>\n",
       "      <td>MEXICO</td>\n",
       "      <td>NaN</td>\n",
       "      <td>High School</td>\n",
       "      <td>NaN</td>\n",
       "      <td>NaN</td>\n",
       "      <td>NaN</td>\n",
       "      <td>NaN</td>\n",
       "      <td>Y</td>\n",
       "      <td>Y</td>\n",
       "      <td>Y</td>\n",
       "      <td>A</td>\n",
       "      <td>Y</td>\n",
       "      <td>OFFFICE MANAGER - CORPORATE REVENUE OFFICER</td>\n",
       "      <td>PRESIDENT</td>\n",
       "      <td>237310</td>\n",
       "      <td>Highway, Street, and Bridge Construction</td>\n",
       "      <td>LABORER</td>\n",
       "      <td>YY</td>\n",
       "    </tr>\n",
       "    <tr>\n",
       "      <th>14987</th>\n",
       "      <td>A-17198-64157</td>\n",
       "      <td>2017-12-14</td>\n",
       "      <td>Denied</td>\n",
       "      <td>2017-07-17</td>\n",
       "      <td>N</td>\n",
       "      <td>NaT</td>\n",
       "      <td>NaN</td>\n",
       "      <td>N</td>\n",
       "      <td>Albano Tilesetters Inc.</td>\n",
       "      <td>22 Carman View Drivr</td>\n",
       "      <td>NaN</td>\n",
       "      <td>Shirley</td>\n",
       "      <td>NY</td>\n",
       "      <td>UNITED STATES OF AMERICA</td>\n",
       "      <td>10967</td>\n",
       "      <td>718 837 8453</td>\n",
       "      <td>NaN</td>\n",
       "      <td>8.0</td>\n",
       "      <td>2009.0</td>\n",
       "      <td>Y</td>\n",
       "      <td>NaN</td>\n",
       "      <td>NaN</td>\n",
       "      <td>NaN</td>\n",
       "      <td>NaN</td>\n",
       "      <td>47-2044</td>\n",
       "      <td>Tile and Marble Setters</td>\n",
       "      <td>Level I</td>\n",
       "      <td>423283.2</td>\n",
       "      <td>Year</td>\n",
       "      <td>OES</td>\n",
       "      <td>NaN</td>\n",
       "      <td>2017-07-17</td>\n",
       "      <td>2018-07-17 00:00:00</td>\n",
       "      <td>201480.0</td>\n",
       "      <td>306600.0</td>\n",
       "      <td>Year</td>\n",
       "      <td>Brooklyn</td>\n",
       "      <td>NY</td>\n",
       "      <td>11228</td>\n",
       "      <td>Tile, Mosaic and Stone installation / Restoration</td>\n",
       "      <td>High School</td>\n",
       "      <td>NaN</td>\n",
       "      <td>NaN</td>\n",
       "      <td>N</td>\n",
       "      <td>NaN</td>\n",
       "      <td>NaN</td>\n",
       "      <td>N</td>\n",
       "      <td>NaN</td>\n",
       "      <td>N</td>\n",
       "      <td>NaN</td>\n",
       "      <td>N</td>\n",
       "      <td>NaN</td>\n",
       "      <td>NaN</td>\n",
       "      <td>NaN</td>\n",
       "      <td>Y</td>\n",
       "      <td>NaN</td>\n",
       "      <td>NaN</td>\n",
       "      <td>NaN</td>\n",
       "      <td>Y</td>\n",
       "      <td>N</td>\n",
       "      <td>Y</td>\n",
       "      <td>Y</td>\n",
       "      <td>N</td>\n",
       "      <td>N</td>\n",
       "      <td>NaN</td>\n",
       "      <td>N</td>\n",
       "      <td>N</td>\n",
       "      <td>NaN</td>\n",
       "      <td>NaN</td>\n",
       "      <td>NaT</td>\n",
       "      <td>NaN</td>\n",
       "      <td>2017-07-17</td>\n",
       "      <td>2017-09-01 00:00:00</td>\n",
       "      <td>Y</td>\n",
       "      <td>Craigslist</td>\n",
       "      <td>2017-02-10</td>\n",
       "      <td>None</td>\n",
       "      <td>N</td>\n",
       "      <td>2017-07-17</td>\n",
       "      <td>NaT</td>\n",
       "      <td>NaT</td>\n",
       "      <td>NaT</td>\n",
       "      <td>NaT</td>\n",
       "      <td>NaT</td>\n",
       "      <td>NaT</td>\n",
       "      <td>NaT</td>\n",
       "      <td>NaT</td>\n",
       "      <td>NaT</td>\n",
       "      <td>NaT</td>\n",
       "      <td>NaT</td>\n",
       "      <td>NaT</td>\n",
       "      <td>NaT</td>\n",
       "      <td>NaT</td>\n",
       "      <td>NaT</td>\n",
       "      <td>NaT</td>\n",
       "      <td>NaT</td>\n",
       "      <td>NaT</td>\n",
       "      <td>NaT</td>\n",
       "      <td>NaT</td>\n",
       "      <td>N</td>\n",
       "      <td>N</td>\n",
       "      <td>N</td>\n",
       "      <td>N</td>\n",
       "      <td>NaN</td>\n",
       "      <td>MONREALE</td>\n",
       "      <td>NaN</td>\n",
       "      <td>90046</td>\n",
       "      <td>ITALY</td>\n",
       "      <td>ITALY</td>\n",
       "      <td>NaN</td>\n",
       "      <td>High School</td>\n",
       "      <td>NaN</td>\n",
       "      <td>NaN</td>\n",
       "      <td>12.0</td>\n",
       "      <td>NaN</td>\n",
       "      <td>N</td>\n",
       "      <td>N</td>\n",
       "      <td>N</td>\n",
       "      <td>N</td>\n",
       "      <td>Y</td>\n",
       "      <td>NaN</td>\n",
       "      <td>Vice President</td>\n",
       "      <td>238340</td>\n",
       "      <td>Tile and Terrazzo Contractors</td>\n",
       "      <td>Tile, Mosaic and Stone installers/ Restoration</td>\n",
       "      <td>YY</td>\n",
       "    </tr>\n",
       "    <tr>\n",
       "      <th>25040</th>\n",
       "      <td>A-17250-84484</td>\n",
       "      <td>2018-02-07</td>\n",
       "      <td>Denied</td>\n",
       "      <td>2017-09-22</td>\n",
       "      <td>N</td>\n",
       "      <td>NaT</td>\n",
       "      <td>NaN</td>\n",
       "      <td>N</td>\n",
       "      <td>D&amp;D Roofing and Sheet Metal, Inc.</td>\n",
       "      <td>1000 Glendale Avenue</td>\n",
       "      <td>NaN</td>\n",
       "      <td>Sparks</td>\n",
       "      <td>NV</td>\n",
       "      <td>UNITED STATES OF AMERICA</td>\n",
       "      <td>89431</td>\n",
       "      <td>775.685.5555</td>\n",
       "      <td>NaN</td>\n",
       "      <td>300.0</td>\n",
       "      <td>1977.0</td>\n",
       "      <td>N</td>\n",
       "      <td>Global Immigration Legal Services</td>\n",
       "      <td>Reno</td>\n",
       "      <td>NV</td>\n",
       "      <td>P10017109150321</td>\n",
       "      <td>47-2181</td>\n",
       "      <td>Roofers</td>\n",
       "      <td>Level III</td>\n",
       "      <td>76752.0</td>\n",
       "      <td>Year</td>\n",
       "      <td>OES</td>\n",
       "      <td>NaN</td>\n",
       "      <td>2017-07-18</td>\n",
       "      <td>2018-06-30 00:00:00</td>\n",
       "      <td>66000.0</td>\n",
       "      <td>66000.0</td>\n",
       "      <td>Year</td>\n",
       "      <td>Sparks</td>\n",
       "      <td>NV</td>\n",
       "      <td>89431</td>\n",
       "      <td>Roofer foreman</td>\n",
       "      <td>High School</td>\n",
       "      <td>NaN</td>\n",
       "      <td>NaN</td>\n",
       "      <td>Y</td>\n",
       "      <td>36.0</td>\n",
       "      <td>Roofing and sheet metal</td>\n",
       "      <td>Y</td>\n",
       "      <td>60.0</td>\n",
       "      <td>N</td>\n",
       "      <td>NaN</td>\n",
       "      <td>N</td>\n",
       "      <td>NaN</td>\n",
       "      <td>NaN</td>\n",
       "      <td>NaN</td>\n",
       "      <td>N</td>\n",
       "      <td>NaN</td>\n",
       "      <td>NaN</td>\n",
       "      <td>NaN</td>\n",
       "      <td>Y</td>\n",
       "      <td>N</td>\n",
       "      <td>N</td>\n",
       "      <td>Y</td>\n",
       "      <td>N</td>\n",
       "      <td>N</td>\n",
       "      <td>NaN</td>\n",
       "      <td>N</td>\n",
       "      <td>N</td>\n",
       "      <td>NaN</td>\n",
       "      <td>NaN</td>\n",
       "      <td>NaT</td>\n",
       "      <td>NaN</td>\n",
       "      <td>2017-06-20</td>\n",
       "      <td>2017-12-20 00:00:00</td>\n",
       "      <td>Y</td>\n",
       "      <td>Reno Gazette Journal</td>\n",
       "      <td>2017-06-25</td>\n",
       "      <td>Reno Gazette Journal</td>\n",
       "      <td>Y</td>\n",
       "      <td>2017-07-02</td>\n",
       "      <td>NaT</td>\n",
       "      <td>NaT</td>\n",
       "      <td>NaT</td>\n",
       "      <td>NaT</td>\n",
       "      <td>NaT</td>\n",
       "      <td>NaT</td>\n",
       "      <td>NaT</td>\n",
       "      <td>NaT</td>\n",
       "      <td>NaT</td>\n",
       "      <td>NaT</td>\n",
       "      <td>NaT</td>\n",
       "      <td>NaT</td>\n",
       "      <td>NaT</td>\n",
       "      <td>NaT</td>\n",
       "      <td>NaT</td>\n",
       "      <td>NaT</td>\n",
       "      <td>NaT</td>\n",
       "      <td>NaT</td>\n",
       "      <td>NaT</td>\n",
       "      <td>NaT</td>\n",
       "      <td>N</td>\n",
       "      <td>A</td>\n",
       "      <td>Y</td>\n",
       "      <td>N</td>\n",
       "      <td>NaN</td>\n",
       "      <td>RENO</td>\n",
       "      <td>NV</td>\n",
       "      <td>89512</td>\n",
       "      <td>MEXICO</td>\n",
       "      <td>MEXICO</td>\n",
       "      <td>EWI</td>\n",
       "      <td>High School</td>\n",
       "      <td>NaN</td>\n",
       "      <td>HIGH SCHOOL</td>\n",
       "      <td>1988.0</td>\n",
       "      <td>INSTITUTO CULTURAL MEXICANO NORTEAMERICANO DE ...</td>\n",
       "      <td>Y</td>\n",
       "      <td>Y</td>\n",
       "      <td>A</td>\n",
       "      <td>A</td>\n",
       "      <td>N</td>\n",
       "      <td>Attorney at law</td>\n",
       "      <td>General superintendent</td>\n",
       "      <td>238160</td>\n",
       "      <td>Roofing Contractors</td>\n",
       "      <td>Roofer foreman</td>\n",
       "      <td>YY</td>\n",
       "    </tr>\n",
       "  </tbody>\n",
       "</table>\n",
       "</div>"
      ],
      "text/plain": [
       "         CASE_NUMBER DECISION_DATE CASE_STATUS CASE_RECEIVED_DATE REFILE  \\\n",
       "2276   A-17186-59801    2017-10-19      Denied         2017-06-28      N   \n",
       "4791   A-17179-57442    2017-10-27      Denied         2017-07-05      N   \n",
       "13230  A-17114-28621    2017-12-05      Denied         2017-04-14      N   \n",
       "14987  A-17198-64157    2017-12-14      Denied         2017-07-17      N   \n",
       "25040  A-17250-84484    2018-02-07      Denied         2017-09-22      N   \n",
       "\n",
       "      ORIG_FILE_DATE ORIG_CASE_NO SCHD_A_SHEEPHERDER  \\\n",
       "2276             NaT          NaN                  N   \n",
       "4791             NaT          NaN                  N   \n",
       "13230            NaT          NaN                  N   \n",
       "14987            NaT          NaN                  N   \n",
       "25040            NaT          NaN                  N   \n",
       "\n",
       "                           EMPLOYER_NAME      EMPLOYER_ADDRESS_1  \\\n",
       "2276                      DUCTWORKS INC.      434 W FRONT STREET   \n",
       "4791      COMPUNNEL SOFTWARE GROUP, INC.         103 MORGAN LANE   \n",
       "13230                ABC RESOURCES, INC.  1527 WEST STATE STREET   \n",
       "14987            Albano Tilesetters Inc.    22 Carman View Drivr   \n",
       "25040  D&D Roofing and Sheet Metal, Inc.    1000 Glendale Avenue   \n",
       "\n",
       "      EMPLOYER_ADDRESS_2 EMPLOYER_CITY EMPLOYER_STATE  \\\n",
       "2276                 NaN    PLAINFIELD             NJ   \n",
       "4791           SUITE 102    PLAINSBORO             NJ   \n",
       "13230                NaN       ONTARIO             CA   \n",
       "14987                NaN       Shirley             NY   \n",
       "25040                NaN        Sparks             NV   \n",
       "\n",
       "               EMPLOYER_COUNTRY EMPLOYER_POSTAL_CODE EMPLOYER_PHONE  \\\n",
       "2276   UNITED STATES OF AMERICA                07060     9087548190   \n",
       "4791   UNITED STATES OF AMERICA                08536   609-606-9010   \n",
       "13230  UNITED STATES OF AMERICA                91762   909-988-0390   \n",
       "14987  UNITED STATES OF AMERICA                10967   718 837 8453   \n",
       "25040  UNITED STATES OF AMERICA                89431   775.685.5555   \n",
       "\n",
       "      EMPLOYER_PHONE_EXT  EMPLOYER_NUM_EMPLOYEES  EMPLOYER_YR_ESTAB  \\\n",
       "2276                 NaN                    10.0             1996.0   \n",
       "4791                 NaN                   600.0             1994.0   \n",
       "13230                NaN                    45.0                NaN   \n",
       "14987                NaN                     8.0             2009.0   \n",
       "25040                NaN                   300.0             1977.0   \n",
       "\n",
       "      FW_OWNERSHIP_INTEREST                    AGENT_FIRM_NAME     AGENT_CITY  \\\n",
       "2276                      N  LAW OFFICES OF JASON SCOTT CAMILO  NEW BRUNSWICK   \n",
       "4791                      N                K. K. RASTOGI, ESQ.     PLAINSBORO   \n",
       "13230                     N                     DAVID EGLI LAW      RIVERSIDE   \n",
       "14987                     Y                                NaN            NaN   \n",
       "25040                     N  Global Immigration Legal Services           Reno   \n",
       "\n",
       "      AGENT_STATE     PW_TRACK_NUM PW_SOC_CODE  \\\n",
       "2276           NJ  P10016214708180     47-2211   \n",
       "4791           NJ  P10016132691752     15-1142   \n",
       "13230          CA  SOCIAL SECURITY     47-2061   \n",
       "14987         NaN              NaN     47-2044   \n",
       "25040          NV  P10017109150321     47-2181   \n",
       "\n",
       "                                       PW_SOC_TITLE PW_LEVEL_9089  \\\n",
       "2276                            Sheet Metal Workers       Level I   \n",
       "4791   Network and Computer Systems Administrators*      Level II   \n",
       "13230                         Construction Laborers       Level I   \n",
       "14987                       Tile and Marble Setters       Level I   \n",
       "25040                                       Roofers     Level III   \n",
       "\n",
       "       PW_AMOUNT_9089 PW_UNIT_OF_PAY_9089 PW_SOURCE_NAME_9089  \\\n",
       "2276          27789.0                Year                 OES   \n",
       "4791          90813.0                Year                 OES   \n",
       "13230        154789.2                Year                 DBA   \n",
       "14987        423283.2                Year                 OES   \n",
       "25040         76752.0                Year                 OES   \n",
       "\n",
       "      PW_SOURCE_NAME_OTHER_9089 PW_DETERM_DATE       PW_EXPIRE_DATE  \\\n",
       "2276                        NaN     2016-11-21  2017-06-30 00:00:00   \n",
       "4791                        NaN     2016-08-04  2017-06-30 00:00:00   \n",
       "13230                       NaN     2016-08-22  2017-07-22 00:00:00   \n",
       "14987                       NaN     2017-07-17  2018-07-17 00:00:00   \n",
       "25040                       NaN     2017-07-18  2018-06-30 00:00:00   \n",
       "\n",
       "       WAGE_OFFER_FROM_9089  WAGE_OFFER_TO_9089 WAGE_OFFER_UNIT_OF_PAY_9089  \\\n",
       "2276                27780.0             27780.0                        Year   \n",
       "4791                80000.0             80000.0                        Year   \n",
       "13230              154263.6            154263.6                        Year   \n",
       "14987              201480.0            306600.0                        Year   \n",
       "25040               66000.0             66000.0                        Year   \n",
       "\n",
       "      JOB_INFO_WORK_CITY JOB_INFO_WORK_STATE JOB_INFO_WORK_POSTAL_CODE  \\\n",
       "2276          PLAINFIELD                  NJ                     07060   \n",
       "4791          PLAINSBORO                  NJ                     08536   \n",
       "13230            ONTARIO                  CA                     91762   \n",
       "14987           Brooklyn                  NY                     11228   \n",
       "25040             Sparks                  NV                     89431   \n",
       "\n",
       "                                      JOB_INFO_JOB_TITLE JOB_INFO_EDUCATION  \\\n",
       "2276                                  SHEET METAL WORKER        High School   \n",
       "4791                     NETWORK & SYSTEMS ADMINISTRATOR           Master's   \n",
       "13230                                            LABORER        High School   \n",
       "14987  Tile, Mosaic and Stone installation / Restoration        High School   \n",
       "25040                                     Roofer foreman        High School   \n",
       "\n",
       "                                JOB_INFO_EDUCATION_OTHER  \\\n",
       "2276                                                 NaN   \n",
       "4791                                                 NaN   \n",
       "13230  WE OFFER TRAINING IN THE FIELD HE IS PERFORMIN...   \n",
       "14987                                                NaN   \n",
       "25040                                                NaN   \n",
       "\n",
       "                                          JOB_INFO_MAJOR JOB_INFO_TRAINING  \\\n",
       "2276                                                 NaN                 Y   \n",
       "4791                        COMPUTER SCIENCE  OR SIMILAR                 N   \n",
       "13230  CONSTRUCTION - WORK PERFORMED IN LICENSE CLASS...                 Y   \n",
       "14987                                                NaN                 N   \n",
       "25040                                                NaN                 Y   \n",
       "\n",
       "       JOB_INFO_TRANING_NUM_MONTHS               JOB_INFO_TRAINING_FIELD  \\\n",
       "2276                           3.0                   ON THE JOB ASSEMBLY   \n",
       "4791                           NaN                                   NaN   \n",
       "13230                          NaN  CONSTRUCTION PARKING LOT AND ROADWAY   \n",
       "14987                          NaN                                   NaN   \n",
       "25040                         36.0               Roofing and sheet metal   \n",
       "\n",
       "      JOB_INFO_EXPERIENCE  JOB_INFO_EXPERIENCE_NUM_MONTHS JOB_INFO_ALT_FIELD  \\\n",
       "2276                    N                             NaN                  N   \n",
       "4791                    Y                            12.0                  Y   \n",
       "13230                   Y                             NaN                  N   \n",
       "14987                   N                             NaN                  N   \n",
       "25040                   Y                            60.0                  N   \n",
       "\n",
       "                                 JOB_INFO_ALT_FIELD_NAME  \\\n",
       "2276                                                 NaN   \n",
       "4791   Engineering, Electronics, Information Technolo...   \n",
       "13230                                                NaN   \n",
       "14987                                                NaN   \n",
       "25040                                                NaN   \n",
       "\n",
       "      JOB_INFO_ALT_COMBO_ED_EXP JOB_INFO_ALT_COMBO_ED  \\\n",
       "2276                          N                   NaN   \n",
       "4791                          Y            Bachelor's   \n",
       "13230                         N           High School   \n",
       "14987                         N                   NaN   \n",
       "25040                         N                   NaN   \n",
       "\n",
       "                             JOB_INFO_ALT_COMBO_ED_OTHER  \\\n",
       "2276                                                 NaN   \n",
       "4791                                                 NaN   \n",
       "13230  EDUCATIONAL TRAINING IS OFFERED AND EMPLOYEE H...   \n",
       "14987                                                NaN   \n",
       "25040                                                NaN   \n",
       "\n",
       "       JOB_INFO_ALT_CMB_ED_OTH_YRS JOB_INFO_FOREIGN_ED  \\\n",
       "2276                           NaN                   Y   \n",
       "4791                           6.0                   Y   \n",
       "13230                          NaN                   Y   \n",
       "14987                          NaN                   Y   \n",
       "25040                          NaN                   N   \n",
       "\n",
       "                                        JOB_INFO_ALT_OCC  \\\n",
       "2276                                                 NaN   \n",
       "4791   Engineering, Electronics, Information Technolo...   \n",
       "13230                                                NaN   \n",
       "14987                                                NaN   \n",
       "25040                                                NaN   \n",
       "\n",
       "       JOB_INFO_ALT_OCC_NUM_MONTHS  \\\n",
       "2276                           NaN   \n",
       "4791                          12.0   \n",
       "13230                          NaN   \n",
       "14987                          NaN   \n",
       "25040                          NaN   \n",
       "\n",
       "                              JOB_INFO_ALT_OCC_JOB_TITLE  \\\n",
       "2276                                                 NaN   \n",
       "4791   ANY SUITABLE TITLE HAVING SIMILAR DUTIES, SKIL...   \n",
       "13230                                                NaN   \n",
       "14987                                                NaN   \n",
       "25040                                                NaN   \n",
       "\n",
       "      JOB_INFO_JOB_REQ_NORMAL JOB_INFO_FOREIGN_LANG_REQ  \\\n",
       "2276                        Y                         N   \n",
       "4791                        Y                         N   \n",
       "13230                       Y                         Y   \n",
       "14987                       Y                         N   \n",
       "25040                       Y                         N   \n",
       "\n",
       "      JOB_INFO_COMBO_OCCUPATION JI_OFFERED_TO_SEC_J_FW JI_FW_LIVE_ON_PREMISES  \\\n",
       "2276                          N                      Y                      N   \n",
       "4791                          N                      Y                      N   \n",
       "13230                         Y                      Y                      N   \n",
       "14987                         Y                      Y                      N   \n",
       "25040                         N                      Y                      N   \n",
       "\n",
       "      JI_LIVE_IN_DOMESTIC_SERVICE JI_LIVE_IN_DOM_SVC_CONTRACT  \\\n",
       "2276                            N                         NaN   \n",
       "4791                            N                         NaN   \n",
       "13230                           N                           A   \n",
       "14987                           N                         NaN   \n",
       "25040                           N                         NaN   \n",
       "\n",
       "      RECR_INFO_PROFESSIONAL_OCC RECR_INFO_COLL_UNIV_TEACHER  \\\n",
       "2276                           N                           N   \n",
       "4791                           Y                           N   \n",
       "13230                          N                           N   \n",
       "14987                          N                           N   \n",
       "25040                          N                           N   \n",
       "\n",
       "      RECR_INFO_COLL_TEACH_COMP_PROC RI_COLL_TCH_BASIC_PROCESS  \\\n",
       "2276                             NaN                       NaN   \n",
       "4791                             NaN                       NaN   \n",
       "13230                              N                         N   \n",
       "14987                            NaN                       NaN   \n",
       "25040                            NaN                       NaN   \n",
       "\n",
       "      RI_COLL_TEACH_SELECT_DATE RI_COLL_TEACH_PRO_JNL  \\\n",
       "2276                        NaT                   NaN   \n",
       "4791                        NaT                   NaN   \n",
       "13230                2012-03-07                   NaN   \n",
       "14987                       NaT                   NaN   \n",
       "25040                       NaT                   NaN   \n",
       "\n",
       "      RECR_INFO_SWA_JOB_ORDER_START RECR_INFO_SWA_JOB_ORDER_END  \\\n",
       "2276                     2017-01-05         2017-02-15 00:00:00   \n",
       "4791                     2017-02-08         2017-03-10 00:00:00   \n",
       "13230                           NaT                         NaN   \n",
       "14987                    2017-07-17         2017-09-01 00:00:00   \n",
       "25040                    2017-06-20         2017-12-20 00:00:00   \n",
       "\n",
       "      RECR_INFO_SUNDAY_NEWSPAPER RI_1ST_AD_NEWSPAPER_NAME  \\\n",
       "2276                           Y        HOME NEWS TRIBUNE   \n",
       "4791                           Y          THE STAR LEDGER   \n",
       "13230                          N                      NaN   \n",
       "14987                          Y               Craigslist   \n",
       "25040                          Y     Reno Gazette Journal   \n",
       "\n",
       "      RECR_INFO_FIRST_AD_START RI_2ND_AD_NEWSPAPER_NAME  \\\n",
       "2276                2016-12-18        HOME NEWS TRIBUNE   \n",
       "4791                2017-03-19          THE STAR LEDGER   \n",
       "13230                      NaT                      NaN   \n",
       "14987               2017-02-10                     None   \n",
       "25040               2017-06-25     Reno Gazette Journal   \n",
       "\n",
       "      RI_2ND_AD_NEWSPAPER_OR_JOURNAL RECR_INFO_SECOND_AD_START  \\\n",
       "2276                               Y                2017-12-25   \n",
       "4791                               Y                2017-03-26   \n",
       "13230                            NaN                       NaT   \n",
       "14987                              N                2017-07-17   \n",
       "25040                              Y                2017-07-02   \n",
       "\n",
       "      RECR_INFO_JOB_FAIR_FROM RECR_INFO_JOB_FAIR_TO  \\\n",
       "2276                      NaT                   NaT   \n",
       "4791                      NaT                   NaT   \n",
       "13230                     NaT                   NaT   \n",
       "14987                     NaT                   NaT   \n",
       "25040                     NaT                   NaT   \n",
       "\n",
       "      RECR_INFO_ON_CAMPUS_RECR_FROM RECR_INFO_ON_CAMPUS_RECR_TO  \\\n",
       "2276                            NaT                         NaT   \n",
       "4791                            NaT                         NaT   \n",
       "13230                           NaT                         NaT   \n",
       "14987                           NaT                         NaT   \n",
       "25040                           NaT                         NaT   \n",
       "\n",
       "      RI_EMPLOYER_WEB_POST_FROM RI_EMPLOYER_WEB_POST_TO  \\\n",
       "2276                        NaT                     NaT   \n",
       "4791                 2017-02-10              2017-03-10   \n",
       "13230                       NaT                     NaT   \n",
       "14987                       NaT                     NaT   \n",
       "25040                       NaT                     NaT   \n",
       "\n",
       "      RECR_INFO_PRO_ORG_ADVERT_FROM RECR_INFO_PRO_ORG_ADVERT_TO  \\\n",
       "2276                            NaT                         NaT   \n",
       "4791                            NaT                         NaT   \n",
       "13230                           NaT                         NaT   \n",
       "14987                           NaT                         NaT   \n",
       "25040                           NaT                         NaT   \n",
       "\n",
       "      RI_JOB_SEARCH_WEBSITE_FROM RI_JOB_SEARCH_WEBSITE_TO  \\\n",
       "2276                         NaT                      NaT   \n",
       "4791                  2017-02-10               2017-03-10   \n",
       "13230                        NaT                      NaT   \n",
       "14987                        NaT                      NaT   \n",
       "25040                        NaT                      NaT   \n",
       "\n",
       "      RI_PVT_EMPLOYMENT_FIRM_FROM RI_PVT_EMPLOYMENT_FIRM_TO  \\\n",
       "2276                          NaT                       NaT   \n",
       "4791                          NaT                       NaT   \n",
       "13230                         NaT                       NaT   \n",
       "14987                         NaT                       NaT   \n",
       "25040                         NaT                       NaT   \n",
       "\n",
       "      RI_EMPLOYEE_REFERRAL_PROG_FROM RI_EMPLOYEE_REFERRAL_PROG_TO  \\\n",
       "2276                             NaT                          NaT   \n",
       "4791                      2017-02-10                   2017-03-10   \n",
       "13230                            NaT                          NaT   \n",
       "14987                            NaT                          NaT   \n",
       "25040                            NaT                          NaT   \n",
       "\n",
       "      RI_CAMPUS_PLACEMENT_FROM RI_CAMPUS_PLACEMENT_TO  \\\n",
       "2276                       NaT                    NaT   \n",
       "4791                       NaT                    NaT   \n",
       "13230                      NaT                    NaT   \n",
       "14987                      NaT                    NaT   \n",
       "25040                      NaT                    NaT   \n",
       "\n",
       "      RI_LOCAL_ETHNIC_PAPER_FROM RI_LOCAL_ETHNIC_PAPER_TO  \\\n",
       "2276                         NaT                      NaT   \n",
       "4791                         NaT                      NaT   \n",
       "13230                        NaT                      NaT   \n",
       "14987                        NaT                      NaT   \n",
       "25040                        NaT                      NaT   \n",
       "\n",
       "      RECR_INFO_RADIO_TV_AD_FROM RECR_INFO_RADIO_TV_AD_TO  \\\n",
       "2276                         NaT                      NaT   \n",
       "4791                         NaT                      NaT   \n",
       "13230                        NaT                      NaT   \n",
       "14987                        NaT                      NaT   \n",
       "25040                        NaT                      NaT   \n",
       "\n",
       "      RECR_INFO_EMPLOYER_REC_PAYMENT RECR_INFO_BARG_REP_NOTIFIED  \\\n",
       "2276                               N                           A   \n",
       "4791                               N                           A   \n",
       "13230                              N                           A   \n",
       "14987                              N                           N   \n",
       "25040                              N                           A   \n",
       "\n",
       "      RI_POSTED_NOTICE_AT_WORKSITE RI_LAYOFF_IN_PAST_SIX_MONTHS  \\\n",
       "2276                             Y                            N   \n",
       "4791                             Y                            N   \n",
       "13230                            A                            N   \n",
       "14987                            N                            N   \n",
       "25040                            Y                            N   \n",
       "\n",
       "      RI_US_WORKERS_CONSIDERED FOREIGN_WORKER_INFO_CITY  \\\n",
       "2276                       NaN                   RAHWAY   \n",
       "4791                       NaN               LIVINGSTON   \n",
       "13230                        A            MORENO VALLEY   \n",
       "14987                      NaN                 MONREALE   \n",
       "25040                      NaN                     RENO   \n",
       "\n",
       "      FOREIGN_WORKER_INFO_STATE FW_INFO_POSTAL_CODE COUNTRY_OF_CITIZENSHIP  \\\n",
       "2276                         NJ               07065                   PERU   \n",
       "4791                         NJ               07039                  INDIA   \n",
       "13230                        CA               92557                 MEXICO   \n",
       "14987                       NaN               90046                  ITALY   \n",
       "25040                        NV               89512                 MEXICO   \n",
       "\n",
       "      FW_INFO_BIRTH_COUNTRY CLASS_OF_ADMISSION FOREIGN_WORKER_INFO_EDUCATION  \\\n",
       "2276                   PERU                NaN                   High School   \n",
       "4791                  INDIA                F-1                      Master's   \n",
       "13230                MEXICO                NaN                   High School   \n",
       "14987                 ITALY                NaN                   High School   \n",
       "25040                MEXICO                EWI                   High School   \n",
       "\n",
       "      FW_INFO_EDUCATION_OTHER FOREIGN_WORKER_INFO_MAJOR  \\\n",
       "2276                      NaN       HIGH SCHOOL DIPLOMA   \n",
       "4791                      NaN          COMPUTER SCIENCE   \n",
       "13230                     NaN                       NaN   \n",
       "14987                     NaN                       NaN   \n",
       "25040                     NaN               HIGH SCHOOL   \n",
       "\n",
       "       FW_INFO_YR_REL_EDU_COMPLETED  \\\n",
       "2276                         1991.0   \n",
       "4791                         2015.0   \n",
       "13230                           NaN   \n",
       "14987                          12.0   \n",
       "25040                        1988.0   \n",
       "\n",
       "                                FOREIGN_WORKER_INFO_INST  \\\n",
       "2276                     G.U.E. CARLOS PAREJA PAZ SOLDAN   \n",
       "4791                              UNIVERSITY OF ILLINOIS   \n",
       "13230                                                NaN   \n",
       "14987                                                NaN   \n",
       "25040  INSTITUTO CULTURAL MEXICANO NORTEAMERICANO DE ...   \n",
       "\n",
       "      FW_INFO_TRAINING_COMP FW_INFO_REQ_EXPERIENCE FW_INFO_ALT_EDU_EXPERIENCE  \\\n",
       "2276                      Y                      Y                          A   \n",
       "4791                      A                      Y                          A   \n",
       "13230                     Y                      Y                          Y   \n",
       "14987                     N                      N                          N   \n",
       "25040                     Y                      Y                          A   \n",
       "\n",
       "      FW_INFO_REL_OCCUP_EXP PREPARER_INFO_EMP_COMPLETED  \\\n",
       "2276                      A                           N   \n",
       "4791                      Y                           N   \n",
       "13230                     A                           Y   \n",
       "14987                     N                           Y   \n",
       "25040                     A                           N   \n",
       "\n",
       "                               PREPARER_INFO_TITLE EMPLOYER_DECL_INFO_TITLE  \\\n",
       "2276                               ATTORNEY AT LAW          GENERAL MANAGER   \n",
       "4791                    ATTORNEY & GENERAL COUNSEL                PRESIDENT   \n",
       "13230  OFFFICE MANAGER - CORPORATE REVENUE OFFICER                PRESIDENT   \n",
       "14987                                          NaN           Vice President   \n",
       "25040                              Attorney at law   General superintendent   \n",
       "\n",
       "      NAICS_US_CODE                            NAICS_US_TITLE  \\\n",
       "2276            NaN                                       NaN   \n",
       "4791         541511      Custom Computer Programming Services   \n",
       "13230        237310  Highway, Street, and Bridge Construction   \n",
       "14987        238340             Tile and Terrazzo Contractors   \n",
       "25040        238160                       Roofing Contractors   \n",
       "\n",
       "                                    PW_JOB_TITLE_9089 prevail-offer  \n",
       "2276                               SHEET METAL WORKER            YY  \n",
       "4791                  SOFTWARE DEVELOPER APPLICATIONS            YY  \n",
       "13230                                         LABORER            YY  \n",
       "14987  Tile, Mosaic and Stone installers/ Restoration            YY  \n",
       "25040                                  Roofer foreman            YY  "
      ]
     },
     "metadata": {},
     "output_type": "display_data"
    }
   ],
   "source": [
    "display(visas[(visas['CASE_STATUS'] == 'Certified') & \n",
    "                         (visas['PW_AMOUNT_9089'] > visas['WAGE_OFFER_FROM_9089']) & (visas['PW_AMOUNT_9089'] > visas['WAGE_OFFER_TO_9089'])])\n",
    "display(visas[(visas['CASE_STATUS'] == 'Denied') & \n",
    "                         (visas['PW_AMOUNT_9089'] > visas['WAGE_OFFER_FROM_9089']) & (visas['PW_AMOUNT_9089'] > visas['WAGE_OFFER_TO_9089'])].head(5))"
   ]
  },
  {
   "cell_type": "markdown",
   "metadata": {},
   "source": [
    "Create a boolean indiciating whether or not the offer is over the PW (1 for Yes)"
   ]
  },
  {
   "cell_type": "code",
   "execution_count": 299,
   "metadata": {
    "ExecuteTime": {
     "end_time": "2019-06-23T22:58:18.421636Z",
     "start_time": "2019-06-23T22:58:18.414635Z"
    }
   },
   "outputs": [],
   "source": [
    "visas['OVER_PW'] = np.invert((visas['PW_AMOUNT_9089'] > visas['WAGE_OFFER_FROM_9089']) & (visas['PW_AMOUNT_9089'] > visas['WAGE_OFFER_TO_9089']))"
   ]
  },
  {
   "cell_type": "markdown",
   "metadata": {},
   "source": [
    "Now that we finished looking at the wages, let's move on to the next feature we'd like to explore.\n",
    "Just thinking of important aspects to an application, we think that the company that is sponsoring and the law firm they use to prepare and file the application will affect chances of being accepted (be it indicative of quality or whatever).\n",
    "\n",
    "Start by plotting distribution of the # of employees against the log of the # of applications from a single employer. We can interpret from the graph that most employers in fact file only a few applications and there are relatively only a few employers that file a lot of applications. Somewhat unsurprisingly, a similar interpretation goes for the law firms."
   ]
  },
  {
   "cell_type": "code",
   "execution_count": 300,
   "metadata": {
    "ExecuteTime": {
     "end_time": "2019-06-23T22:58:18.884635Z",
     "start_time": "2019-06-23T22:58:18.423634Z"
    }
   },
   "outputs": [
    {
     "data": {
      "text/plain": [
       "[Text(0, 0.5, '# of law firms'),\n",
       " Text(0.5, 0, '# of applications from one law firm (in log)')]"
      ]
     },
     "execution_count": 300,
     "metadata": {},
     "output_type": "execute_result"
    },
    {
     "data": {
      "image/png": "[encoded data removed]",
      "text/plain": [
       "<Figure size 864x576 with 2 Axes>"
      ]
     },
     "metadata": {},
     "output_type": "display_data"
    }
   ],
   "source": [
    "sns.set(color_codes=True)\n",
    "fig, (ax1, ax2) = plt.subplots(1, 2, sharex=True, figsize=(12,8))\n",
    "sns.distplot(np.log(visas['EMPLOYER_NAME'].value_counts().values), kde=False, rug=False, ax=ax1)\n",
    "ax1.set(xlabel='# of applications from one employer (in log)', ylabel='# of employers')\n",
    "sns.distplot(np.log(visas['AGENT_FIRM_NAME'].value_counts().values), kde=False, rug=False, ax = ax2)\n",
    "ax2.set(xlabel='# of applications from one law firm (in log)', ylabel='# of law firms')"
   ]
  },
  {
   "cell_type": "markdown",
   "metadata": {},
   "source": [
    "What kind of jobs are applied for the most?\n",
    "Top 5 jobs seems to be software area, guess the demand for these jobs are so high in the US that companies will sponsor them just to come here and work for them."
   ]
  },
  {
   "cell_type": "code",
   "execution_count": 352,
   "metadata": {
    "ExecuteTime": {
     "end_time": "2019-06-24T00:07:00.367801Z",
     "start_time": "2019-06-24T00:07:00.319802Z"
    }
   },
   "outputs": [
    {
     "name": "stdout",
     "output_type": "stream",
     "text": [
      "Software Engineer                   5123\n",
      "Software Development Engineer II    1806\n",
      "Senior Software Engineer            1256\n",
      "Software Developer                  1133\n",
      "Assistant Professor                  768\n",
      "Name: JOB_INFO_JOB_TITLE, dtype: int64\n"
     ]
    },
    {
     "data": {
      "text/html": [
       "<div>\n",
       "<style scoped>\n",
       "    .dataframe tbody tr th:only-of-type {\n",
       "        vertical-align: middle;\n",
       "    }\n",
       "\n",
       "    .dataframe tbody tr th {\n",
       "        vertical-align: top;\n",
       "    }\n",
       "\n",
       "    .dataframe thead th {\n",
       "        text-align: right;\n",
       "    }\n",
       "</style>\n",
       "<table border=\"1\" class=\"dataframe\">\n",
       "  <thead>\n",
       "    <tr style=\"text-align: right;\">\n",
       "      <th></th>\n",
       "      <th>PW_SOC_CODE</th>\n",
       "      <th>PW_SOC_TITLE</th>\n",
       "      <th>JOB_INFO_JOB_TITLE</th>\n",
       "      <th>PW_JOB_TITLE_9089</th>\n",
       "    </tr>\n",
       "  </thead>\n",
       "  <tbody>\n",
       "    <tr>\n",
       "      <th>323</th>\n",
       "      <td>45.0</td>\n",
       "      <td>Farmworkers and Laborers, Crop, Nursery, and Greenhouse</td>\n",
       "      <td>Farmworker and Laborer</td>\n",
       "      <td>Farmworker and Laborer</td>\n",
       "    </tr>\n",
       "    <tr>\n",
       "      <th>335</th>\n",
       "      <td>45.0</td>\n",
       "      <td>Farmworkers and Laborers, Crop, Nursery, and Greenhouse</td>\n",
       "      <td>Farmworker and Laborer</td>\n",
       "      <td>Farmworker and Laborer</td>\n",
       "    </tr>\n",
       "    <tr>\n",
       "      <th>342</th>\n",
       "      <td>45.0</td>\n",
       "      <td>Farmworkers and Laborers, Crop, Nursery, and Greenhouse</td>\n",
       "      <td>Farmworker and Laborer</td>\n",
       "      <td>Farmworker and Laborer</td>\n",
       "    </tr>\n",
       "    <tr>\n",
       "      <th>343</th>\n",
       "      <td>45.0</td>\n",
       "      <td>Farmworkers and Laborers, Crop, Nursery, and Greenhouse</td>\n",
       "      <td>Farmworker and Laborer</td>\n",
       "      <td>Farmworker and Laborer</td>\n",
       "    </tr>\n",
       "    <tr>\n",
       "      <th>345</th>\n",
       "      <td>45.0</td>\n",
       "      <td>Farmworkers and Laborers, Crop, Nursery, and Greenhouse</td>\n",
       "      <td>Farmworker and Laborer</td>\n",
       "      <td>Farmworker and Laborer</td>\n",
       "    </tr>\n",
       "  </tbody>\n",
       "</table>\n",
       "</div>"
      ],
      "text/plain": [
       "    PW_SOC_CODE                                             PW_SOC_TITLE  \\\n",
       "323        45.0  Farmworkers and Laborers, Crop, Nursery, and Greenhouse   \n",
       "335        45.0  Farmworkers and Laborers, Crop, Nursery, and Greenhouse   \n",
       "342        45.0  Farmworkers and Laborers, Crop, Nursery, and Greenhouse   \n",
       "343        45.0  Farmworkers and Laborers, Crop, Nursery, and Greenhouse   \n",
       "345        45.0  Farmworkers and Laborers, Crop, Nursery, and Greenhouse   \n",
       "\n",
       "         JOB_INFO_JOB_TITLE       PW_JOB_TITLE_9089  \n",
       "323  Farmworker and Laborer  Farmworker and Laborer  \n",
       "335  Farmworker and Laborer  Farmworker and Laborer  \n",
       "342  Farmworker and Laborer  Farmworker and Laborer  \n",
       "343  Farmworker and Laborer  Farmworker and Laborer  \n",
       "345  Farmworker and Laborer  Farmworker and Laborer  "
      ]
     },
     "metadata": {},
     "output_type": "display_data"
    }
   ],
   "source": [
    "print(visas['JOB_INFO_JOB_TITLE'].value_counts().head(5))\n",
    "display(visas[['PW_SOC_CODE', 'PW_SOC_TITLE', 'JOB_INFO_JOB_TITLE', 'PW_JOB_TITLE_9089']].head(5))"
   ]
  },
  {
   "cell_type": "markdown",
   "metadata": {},
   "source": [
    "Next, we'll examine the country of origin since we think that may implicitly play a role in the decision.\n",
    "\n",
    "There's actually two variables that we think may be closely related country of citizenship and birth country. Let's test if they're related using the chi-square test."
   ]
  },
  {
   "cell_type": "code",
   "execution_count": 302,
   "metadata": {
    "ExecuteTime": {
     "end_time": "2019-06-23T22:58:19.045621Z",
     "start_time": "2019-06-23T22:58:18.964624Z"
    }
   },
   "outputs": [
    {
     "data": {
      "text/plain": [
       "0.0"
      ]
     },
     "execution_count": 302,
     "metadata": {},
     "output_type": "execute_result"
    }
   ],
   "source": [
    "country_contingency = pd.crosstab(visas['COUNTRY_OF_CITIZENSHIP'], visas['FW_INFO_BIRTH_COUNTRY'])\n",
    "stats.chi2_contingency(country_contingency)[1]"
   ]
  },
  {
   "cell_type": "markdown",
   "metadata": {},
   "source": [
    "Our null hypothesis is the two variables are independent. We see that the p-value outputted above is 0. Clearly we reject the null and conclude that the two are dependent, just like we thought.\n",
    "\n",
    "Now to get a measure of the strength of association let's calculate Cramer's V (because why not?)"
   ]
  },
  {
   "cell_type": "code",
   "execution_count": 303,
   "metadata": {
    "ExecuteTime": {
     "end_time": "2019-06-23T22:58:19.056622Z",
     "start_time": "2019-06-23T22:58:19.048622Z"
    }
   },
   "outputs": [
    {
     "data": {
      "text/plain": [
       "0.6998986752663362"
      ]
     },
     "execution_count": 303,
     "metadata": {},
     "output_type": "execute_result"
    }
   ],
   "source": [
    "stats.chi2_contingency(country_contingency)[0] / (len(visas) * min(country_contingency.shape)) #cramer's v"
   ]
  },
  {
   "cell_type": "markdown",
   "metadata": {},
   "source": [
    "# Feature Engineering"
   ]
  },
  {
   "cell_type": "markdown",
   "metadata": {},
   "source": [
    "The data transformations we have done so far were mainly to make our data more consistent. The data transformations we make here are primarily geared at improving the results of the model. Note that some features were added after running the model a few times. Model building is an iterative process."
   ]
  },
  {
   "cell_type": "markdown",
   "metadata": {},
   "source": [
    "Let's try feeding in the firm name data in a form that can help the model make better use of the information. We define a function that counts the total applications and then bins the number of applications that each firm has submitted by quartile."
   ]
  },
  {
   "cell_type": "code",
   "execution_count": 304,
   "metadata": {
    "ExecuteTime": {
     "end_time": "2019-06-23T22:58:19.226624Z",
     "start_time": "2019-06-23T22:58:19.058623Z"
    }
   },
   "outputs": [],
   "source": [
    "def count_bin_transform(df, col, n_bins):\n",
    "    dist_counts = df[col].value_counts().values[::-1] #in ascending order\n",
    "    intvals_counts = np.arange(1, n_bins) * dist_counts.sum() / n_bins #mark even intervals from 1 to total apps\n",
    "    intvals_idxs = np.zeros(n_bins-1)\n",
    "    bins = np.zeros(n_bins-1)\n",
    "    count = 0\n",
    "    for i in intvals_counts:\n",
    "        intvals_idxs[count] = (np.cumsum(dist_counts) <= i).argmin() #first value with False (0)\n",
    "        intvals_idxs = intvals_idxs.astype(int)\n",
    "        count += 1\n",
    "    count = 0\n",
    "    for i in intvals_idxs:\n",
    "        bins[count] = dist_counts[i]\n",
    "        count += 1\n",
    "    bins = np.insert(bins, 0, 0)\n",
    "    bins = np.append(bins, np.max(dist_counts))\n",
    "    new_col = df[col].map(df[col].value_counts())\n",
    "    #map value of x to the count of x (which has the value of x as its index)\n",
    "    new_col = pd.cut(new_col, bins, right=True)\n",
    "    return new_col\n",
    "\n",
    "visas['AGFIRM_RANK'] = count_bin_transform(visas, 'AGENT_FIRM_NAME', 4)\n",
    "visas['EMPFIRM_RANK'] = count_bin_transform(visas, 'EMPLOYER_NAME', 4)"
   ]
  },
  {
   "cell_type": "markdown",
   "metadata": {},
   "source": [
    "See if this new feature might actually be useful"
   ]
  },
  {
   "cell_type": "markdown",
   "metadata": {},
   "source": [
    "First, we're going to select only the observations with target variable 'CASE_STATUS' and throw away the others. Then we map it to a binary representation for convenience."
   ]
  },
  {
   "cell_type": "code",
   "execution_count": 305,
   "metadata": {
    "ExecuteTime": {
     "end_time": "2019-06-23T22:58:21.377637Z",
     "start_time": "2019-06-23T22:58:19.228624Z"
    }
   },
   "outputs": [],
   "source": [
    "visas = visas[(visas['CASE_STATUS'] == 'Certified') | (visas['CASE_STATUS'] == 'Denied')]\n",
    "\n",
    "visas['CASE_STATUS'] = visas['CASE_STATUS'].map(dict(Certified = 1, Denied = 0))"
   ]
  },
  {
   "cell_type": "code",
   "execution_count": 306,
   "metadata": {
    "ExecuteTime": {
     "end_time": "2019-06-23T22:58:21.393640Z",
     "start_time": "2019-06-23T22:58:21.378637Z"
    }
   },
   "outputs": [
    {
     "data": {
      "text/html": [
       "<div>\n",
       "<style scoped>\n",
       "    .dataframe tbody tr th:only-of-type {\n",
       "        vertical-align: middle;\n",
       "    }\n",
       "\n",
       "    .dataframe tbody tr th {\n",
       "        vertical-align: top;\n",
       "    }\n",
       "\n",
       "    .dataframe thead th {\n",
       "        text-align: right;\n",
       "    }\n",
       "</style>\n",
       "<table border=\"1\" class=\"dataframe\">\n",
       "  <thead>\n",
       "    <tr style=\"text-align: right;\">\n",
       "      <th></th>\n",
       "      <th>CASE_STATUS</th>\n",
       "    </tr>\n",
       "    <tr>\n",
       "      <th>AGFIRM_RANK</th>\n",
       "      <th></th>\n",
       "    </tr>\n",
       "  </thead>\n",
       "  <tbody>\n",
       "    <tr>\n",
       "      <th>(0.0, 33.0]</th>\n",
       "      <td>0.859737</td>\n",
       "    </tr>\n",
       "    <tr>\n",
       "      <th>(33.0, 187.0]</th>\n",
       "      <td>0.943181</td>\n",
       "    </tr>\n",
       "    <tr>\n",
       "      <th>(187.0, 1476.0]</th>\n",
       "      <td>0.945929</td>\n",
       "    </tr>\n",
       "    <tr>\n",
       "      <th>(1476.0, 17672.0]</th>\n",
       "      <td>0.991158</td>\n",
       "    </tr>\n",
       "  </tbody>\n",
       "</table>\n",
       "</div>"
      ],
      "text/plain": [
       "                   CASE_STATUS\n",
       "AGFIRM_RANK                   \n",
       "(0.0, 33.0]           0.859737\n",
       "(33.0, 187.0]         0.943181\n",
       "(187.0, 1476.0]       0.945929\n",
       "(1476.0, 17672.0]     0.991158"
      ]
     },
     "execution_count": 306,
     "metadata": {},
     "output_type": "execute_result"
    }
   ],
   "source": [
    "visas[['AGFIRM_RANK','CASE_STATUS']].groupby(['AGFIRM_RANK']).mean()"
   ]
  },
  {
   "cell_type": "markdown",
   "metadata": {},
   "source": [
    "It looks like small firms (firms that didn't submit many applications) lack the quality in their applications that the other quartiles have and the largest firms have a almost certain chance of getting the application right."
   ]
  },
  {
   "cell_type": "markdown",
   "metadata": {},
   "source": [
    "Note: Feature engineering just by performing simple operations across features helps. You might think that given 'DECISION_DATE' and 'PROCESS_LENGTH' that the model can just infer 'CASE_RECEIVED' but this is false, it is not that smart. Using the same logic, features that might seem redundant to you may add predictive power to the model."
   ]
  },
  {
   "cell_type": "code",
   "execution_count": 307,
   "metadata": {
    "ExecuteTime": {
     "end_time": "2019-06-23T22:58:21.410623Z",
     "start_time": "2019-06-23T22:58:21.396627Z"
    }
   },
   "outputs": [
    {
     "data": {
      "text/plain": [
       "count    78236.000000\n",
       "mean       152.208676\n",
       "std        217.389578\n",
       "min         28.000000\n",
       "25%         83.000000\n",
       "50%        116.000000\n",
       "75%        147.000000\n",
       "max       4150.000000\n",
       "Name: PROCESS_LENGTH, dtype: float64"
      ]
     },
     "execution_count": 307,
     "metadata": {},
     "output_type": "execute_result"
    }
   ],
   "source": [
    "visas['PROCESS_LENGTH'] = visas['DECISION_DATE'] - visas['CASE_RECEIVED_DATE']\n",
    "visas['PROCESS_LENGTH'] = visas['PROCESS_LENGTH'].astype('timedelta64[D]')\n",
    "\n",
    "visas['PROCESS_LENGTH'].describe()"
   ]
  },
  {
   "cell_type": "markdown",
   "metadata": {},
   "source": [
    "It looks like applications on average take around 5 months to process from start to finish"
   ]
  },
  {
   "cell_type": "markdown",
   "metadata": {},
   "source": [
    "Create three new features, two of which is the time in-between the application file date and date of the ads, and one for indicating whether both ads were in the specified time range."
   ]
  },
  {
   "cell_type": "code",
   "execution_count": 308,
   "metadata": {
    "ExecuteTime": {
     "end_time": "2019-06-23T22:58:21.420623Z",
     "start_time": "2019-06-23T22:58:21.412623Z"
    }
   },
   "outputs": [],
   "source": [
    "visas['AD1_BW'] = (visas['CASE_RECEIVED_DATE'] - visas['RECR_INFO_FIRST_AD_START'])\n",
    "visas['AD2_BW'] = (visas['CASE_RECEIVED_DATE'] - visas['RECR_INFO_SECOND_AD_START'])"
   ]
  },
  {
   "cell_type": "markdown",
   "metadata": {},
   "source": [
    "To check if the two ads were on seperate occasions, we will have to assume that NaT means two things that are equivalent: no second ocassion, and the first shares the same date as the second occassion."
   ]
  },
  {
   "cell_type": "code",
   "execution_count": 309,
   "metadata": {
    "ExecuteTime": {
     "end_time": "2019-06-23T22:58:21.435624Z",
     "start_time": "2019-06-23T22:58:21.422623Z"
    }
   },
   "outputs": [],
   "source": [
    "visas['RECR_INFO_SECOND_AD_START'] = visas['RECR_INFO_SECOND_AD_START'].fillna(visas['RECR_INFO_FIRST_AD_START'])\n",
    "\n",
    "visas['AD_REQ'] = ((visas['AD1_BW'].between(pd.Timedelta(30, 'D'), pd.Timedelta(180, 'D')) == 1) & \n",
    "                   (visas['AD2_BW'].between(pd.Timedelta(30, 'D'), pd.Timedelta(180, 'D')) == 1) & \n",
    "                   (visas['RECR_INFO_FIRST_AD_START'] != visas['RECR_INFO_SECOND_AD_START']))"
   ]
  },
  {
   "cell_type": "markdown",
   "metadata": {},
   "source": [
    "Many applications were denied for not following the second criteria"
   ]
  },
  {
   "cell_type": "code",
   "execution_count": 310,
   "metadata": {
    "ExecuteTime": {
     "end_time": "2019-06-23T22:58:21.463624Z",
     "start_time": "2019-06-23T22:58:21.437623Z"
    }
   },
   "outputs": [
    {
     "data": {
      "text/plain": [
       "428"
      ]
     },
     "execution_count": 310,
     "metadata": {},
     "output_type": "execute_result"
    }
   ],
   "source": [
    "len(visas[['RECR_INFO_FIRST_AD_START', 'RECR_INFO_SECOND_AD_START', 'CASE_RECEIVED_DATE']][(visas['AD_REQ'] == 0) & (visas['CASE_STATUS'] == 0)])"
   ]
  },
  {
   "cell_type": "markdown",
   "metadata": {},
   "source": [
    "# Model Preparation"
   ]
  },
  {
   "cell_type": "markdown",
   "metadata": {},
   "source": [
    "This is our stage of data cleaning solely for the purpose of transforming the data into a format that allows us to feed it into the model."
   ]
  },
  {
   "cell_type": "markdown",
   "metadata": {},
   "source": [
    "Let's check the data types of our features"
   ]
  },
  {
   "cell_type": "code",
   "execution_count": 311,
   "metadata": {
    "ExecuteTime": {
     "end_time": "2019-06-23T22:58:21.474623Z",
     "start_time": "2019-06-23T22:58:21.465622Z"
    }
   },
   "outputs": [
    {
     "data": {
      "text/plain": [
       "object             87\n",
       "datetime64[ns]     28\n",
       "float64            11\n",
       "bool                2\n",
       "timedelta64[ns]     2\n",
       "category            1\n",
       "int64               1\n",
       "category            1\n",
       "dtype: int64"
      ]
     },
     "execution_count": 311,
     "metadata": {},
     "output_type": "execute_result"
    }
   ],
   "source": [
    "visas.dtypes.value_counts()"
   ]
  },
  {
   "cell_type": "markdown",
   "metadata": {},
   "source": [
    "We can see there are a lot of object types and just by looking at the unique values for some of them, there are way too many.\n",
    "\n",
    "What we can do in this case usually is to one-hot encode, because that is the only format Sklearn accepts besides encoding each category label i.e. unique value of the object and that's not a good choice because there will be an ordinal interpretation. It turns out that one-hot encoding is also a bad choice because first the data will be excessively sparse and second, this leads to the one-hot features being underweighed just by the way how decision trees splits (one-hot can only be split one way since it is binary while there are infinitely many ways for continuous to be split).\n",
    "\n",
    "As a side note another reason not to use a Sklearn classifier for our purposes is that it doesn't accept them, this is problematic for numerical data where there may be reasons a field is left blank and tricks like imputing the mean just doesn't make sense.\n",
    "\n",
    "So we're actually going to use the H2o platform for our random forest model which is a lot better at handling categorical variables."
   ]
  },
  {
   "cell_type": "markdown",
   "metadata": {},
   "source": [
    "Correct for some anomalies in data:"
   ]
  },
  {
   "cell_type": "code",
   "execution_count": 312,
   "metadata": {
    "ExecuteTime": {
     "end_time": "2019-06-23T22:58:21.679621Z",
     "start_time": "2019-06-23T22:58:21.476621Z"
    }
   },
   "outputs": [],
   "source": [
    "visas['NAICS_US_CODE'] = visas['NAICS_US_CODE'].astype(str)\n",
    "visas['NAICS_US_CODE'] = visas['NAICS_US_CODE'].apply(lambda x: x[:2])\n",
    "\n",
    "visas['PW_SOC_CODE'] = visas['PW_SOC_CODE'].str.replace(r'(-\\d+)', '')\n",
    "visas['PW_SOC_CODE'] = visas['PW_SOC_CODE'].astype(float, errors='ignore')\n",
    "visas['PW_SOC_CODE'] = visas['PW_SOC_CODE'].round()\n",
    "#http://pandas.pydata.org/pandas-docs/stable/gotchas.html#support-for-integer-na\n",
    "visas['PW_SOC_CODE'] = visas['PW_SOC_CODE'].astype(str, errors='ignore')"
   ]
  },
  {
   "cell_type": "markdown",
   "metadata": {},
   "source": [
    "Split into train and test sets. We would split after converting to H2o frame, but pandas df is a lot easier for data manipulation"
   ]
  },
  {
   "cell_type": "code",
   "execution_count": 313,
   "metadata": {
    "ExecuteTime": {
     "end_time": "2019-06-23T22:58:22.090624Z",
     "start_time": "2019-06-23T22:58:21.680620Z"
    }
   },
   "outputs": [
    {
     "name": "stdout",
     "output_type": "stream",
     "text": [
      "(62588, 133) (15648, 133)\n"
     ]
    }
   ],
   "source": [
    "rs = ShuffleSplit(n_splits=1, test_size=.2, random_state=0)\n",
    "for train_idx, test_idx in rs.split(visas):\n",
    "    train = visas.iloc[train_idx]\n",
    "    test = visas.iloc[test_idx]\n",
    "print(train.shape, test.shape)\n",
    "#visas_hf.split_frame(ratios=[.8])"
   ]
  },
  {
   "cell_type": "markdown",
   "metadata": {},
   "source": [
    "Start H2o"
   ]
  },
  {
   "cell_type": "code",
   "execution_count": 314,
   "metadata": {
    "ExecuteTime": {
     "end_time": "2019-06-23T22:58:27.168231Z",
     "start_time": "2019-06-23T22:58:22.092636Z"
    }
   },
   "outputs": [
    {
     "name": "stdout",
     "output_type": "stream",
     "text": [
      "Checking whether there is an H2O instance running at http://localhost:54321 . connected.\n"
     ]
    },
    {
     "data": {
      "text/html": [
       "<div style=\"overflow:auto\"><table style=\"width:50%\"><tr><td>H2O cluster uptime:</td>\n",
       "<td>1 day 0 hours 35 mins</td></tr>\n",
       "<tr><td>H2O cluster timezone:</td>\n",
       "<td>America/New_York</td></tr>\n",
       "<tr><td>H2O data parsing timezone:</td>\n",
       "<td>UTC</td></tr>\n",
       "<tr><td>H2O cluster version:</td>\n",
       "<td>3.24.0.5</td></tr>\n",
       "<tr><td>H2O cluster version age:</td>\n",
       "<td>4 days </td></tr>\n",
       "<tr><td>H2O cluster name:</td>\n",
       "<td>H2O_from_python_gdev_gbj97k</td></tr>\n",
       "<tr><td>H2O cluster total nodes:</td>\n",
       "<td>1</td></tr>\n",
       "<tr><td>H2O cluster free memory:</td>\n",
       "<td>18.64 Gb</td></tr>\n",
       "<tr><td>H2O cluster total cores:</td>\n",
       "<td>24</td></tr>\n",
       "<tr><td>H2O cluster allowed cores:</td>\n",
       "<td>18</td></tr>\n",
       "<tr><td>H2O cluster status:</td>\n",
       "<td>locked, healthy</td></tr>\n",
       "<tr><td>H2O connection url:</td>\n",
       "<td>http://localhost:54321</td></tr>\n",
       "<tr><td>H2O connection proxy:</td>\n",
       "<td>None</td></tr>\n",
       "<tr><td>H2O internal security:</td>\n",
       "<td>False</td></tr>\n",
       "<tr><td>H2O API Extensions:</td>\n",
       "<td>Amazon S3, Algos, AutoML, Core V3, Core V4</td></tr>\n",
       "<tr><td>Python version:</td>\n",
       "<td>3.7.1 final</td></tr></table></div>"
      ],
      "text/plain": [
       "--------------------------  ------------------------------------------\n",
       "H2O cluster uptime:         1 day 0 hours 35 mins\n",
       "H2O cluster timezone:       America/New_York\n",
       "H2O data parsing timezone:  UTC\n",
       "H2O cluster version:        3.24.0.5\n",
       "H2O cluster version age:    4 days\n",
       "H2O cluster name:           H2O_from_python_gdev_gbj97k\n",
       "H2O cluster total nodes:    1\n",
       "H2O cluster free memory:    18.64 Gb\n",
       "H2O cluster total cores:    24\n",
       "H2O cluster allowed cores:  18\n",
       "H2O cluster status:         locked, healthy\n",
       "H2O connection url:         http://localhost:54321\n",
       "H2O connection proxy:\n",
       "H2O internal security:      False\n",
       "H2O API Extensions:         Amazon S3, Algos, AutoML, Core V3, Core V4\n",
       "Python version:             3.7.1 final\n",
       "--------------------------  ------------------------------------------"
      ]
     },
     "metadata": {},
     "output_type": "display_data"
    }
   ],
   "source": [
    "h2o.init(nthreads=18, min_mem_size=8, max_mem_size=20)"
   ]
  },
  {
   "cell_type": "markdown",
   "metadata": {},
   "source": [
    "Load the pandas dataframe into H2o's frame"
   ]
  },
  {
   "cell_type": "code",
   "execution_count": 315,
   "metadata": {
    "ExecuteTime": {
     "end_time": "2019-06-23T22:58:55.464761Z",
     "start_time": "2019-06-23T22:58:27.170244Z"
    }
   },
   "outputs": [
    {
     "name": "stdout",
     "output_type": "stream",
     "text": [
      "Parse progress: |█████████████████████████████████████████████████████████| 100%\n",
      "Parse progress: |█████████████████████████████████████████████████████████| 100%\n"
     ]
    }
   ],
   "source": [
    "train_hf = H2OFrame(train)\n",
    "test_hf = H2OFrame(test)"
   ]
  },
  {
   "cell_type": "markdown",
   "metadata": {},
   "source": [
    "Convert our target variable to 'enum' type"
   ]
  },
  {
   "cell_type": "code",
   "execution_count": 316,
   "metadata": {
    "ExecuteTime": {
     "end_time": "2019-06-23T22:58:55.472750Z",
     "start_time": "2019-06-23T22:58:55.466762Z"
    }
   },
   "outputs": [
    {
     "name": "stdout",
     "output_type": "stream",
     "text": [
      "enum enum\n"
     ]
    }
   ],
   "source": [
    "train_hf['CASE_STATUS'] = train_hf['CASE_STATUS'].asfactor()\n",
    "test_hf['CASE_STATUS'] = test_hf['CASE_STATUS'].asfactor()\n",
    "print(train_hf.type('CASE_STATUS'), test_hf.type('CASE_STATUS'))"
   ]
  },
  {
   "cell_type": "markdown",
   "metadata": {},
   "source": [
    "Our target variable is supposed to be binary, let's just check that's the case"
   ]
  },
  {
   "cell_type": "code",
   "execution_count": 317,
   "metadata": {
    "ExecuteTime": {
     "end_time": "2019-06-23T22:59:08.480238Z",
     "start_time": "2019-06-23T22:58:55.475758Z"
    }
   },
   "outputs": [
    {
     "data": {
      "text/html": [
       "<table>\n",
       "<thead>\n",
       "<tr><th style=\"text-align: right;\">  C1</th></tr>\n",
       "</thead>\n",
       "<tbody>\n",
       "<tr><td style=\"text-align: right;\">   0</td></tr>\n",
       "<tr><td style=\"text-align: right;\">   1</td></tr>\n",
       "</tbody>\n",
       "</table>"
      ]
     },
     "metadata": {},
     "output_type": "display_data"
    },
    {
     "name": "stdout",
     "output_type": "stream",
     "text": [
      " "
     ]
    },
    {
     "data": {
      "text/html": [
       "<table>\n",
       "<thead>\n",
       "<tr><th style=\"text-align: right;\">  C1</th></tr>\n",
       "</thead>\n",
       "<tbody>\n",
       "<tr><td style=\"text-align: right;\">   0</td></tr>\n",
       "<tr><td style=\"text-align: right;\">   1</td></tr>\n",
       "</tbody>\n",
       "</table>"
      ]
     },
     "metadata": {},
     "output_type": "display_data"
    },
    {
     "name": "stdout",
     "output_type": "stream",
     "text": [
      "\n"
     ]
    }
   ],
   "source": [
    "print(train_hf['CASE_STATUS'].unique(), test_hf['CASE_STATUS'].unique())"
   ]
  },
  {
   "cell_type": "markdown",
   "metadata": {},
   "source": [
    "Finally just exclude some columns. We're going to exclude 'DECISION_DATE' b/c that shouldn't help inform a decision when it is made"
   ]
  },
  {
   "cell_type": "code",
   "execution_count": 318,
   "metadata": {
    "ExecuteTime": {
     "end_time": "2019-06-23T22:59:08.487227Z",
     "start_time": "2019-06-23T22:59:08.482239Z"
    }
   },
   "outputs": [],
   "source": [
    "predictor_cols = set([col for col in train_hf.columns if col != 'CASE_STATUS'])\n",
    "criteria_cols = {'OVER_PW', 'AD_REQ'}\n",
    "exclude_cols = {'DECISION_DATE', 'decision_day', 'received_day', 'RECR_INFO_FIRST_AD_START', 'RECR_INFO_SECOND_AD_START'}"
   ]
  },
  {
   "cell_type": "markdown",
   "metadata": {},
   "source": [
    "# Training Model"
   ]
  },
  {
   "cell_type": "markdown",
   "metadata": {},
   "source": [
    "Finally we're ready to start training our model\n",
    "\n",
    "We're going to use a simple random forest classifier. Categorical encoding is set to 'enum', seed to an arbitrary fixed number to be reproducible, max_depth to a number that's deep but not overly so (remember individual trees in RFs have low bias but high variance), and ntrees doesn't have to be high since performance peters out after a certain point anyway."
   ]
  },
  {
   "cell_type": "code",
   "execution_count": 320,
   "metadata": {
    "ExecuteTime": {
     "end_time": "2019-06-23T23:08:18.419263Z",
     "start_time": "2019-06-23T22:59:45.171684Z"
    }
   },
   "outputs": [
    {
     "name": "stdout",
     "output_type": "stream",
     "text": [
      "drf Model Build progress: |███████████████████████████████████████████████| 100%\n"
     ]
    }
   ],
   "source": [
    "RF = random_forest.H2ORandomForestEstimator(ntrees=300, seed=781, max_depth=20, categorical_encoding='enum', nfolds=5)\n",
    "RF.train(predictor_cols - exclude_cols, 'CASE_STATUS', training_frame=train_hf)"
   ]
  },
  {
   "cell_type": "markdown",
   "metadata": {},
   "source": [
    "# Evaluating Results"
   ]
  },
  {
   "cell_type": "markdown",
   "metadata": {},
   "source": [
    "Predict the case status for the test data given our trained model"
   ]
  },
  {
   "cell_type": "code",
   "execution_count": 321,
   "metadata": {
    "ExecuteTime": {
     "end_time": "2019-06-23T23:08:33.310522Z",
     "start_time": "2019-06-23T23:08:18.422268Z"
    }
   },
   "outputs": [
    {
     "name": "stdout",
     "output_type": "stream",
     "text": [
      "drf prediction progress: |████████████████████████████████████████████████| 100%\n",
      "0.9729038854805726\n"
     ]
    }
   ],
   "source": [
    "y_test = test_hf['CASE_STATUS'].as_data_frame().values.flatten()\n",
    "y_result = RF.predict(test_hf)\n",
    "y_pred = y_result[0].as_data_frame().values.flatten()\n",
    "y_probas = y_result[2].as_data_frame().values.flatten()\n",
    "\n",
    "print(accuracy_score(y_test, y_pred))"
   ]
  },
  {
   "cell_type": "markdown",
   "metadata": {},
   "source": [
    "At first glance our accuracy looks great. Except notice that baseline accuracy is already an astonishing ~92% which is blindly guessing approved for all test samples.\n",
    "\n",
    "Even without an imbalanced dataset, accuracy could be very misleading. All it tells us is that out of all the labels we're predicting, the percentage we got right.\n",
    "\n",
    "We can see exactly the types of classifications we got right, and misclassifications with our confusion matrix"
   ]
  },
  {
   "cell_type": "code",
   "execution_count": 322,
   "metadata": {
    "ExecuteTime": {
     "end_time": "2019-06-23T23:08:33.329524Z",
     "start_time": "2019-06-23T23:08:33.311523Z"
    }
   },
   "outputs": [
    {
     "name": "stdout",
     "output_type": "stream",
     "text": [
      "Predicted    0      1\n",
      "Actual               \n",
      "0          897    310\n",
      "1          114  14327\n"
     ]
    }
   ],
   "source": [
    "print(pd.crosstab(y_test, y_pred, rownames=['Actual'], colnames=['Predicted']))"
   ]
  },
  {
   "cell_type": "markdown",
   "metadata": {},
   "source": [
    "In addition to accuracy, the data in the matrix can be summarized using the measures of precision and recall"
   ]
  },
  {
   "cell_type": "markdown",
   "metadata": {},
   "source": [
    "Precision is defined as TP / (TP + FP) which means it is the number of true positive instances out of all the instances predicted to be positive.\n",
    "Recall or the TPR is defined as TP / (TP + FN) and it is the number of positive instances that were correctly identified by the classifier out of all positive instances.\n",
    "\n",
    "The \"negative recall\" for rejected (1-FPR) is relatively low, since it reflects the high number of false positives. We can reason why there might be a lot more false positives than false negatives. Given just the minimum requirements of passing a visa, it is possible for the model to pick up on what prevents an application from being approved. On the other hand, a lot of additional information (background factors) is needed for an application to be approved beyond just the minimum."
   ]
  },
  {
   "cell_type": "code",
   "execution_count": 323,
   "metadata": {
    "ExecuteTime": {
     "end_time": "2019-06-23T23:08:33.348522Z",
     "start_time": "2019-06-23T23:08:33.332523Z"
    }
   },
   "outputs": [
    {
     "name": "stdout",
     "output_type": "stream",
     "text": [
      "              precision    recall  f1-score   support\n",
      "\n",
      "           0       0.89      0.74      0.81      1207\n",
      "           1       0.98      0.99      0.99     14441\n",
      "\n",
      "   micro avg       0.97      0.97      0.97     15648\n",
      "   macro avg       0.93      0.87      0.90     15648\n",
      "weighted avg       0.97      0.97      0.97     15648\n",
      "\n"
     ]
    }
   ],
   "source": [
    "print(classification_report(y_test, y_pred))"
   ]
  },
  {
   "cell_type": "code",
   "execution_count": 324,
   "metadata": {
    "ExecuteTime": {
     "end_time": "2019-06-23T23:08:33.354523Z",
     "start_time": "2019-06-23T23:08:33.351523Z"
    }
   },
   "outputs": [
    {
     "data": {
      "text/plain": [
       "0.9709496891157645"
      ]
     },
     "execution_count": 324,
     "metadata": {},
     "output_type": "execute_result"
    }
   ],
   "source": [
    "RF.auc()"
   ]
  },
  {
   "cell_type": "markdown",
   "metadata": {},
   "source": [
    "Precision-recall area under the curve is like the PPF, all points within the curve are possible but points on the curve are the best obtainable combinations of precision and recall. So the higher the AUC the better.\n",
    "\n",
    "Note: ROC AUC is a more popular measure, but it actually stays the same no matter the ratio of positive to negative class keeping all else constant and this is an imbalanced dataset so the precision-recall curve should be used here instead."
   ]
  },
  {
   "cell_type": "markdown",
   "metadata": {},
   "source": [
    "Let's compare between our training error and test error to see if we're overfitting"
   ]
  },
  {
   "cell_type": "code",
   "execution_count": 325,
   "metadata": {
    "ExecuteTime": {
     "end_time": "2019-06-23T23:08:33.368523Z",
     "start_time": "2019-06-23T23:08:33.355522Z"
    }
   },
   "outputs": [
    {
     "name": "stdout",
     "output_type": "stream",
     "text": [
      "Training error: 0.027226\n",
      "Test error: 0.027096\n"
     ]
    }
   ],
   "source": [
    "print('Training error: %f\\nTest error: %f' % (1-RF.accuracy()[0][1], 1-accuracy_score(y_test, y_pred)))"
   ]
  },
  {
   "cell_type": "markdown",
   "metadata": {},
   "source": [
    "Doesn't look like it! That's good news"
   ]
  },
  {
   "cell_type": "markdown",
   "metadata": {},
   "source": [
    "# Validating Results"
   ]
  },
  {
   "cell_type": "markdown",
   "metadata": {},
   "source": [
    "Let us compare between our test error and out-of-bag error to make sure our model is not leaking any data. If we were leaking data, we would do well on test data but not validation.\n",
    "\n",
    "Note: We technically didn't have to do a CV here since we have the out-of-bag sample which came from the observations not used to fit a given bagged tree (good since CVs are time-consuming)."
   ]
  },
  {
   "cell_type": "code",
   "execution_count": 326,
   "metadata": {
    "ExecuteTime": {
     "end_time": "2019-06-23T23:08:33.379523Z",
     "start_time": "2019-06-23T23:08:33.370521Z"
    }
   },
   "outputs": [
    {
     "name": "stdout",
     "output_type": "stream",
     "text": [
      "Test error: 0.027096\n",
      "Out-of-bag error: 0.031188\n"
     ]
    }
   ],
   "source": [
    "print('Test error: %f\\nOut-of-bag error: %f'\n",
    "      % (1-accuracy_score(y_test, y_pred), RF.scoring_history()['training_classification_error'].mean()))"
   ]
  },
  {
   "cell_type": "markdown",
   "metadata": {},
   "source": [
    "It looks like there is some difference (~15%) between the test and validation error, seems too large to be chance especially when we change the seed and see the same result.\n",
    "\n",
    "Let's check the CV then:"
   ]
  },
  {
   "cell_type": "code",
   "execution_count": 327,
   "metadata": {
    "ExecuteTime": {
     "end_time": "2019-06-23T23:08:33.386521Z",
     "start_time": "2019-06-23T23:08:33.381533Z"
    }
   },
   "outputs": [
    {
     "name": "stdout",
     "output_type": "stream",
     "text": [
      "CV error: 0.027804\n"
     ]
    }
   ],
   "source": [
    "print('CV error: %f' % (1-float(RF.cross_validation_metrics_summary()['mean'][0])))"
   ]
  },
  {
   "cell_type": "markdown",
   "metadata": {},
   "source": [
    "Seems to be about the same now, guess we just needed more trees to have the oob error converge"
   ]
  },
  {
   "cell_type": "markdown",
   "metadata": {},
   "source": [
    "# Model Selection"
   ]
  },
  {
   "cell_type": "markdown",
   "metadata": {},
   "source": [
    "Now that we have our initial model and evaluated its performance and validity, this is where we would usually improve it by adjusting hyperparameters and such. However, we used a RF for simplicity and so there is not much need to adjust anything."
   ]
  },
  {
   "cell_type": "markdown",
   "metadata": {},
   "source": [
    "# Model Interpretation"
   ]
  },
  {
   "cell_type": "markdown",
   "metadata": {},
   "source": [
    "H2o calculates variable importance using mean decrease in gini impurity on the oob sample. It has been observed that permutation importance is actually a more reliable way of measuring the most important variables (calculated by summing up the decrease in accuracy from omitting each feature during prediction), especially when the cardinality of some variables are very high i.e. continuous and categorical compared to others.\n",
    "\n",
    "I believe it is the same problem faced by using one-hot-encoding, which is actually kind of off-putting since we used H2o to avoid this problem!"
   ]
  },
  {
   "cell_type": "code",
   "execution_count": 340,
   "metadata": {
    "ExecuteTime": {
     "end_time": "2019-06-23T23:24:11.731296Z",
     "start_time": "2019-06-23T23:24:11.545165Z"
    }
   },
   "outputs": [
    {
     "data": {
      "image/png": "[encoded data removed]",
      "text/plain": [
       "<Figure size 1008x720 with 1 Axes>"
      ]
     },
     "metadata": {},
     "output_type": "display_data"
    }
   ],
   "source": [
    "RF.varimp_plot()"
   ]
  },
  {
   "cell_type": "markdown",
   "metadata": {},
   "source": [
    "Below we compare the distributions of the time data for the two classes, and we can see why it might be useful to the model (regions of the graph with no overlap)."
   ]
  },
  {
   "cell_type": "code",
   "execution_count": 341,
   "metadata": {
    "ExecuteTime": {
     "end_time": "2019-06-23T23:24:12.291153Z",
     "start_time": "2019-06-23T23:24:11.734153Z"
    }
   },
   "outputs": [
    {
     "data": {
      "text/plain": [
       "<matplotlib.legend.Legend at 0x23da7025780>"
      ]
     },
     "execution_count": 341,
     "metadata": {},
     "output_type": "execute_result"
    },
    {
     "data": {
      "image/png": "[encoded data removed]",
      "text/plain": [
       "<Figure size 1080x648 with 1 Axes>"
      ]
     },
     "metadata": {},
     "output_type": "display_data"
    }
   ],
   "source": [
    "plt.figure(figsize=(15, 9))\n",
    "sns.distplot(visas[visas['CASE_STATUS'] == 0]['PROCESS_LENGTH'])\n",
    "sns.distplot(visas[visas['CASE_STATUS'] == 1]['PROCESS_LENGTH'])\n",
    "plt.legend(('rejected', 'approved'))"
   ]
  },
  {
   "cell_type": "code",
   "execution_count": 342,
   "metadata": {
    "ExecuteTime": {
     "end_time": "2019-06-23T23:24:15.787292Z",
     "start_time": "2019-06-23T23:24:12.293153Z"
    }
   },
   "outputs": [
    {
     "data": {
      "text/plain": [
       "<matplotlib.legend.Legend at 0x23da62460f0>"
      ]
     },
     "execution_count": 342,
     "metadata": {},
     "output_type": "execute_result"
    },
    {
     "data": {
      "image/png": "[encoded data removed]",
      "text/plain": [
       "<Figure size 1080x648 with 1 Axes>"
      ]
     },
     "metadata": {},
     "output_type": "display_data"
    }
   ],
   "source": [
    "visas[['decision_day', 'received_day']] = visas[['DECISION_DATE', 'CASE_RECEIVED_DATE']].applymap(lambda x: x.toordinal() if pd.notnull(x) else x).astype('int64')\n",
    "#FY is Oct 1 '17 - Sept 30 '18'\n",
    "plt.figure(figsize=(15, 9))\n",
    "sns.distplot(visas[visas['CASE_STATUS'] == 0]['decision_day'])\n",
    "sns.distplot(visas[visas['CASE_STATUS'] == 1]['decision_day'])\n",
    "plt.legend(('rejected', 'approved'))"
   ]
  },
  {
   "cell_type": "code",
   "execution_count": 343,
   "metadata": {
    "ExecuteTime": {
     "end_time": "2019-06-23T23:24:16.406153Z",
     "start_time": "2019-06-23T23:24:15.790153Z"
    }
   },
   "outputs": [
    {
     "data": {
      "text/plain": [
       "<matplotlib.legend.Legend at 0x23da7dc8b00>"
      ]
     },
     "execution_count": 343,
     "metadata": {},
     "output_type": "execute_result"
    },
    {
     "data": {
      "image/png": "[encoded data removed]",
      "text/plain": [
       "<Figure size 1080x648 with 1 Axes>"
      ]
     },
     "metadata": {},
     "output_type": "display_data"
    }
   ],
   "source": [
    "plt.figure(figsize=(15, 9))\n",
    "sns.distplot(visas[visas['CASE_STATUS'] == 0]['received_day'])\n",
    "sns.distplot(visas[visas['CASE_STATUS'] == 1]['received_day'])\n",
    "plt.legend(('rejected', 'approved'))"
   ]
  },
  {
   "cell_type": "markdown",
   "metadata": {},
   "source": [
    "# Final Thoughts"
   ]
  },
  {
   "cell_type": "markdown",
   "metadata": {},
   "source": [
    "Remember our inital goals for this project:\n",
    "\n",
    "To determine if in the data the criteria set by the agency are followed:\n",
    "1. The offering wage has to be over the prevailing wage\n",
    "2. The position advertised in newspapers ads on two seperate occassions in the specified time-frame\n",
    "\n",
    "We answered yes for #1 from our EDA and found #2 to be mostly true. While these were useful to obtain high precision for rejected, it didn't help for classifying approved applications. Besides the criteria, we were interested in if job positions and firm representation had any effect on the outcome. We found that larger firms did tend to have higher quality applications, but it wasn't an important feature in our model. Job position, however was."
   ]
  }
 ],
 "metadata": {
  "kernelspec": {
   "display_name": "Python 3",
   "language": "python",
   "name": "python3"
  },
  "language_info": {
   "codemirror_mode": {
    "name": "ipython",
    "version": 3
   },
   "file_extension": ".py",
   "mimetype": "text/x-python",
   "name": "python",
   "nbconvert_exporter": "python",
   "pygments_lexer": "ipython3",
   "version": "3.7.1"
  },
  "notify_time": "10"
 },
 "nbformat": 4,
 "nbformat_minor": 2
}
